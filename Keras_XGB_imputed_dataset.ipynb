{
 "cells": [
  {
   "cell_type": "code",
   "execution_count": 1,
   "metadata": {
    "collapsed": true
   },
   "outputs": [],
   "source": [
    "import pandas as pd\n",
    "import numpy as np"
   ]
  },
  {
   "cell_type": "code",
   "execution_count": 2,
   "metadata": {},
   "outputs": [
    {
     "name": "stderr",
     "output_type": "stream",
     "text": [
      "Using TensorFlow backend.\n"
     ]
    }
   ],
   "source": [
    "from keras import backend as K\n",
    "from keras.layers import Input, Embedding, merge"
   ]
  },
  {
   "cell_type": "code",
   "execution_count": 42,
   "metadata": {
    "collapsed": true
   },
   "outputs": [],
   "source": [
    "from keras.regularizers import l2, l1\n",
    "from keras.layers.core import Flatten, Dense, Dropout, Lambda\n",
    "from keras.models import Sequential, Model\n",
    "from keras.optimizers import SGD, RMSprop, Adam\n",
    "from keras.layers import Input, Dense\n"
   ]
  },
  {
   "cell_type": "code",
   "execution_count": null,
   "metadata": {
    "collapsed": true
   },
   "outputs": [],
   "source": []
  },
  {
   "cell_type": "code",
   "execution_count": 114,
   "metadata": {},
   "outputs": [],
   "source": [
    "matches = pd.read_csv('lol_matches_imputed2')# this imputation method uses avgs across dataset  missing data. , the other uses a static 1 win 2 losses"
   ]
  },
  {
   "cell_type": "code",
   "execution_count": 115,
   "metadata": {},
   "outputs": [
    {
     "data": {
      "text/plain": [
       "(71933, 84)"
      ]
     },
     "execution_count": 115,
     "metadata": {},
     "output_type": "execute_result"
    }
   ],
   "source": [
    "matches.shape"
   ]
  },
  {
   "cell_type": "code",
   "execution_count": 116,
   "metadata": {},
   "outputs": [
    {
     "data": {
      "text/plain": [
       "6.23.166.2676    57118\n",
       "6.22.165.9605     2575\n",
       "7.13.192.6794     1934\n",
       "7.12.190.9002     1183\n",
       "7.10.187.9675     1107\n",
       "6.24.169.4424      854\n",
       "7.11.189.942       831\n",
       "7.9.186.8155       777\n",
       "7.5.178.6844       753\n",
       "7.2.174.829        713\n",
       "7.6.181.2079       672\n",
       "7.8.184.113        640\n",
       "7.3.175.271        604\n",
       "7.7.182.1428       431\n",
       "7.1.172.6393       351\n",
       "7.4.176.9828       292\n",
       "7.7.183.8394       257\n",
       "7.1.171.6847       234\n",
       "7.4.178.5050       233\n",
       "6.24.168.1268      129\n",
       "7.9.186.1051       126\n",
       "7.2.173.3544        58\n",
       "7.6.180.6903        57\n",
       "6.1.0.484            4\n",
       "Name: patch_version, dtype: int64"
      ]
     },
     "execution_count": 116,
     "metadata": {},
     "output_type": "execute_result"
    }
   ],
   "source": [
    "matches['patch_version'].value_counts()"
   ]
  },
  {
   "cell_type": "markdown",
   "metadata": {},
   "source": [
    "Despite my best effors, I have a larqe quantity of 6.23 matches. "
   ]
  },
  {
   "cell_type": "code",
   "execution_count": 117,
   "metadata": {
    "collapsed": true
   },
   "outputs": [],
   "source": [
    "matches_s6 = matches[matches['patch_version']=='6.23.166.2676']\n",
    "#matches_s713= matches[matches['patch_version']=='7.13.192.6794']\n",
    "#matches_s712= matches[matches['patch_version']=='7.12.190.9002']"
   ]
  },
  {
   "cell_type": "code",
   "execution_count": 118,
   "metadata": {
    "collapsed": true
   },
   "outputs": [],
   "source": [
    "#matches_s6 = matches\n"
   ]
  },
  {
   "cell_type": "code",
   "execution_count": 119,
   "metadata": {},
   "outputs": [
    {
     "data": {
      "text/plain": [
       "Index(['Unnamed: 0', 'patch_version', 'team1DUO_CARRY', 'team1DUO_CARRY_cl',\n",
       "       'team1DUO_CARRY_cpp', 'team1DUO_CARRY_cw', 'team1DUO_CARRY_cwp',\n",
       "       'team1DUO_CARRY_ol', 'team1DUO_CARRY_ow', 'team1DUO_CARRY_owp',\n",
       "       'team1DUO_SUPPORT', 'team1DUO_SUPPORT_cl', 'team1DUO_SUPPORT_cpp',\n",
       "       'team1DUO_SUPPORT_cw', 'team1DUO_SUPPORT_cwp', 'team1DUO_SUPPORT_ol',\n",
       "       'team1DUO_SUPPORT_ow', 'team1DUO_SUPPORT_owp', 'team1JUNGLE',\n",
       "       'team1JUNGLE_cl', 'team1JUNGLE_cpp', 'team1JUNGLE_cw',\n",
       "       'team1JUNGLE_cwp', 'team1JUNGLE_ol', 'team1JUNGLE_ow',\n",
       "       'team1JUNGLE_owp', 'team1MIDDLE', 'team1MIDDLE_cl', 'team1MIDDLE_cpp',\n",
       "       'team1MIDDLE_cw', 'team1MIDDLE_cwp', 'team1MIDDLE_ol', 'team1MIDDLE_ow',\n",
       "       'team1MIDDLE_owp', 'team1TOP', 'team1TOP_cl', 'team1TOP_cpp',\n",
       "       'team1TOP_cw', 'team1TOP_cwp', 'team1TOP_ol', 'team1TOP_ow',\n",
       "       'team1TOP_owp', 'team1_win', 'team2DUO_CARRY', 'team2DUO_CARRY_cl',\n",
       "       'team2DUO_CARRY_cpp', 'team2DUO_CARRY_cw', 'team2DUO_CARRY_cwp',\n",
       "       'team2DUO_CARRY_ol', 'team2DUO_CARRY_ow', 'team2DUO_CARRY_owp',\n",
       "       'team2DUO_SUPPORT', 'team2DUO_SUPPORT_cl', 'team2DUO_SUPPORT_cpp',\n",
       "       'team2DUO_SUPPORT_cw', 'team2DUO_SUPPORT_cwp', 'team2DUO_SUPPORT_ol',\n",
       "       'team2DUO_SUPPORT_ow', 'team2DUO_SUPPORT_owp', 'team2JUNGLE',\n",
       "       'team2JUNGLE_cl', 'team2JUNGLE_cpp', 'team2JUNGLE_cw',\n",
       "       'team2JUNGLE_cwp', 'team2JUNGLE_ol', 'team2JUNGLE_ow',\n",
       "       'team2JUNGLE_owp', 'team2MIDDLE', 'team2MIDDLE_cl', 'team2MIDDLE_cpp',\n",
       "       'team2MIDDLE_cw', 'team2MIDDLE_cwp', 'team2MIDDLE_ol', 'team2MIDDLE_ow',\n",
       "       'team2MIDDLE_owp', 'team2TOP', 'team2TOP_cl', 'team2TOP_cpp',\n",
       "       'team2TOP_cw', 'team2TOP_cwp', 'team2TOP_ol', 'team2TOP_ow',\n",
       "       'team2TOP_owp', 'team2_win'],\n",
       "      dtype='object')"
      ]
     },
     "execution_count": 119,
     "metadata": {},
     "output_type": "execute_result"
    }
   ],
   "source": [
    "matches_s6.columns"
   ]
  },
  {
   "cell_type": "code",
   "execution_count": 120,
   "metadata": {},
   "outputs": [
    {
     "name": "stderr",
     "output_type": "stream",
     "text": [
      "/usr/local/lib/python3.5/dist-packages/ipykernel_launcher.py:1: SettingWithCopyWarning: \n",
      "A value is trying to be set on a copy of a slice from a DataFrame.\n",
      "Try using .loc[row_indexer,col_indexer] = value instead\n",
      "\n",
      "See the caveats in the documentation: http://pandas.pydata.org/pandas-docs/stable/indexing.html#indexing-view-versus-copy\n",
      "  \"\"\"Entry point for launching an IPython kernel.\n",
      "/usr/local/lib/python3.5/dist-packages/ipykernel_launcher.py:2: SettingWithCopyWarning: \n",
      "A value is trying to be set on a copy of a slice from a DataFrame.\n",
      "Try using .loc[row_indexer,col_indexer] = value instead\n",
      "\n",
      "See the caveats in the documentation: http://pandas.pydata.org/pandas-docs/stable/indexing.html#indexing-view-versus-copy\n",
      "  \n"
     ]
    },
    {
     "data": {
      "text/html": [
       "<div>\n",
       "<style>\n",
       "    .dataframe thead tr:only-child th {\n",
       "        text-align: right;\n",
       "    }\n",
       "\n",
       "    .dataframe thead th {\n",
       "        text-align: left;\n",
       "    }\n",
       "\n",
       "    .dataframe tbody tr th {\n",
       "        vertical-align: top;\n",
       "    }\n",
       "</style>\n",
       "<table border=\"1\" class=\"dataframe\">\n",
       "  <thead>\n",
       "    <tr style=\"text-align: right;\">\n",
       "      <th></th>\n",
       "      <th>Unnamed: 0</th>\n",
       "      <th>patch_version</th>\n",
       "      <th>team1DUO_CARRY</th>\n",
       "      <th>team1DUO_CARRY_cl</th>\n",
       "      <th>team1DUO_CARRY_cpp</th>\n",
       "      <th>team1DUO_CARRY_cw</th>\n",
       "      <th>team1DUO_CARRY_cwp</th>\n",
       "      <th>team1DUO_CARRY_ol</th>\n",
       "      <th>team1DUO_CARRY_ow</th>\n",
       "      <th>team1DUO_CARRY_owp</th>\n",
       "      <th>...</th>\n",
       "      <th>team2TOP_cl</th>\n",
       "      <th>team2TOP_cpp</th>\n",
       "      <th>team2TOP_cw</th>\n",
       "      <th>team2TOP_cwp</th>\n",
       "      <th>team2TOP_ol</th>\n",
       "      <th>team2TOP_ow</th>\n",
       "      <th>team2TOP_owp</th>\n",
       "      <th>team2_win</th>\n",
       "      <th>team1</th>\n",
       "      <th>team2</th>\n",
       "    </tr>\n",
       "  </thead>\n",
       "  <tbody>\n",
       "    <tr>\n",
       "      <th>927</th>\n",
       "      <td>1116</td>\n",
       "      <td>6.23.166.2676</td>\n",
       "      <td>81.0</td>\n",
       "      <td>2.0</td>\n",
       "      <td>0.004975</td>\n",
       "      <td>1.0</td>\n",
       "      <td>0.333333</td>\n",
       "      <td>287.0</td>\n",
       "      <td>316.0</td>\n",
       "      <td>0.524046</td>\n",
       "      <td>...</td>\n",
       "      <td>2.0</td>\n",
       "      <td>0.006369</td>\n",
       "      <td>1.0</td>\n",
       "      <td>0.333333</td>\n",
       "      <td>209.0</td>\n",
       "      <td>262.0</td>\n",
       "      <td>0.556263</td>\n",
       "      <td>True</td>\n",
       "      <td>0</td>\n",
       "      <td>1</td>\n",
       "    </tr>\n",
       "    <tr>\n",
       "      <th>928</th>\n",
       "      <td>1117</td>\n",
       "      <td>6.23.166.2676</td>\n",
       "      <td>202.0</td>\n",
       "      <td>2.0</td>\n",
       "      <td>0.002620</td>\n",
       "      <td>1.0</td>\n",
       "      <td>0.333333</td>\n",
       "      <td>548.0</td>\n",
       "      <td>597.0</td>\n",
       "      <td>0.521397</td>\n",
       "      <td>...</td>\n",
       "      <td>2.0</td>\n",
       "      <td>0.003030</td>\n",
       "      <td>1.0</td>\n",
       "      <td>0.333333</td>\n",
       "      <td>477.0</td>\n",
       "      <td>513.0</td>\n",
       "      <td>0.518182</td>\n",
       "      <td>True</td>\n",
       "      <td>0</td>\n",
       "      <td>1</td>\n",
       "    </tr>\n",
       "    <tr>\n",
       "      <th>929</th>\n",
       "      <td>1118</td>\n",
       "      <td>6.23.166.2676</td>\n",
       "      <td>119.0</td>\n",
       "      <td>2.0</td>\n",
       "      <td>0.029126</td>\n",
       "      <td>1.0</td>\n",
       "      <td>0.333333</td>\n",
       "      <td>32.0</td>\n",
       "      <td>71.0</td>\n",
       "      <td>0.689320</td>\n",
       "      <td>...</td>\n",
       "      <td>2.0</td>\n",
       "      <td>0.008065</td>\n",
       "      <td>1.0</td>\n",
       "      <td>0.333333</td>\n",
       "      <td>182.0</td>\n",
       "      <td>190.0</td>\n",
       "      <td>0.510753</td>\n",
       "      <td>False</td>\n",
       "      <td>1</td>\n",
       "      <td>0</td>\n",
       "    </tr>\n",
       "    <tr>\n",
       "      <th>930</th>\n",
       "      <td>1119</td>\n",
       "      <td>6.23.166.2676</td>\n",
       "      <td>81.0</td>\n",
       "      <td>2.0</td>\n",
       "      <td>0.004769</td>\n",
       "      <td>1.0</td>\n",
       "      <td>0.333333</td>\n",
       "      <td>260.0</td>\n",
       "      <td>369.0</td>\n",
       "      <td>0.586645</td>\n",
       "      <td>...</td>\n",
       "      <td>2.0</td>\n",
       "      <td>0.002611</td>\n",
       "      <td>1.0</td>\n",
       "      <td>0.333333</td>\n",
       "      <td>570.0</td>\n",
       "      <td>579.0</td>\n",
       "      <td>0.503916</td>\n",
       "      <td>False</td>\n",
       "      <td>1</td>\n",
       "      <td>0</td>\n",
       "    </tr>\n",
       "    <tr>\n",
       "      <th>931</th>\n",
       "      <td>1120</td>\n",
       "      <td>6.23.166.2676</td>\n",
       "      <td>202.0</td>\n",
       "      <td>2.0</td>\n",
       "      <td>0.004769</td>\n",
       "      <td>1.0</td>\n",
       "      <td>0.333333</td>\n",
       "      <td>260.0</td>\n",
       "      <td>369.0</td>\n",
       "      <td>0.586645</td>\n",
       "      <td>...</td>\n",
       "      <td>2.0</td>\n",
       "      <td>0.005068</td>\n",
       "      <td>1.0</td>\n",
       "      <td>0.333333</td>\n",
       "      <td>270.0</td>\n",
       "      <td>322.0</td>\n",
       "      <td>0.543919</td>\n",
       "      <td>False</td>\n",
       "      <td>1</td>\n",
       "      <td>0</td>\n",
       "    </tr>\n",
       "  </tbody>\n",
       "</table>\n",
       "<p>5 rows × 86 columns</p>\n",
       "</div>"
      ],
      "text/plain": [
       "     Unnamed: 0  patch_version  team1DUO_CARRY  team1DUO_CARRY_cl  \\\n",
       "927        1116  6.23.166.2676            81.0                2.0   \n",
       "928        1117  6.23.166.2676           202.0                2.0   \n",
       "929        1118  6.23.166.2676           119.0                2.0   \n",
       "930        1119  6.23.166.2676            81.0                2.0   \n",
       "931        1120  6.23.166.2676           202.0                2.0   \n",
       "\n",
       "     team1DUO_CARRY_cpp  team1DUO_CARRY_cw  team1DUO_CARRY_cwp  \\\n",
       "927            0.004975                1.0            0.333333   \n",
       "928            0.002620                1.0            0.333333   \n",
       "929            0.029126                1.0            0.333333   \n",
       "930            0.004769                1.0            0.333333   \n",
       "931            0.004769                1.0            0.333333   \n",
       "\n",
       "     team1DUO_CARRY_ol  team1DUO_CARRY_ow  team1DUO_CARRY_owp  ...    \\\n",
       "927              287.0              316.0            0.524046  ...     \n",
       "928              548.0              597.0            0.521397  ...     \n",
       "929               32.0               71.0            0.689320  ...     \n",
       "930              260.0              369.0            0.586645  ...     \n",
       "931              260.0              369.0            0.586645  ...     \n",
       "\n",
       "     team2TOP_cl  team2TOP_cpp  team2TOP_cw  team2TOP_cwp  team2TOP_ol  \\\n",
       "927          2.0      0.006369          1.0      0.333333        209.0   \n",
       "928          2.0      0.003030          1.0      0.333333        477.0   \n",
       "929          2.0      0.008065          1.0      0.333333        182.0   \n",
       "930          2.0      0.002611          1.0      0.333333        570.0   \n",
       "931          2.0      0.005068          1.0      0.333333        270.0   \n",
       "\n",
       "     team2TOP_ow  team2TOP_owp  team2_win  team1  team2  \n",
       "927        262.0      0.556263       True      0      1  \n",
       "928        513.0      0.518182       True      0      1  \n",
       "929        190.0      0.510753      False      1      0  \n",
       "930        579.0      0.503916      False      1      0  \n",
       "931        322.0      0.543919      False      1      0  \n",
       "\n",
       "[5 rows x 86 columns]"
      ]
     },
     "execution_count": 120,
     "metadata": {},
     "output_type": "execute_result"
    }
   ],
   "source": [
    "matches_s6['team1']=matches_s6['team1_win'].astype('int')\n",
    "matches_s6['team2']=matches_s6['team2_win'].astype('int')\n",
    "matches_s6.head()"
   ]
  },
  {
   "cell_type": "code",
   "execution_count": 121,
   "metadata": {
    "collapsed": true
   },
   "outputs": [],
   "source": [
    "laneslist = [\n",
    "    'team1TOP',\n",
    "    'team1MIDDLE',\n",
    "    'team1JUNGLE',\n",
    "    'team1DUO_CARRY',\n",
    "    'team1DUO_SUPPORT',\n",
    "    'team2TOP',\n",
    "    'team2MIDDLE',\n",
    "    'team2JUNGLE',\n",
    "    'team2DUO_CARRY',\n",
    "    'team2DUO_SUPPORT'\n",
    "    \n",
    "    \n",
    "]"
   ]
  },
  {
   "cell_type": "code",
   "execution_count": 122,
   "metadata": {},
   "outputs": [
    {
     "data": {
      "text/plain": [
       "['Unnamed: 0',\n",
       " 'patch_version',\n",
       " 'team1DUO_CARRY',\n",
       " 'team1DUO_CARRY_cl',\n",
       " 'team1DUO_CARRY_cpp',\n",
       " 'team1DUO_CARRY_cw',\n",
       " 'team1DUO_CARRY_cwp',\n",
       " 'team1DUO_CARRY_ol',\n",
       " 'team1DUO_CARRY_ow',\n",
       " 'team1DUO_CARRY_owp',\n",
       " 'team1DUO_SUPPORT',\n",
       " 'team1DUO_SUPPORT_cl',\n",
       " 'team1DUO_SUPPORT_cpp',\n",
       " 'team1DUO_SUPPORT_cw',\n",
       " 'team1DUO_SUPPORT_cwp',\n",
       " 'team1DUO_SUPPORT_ol',\n",
       " 'team1DUO_SUPPORT_ow',\n",
       " 'team1DUO_SUPPORT_owp',\n",
       " 'team1JUNGLE',\n",
       " 'team1JUNGLE_cl',\n",
       " 'team1JUNGLE_cpp',\n",
       " 'team1JUNGLE_cw',\n",
       " 'team1JUNGLE_cwp',\n",
       " 'team1JUNGLE_ol',\n",
       " 'team1JUNGLE_ow',\n",
       " 'team1JUNGLE_owp',\n",
       " 'team1MIDDLE',\n",
       " 'team1MIDDLE_cl',\n",
       " 'team1MIDDLE_cpp',\n",
       " 'team1MIDDLE_cw',\n",
       " 'team1MIDDLE_cwp',\n",
       " 'team1MIDDLE_ol',\n",
       " 'team1MIDDLE_ow',\n",
       " 'team1MIDDLE_owp',\n",
       " 'team1TOP',\n",
       " 'team1TOP_cl',\n",
       " 'team1TOP_cpp',\n",
       " 'team1TOP_cw',\n",
       " 'team1TOP_cwp',\n",
       " 'team1TOP_ol',\n",
       " 'team1TOP_ow',\n",
       " 'team1TOP_owp',\n",
       " 'team1_win',\n",
       " 'team2DUO_CARRY',\n",
       " 'team2DUO_CARRY_cl',\n",
       " 'team2DUO_CARRY_cpp',\n",
       " 'team2DUO_CARRY_cw',\n",
       " 'team2DUO_CARRY_cwp',\n",
       " 'team2DUO_CARRY_ol',\n",
       " 'team2DUO_CARRY_ow',\n",
       " 'team2DUO_CARRY_owp',\n",
       " 'team2DUO_SUPPORT',\n",
       " 'team2DUO_SUPPORT_cl',\n",
       " 'team2DUO_SUPPORT_cpp',\n",
       " 'team2DUO_SUPPORT_cw',\n",
       " 'team2DUO_SUPPORT_cwp',\n",
       " 'team2DUO_SUPPORT_ol',\n",
       " 'team2DUO_SUPPORT_ow',\n",
       " 'team2DUO_SUPPORT_owp',\n",
       " 'team2JUNGLE',\n",
       " 'team2JUNGLE_cl',\n",
       " 'team2JUNGLE_cpp',\n",
       " 'team2JUNGLE_cw',\n",
       " 'team2JUNGLE_cwp',\n",
       " 'team2JUNGLE_ol',\n",
       " 'team2JUNGLE_ow',\n",
       " 'team2JUNGLE_owp',\n",
       " 'team2MIDDLE',\n",
       " 'team2MIDDLE_cl',\n",
       " 'team2MIDDLE_cpp',\n",
       " 'team2MIDDLE_cw',\n",
       " 'team2MIDDLE_cwp',\n",
       " 'team2MIDDLE_ol',\n",
       " 'team2MIDDLE_ow',\n",
       " 'team2MIDDLE_owp',\n",
       " 'team2TOP',\n",
       " 'team2TOP_cl',\n",
       " 'team2TOP_cpp',\n",
       " 'team2TOP_cw',\n",
       " 'team2TOP_cwp',\n",
       " 'team2TOP_ol',\n",
       " 'team2TOP_ow',\n",
       " 'team2TOP_owp',\n",
       " 'team2_win',\n",
       " 'team1',\n",
       " 'team2']"
      ]
     },
     "execution_count": 122,
     "metadata": {},
     "output_type": "execute_result"
    }
   ],
   "source": [
    "list(matches_s6.columns)"
   ]
  },
  {
   "cell_type": "code",
   "execution_count": null,
   "metadata": {
    "collapsed": true
   },
   "outputs": [],
   "source": []
  },
  {
   "cell_type": "markdown",
   "metadata": {},
   "source": [
    "Next we need to re-order champions"
   ]
  },
  {
   "cell_type": "code",
   "execution_count": 123,
   "metadata": {
    "collapsed": true
   },
   "outputs": [],
   "source": [
    "champs = []\n",
    "for num in range(0,10):\n",
    "    columname= laneslist[num]\n",
    "    champs = champs + list(matches_s6[columname].unique())"
   ]
  },
  {
   "cell_type": "code",
   "execution_count": 124,
   "metadata": {},
   "outputs": [],
   "source": [
    "champs = list(set(champs))"
   ]
  },
  {
   "cell_type": "code",
   "execution_count": 125,
   "metadata": {},
   "outputs": [
    {
     "data": {
      "text/plain": [
       "133"
      ]
     },
     "execution_count": 125,
     "metadata": {},
     "output_type": "execute_result"
    }
   ],
   "source": [
    "len(champs)"
   ]
  },
  {
   "cell_type": "code",
   "execution_count": 126,
   "metadata": {
    "collapsed": true
   },
   "outputs": [],
   "source": [
    "champs2idx = {o:i for i,o in enumerate(champs)} # remove missing champions numbers and re-order"
   ]
  },
  {
   "cell_type": "code",
   "execution_count": 127,
   "metadata": {},
   "outputs": [
    {
     "name": "stderr",
     "output_type": "stream",
     "text": [
      "/usr/local/lib/python3.5/dist-packages/ipykernel_launcher.py:3: SettingWithCopyWarning: \n",
      "A value is trying to be set on a copy of a slice from a DataFrame.\n",
      "Try using .loc[row_indexer,col_indexer] = value instead\n",
      "\n",
      "See the caveats in the documentation: http://pandas.pydata.org/pandas-docs/stable/indexing.html#indexing-view-versus-copy\n",
      "  This is separate from the ipykernel package so we can avoid doing imports until\n"
     ]
    }
   ],
   "source": [
    "for num in range(0,10):\n",
    "    columname= laneslist[num]\n",
    "    matches_s6[columname]=matches_s6[columname].apply(lambda x: champs2idx[x])"
   ]
  },
  {
   "cell_type": "code",
   "execution_count": 128,
   "metadata": {},
   "outputs": [
    {
     "data": {
      "text/html": [
       "<div>\n",
       "<style>\n",
       "    .dataframe thead tr:only-child th {\n",
       "        text-align: right;\n",
       "    }\n",
       "\n",
       "    .dataframe thead th {\n",
       "        text-align: left;\n",
       "    }\n",
       "\n",
       "    .dataframe tbody tr th {\n",
       "        vertical-align: top;\n",
       "    }\n",
       "</style>\n",
       "<table border=\"1\" class=\"dataframe\">\n",
       "  <thead>\n",
       "    <tr style=\"text-align: right;\">\n",
       "      <th></th>\n",
       "      <th>Unnamed: 0</th>\n",
       "      <th>patch_version</th>\n",
       "      <th>team1DUO_CARRY</th>\n",
       "      <th>team1DUO_CARRY_cl</th>\n",
       "      <th>team1DUO_CARRY_cpp</th>\n",
       "      <th>team1DUO_CARRY_cw</th>\n",
       "      <th>team1DUO_CARRY_cwp</th>\n",
       "      <th>team1DUO_CARRY_ol</th>\n",
       "      <th>team1DUO_CARRY_ow</th>\n",
       "      <th>team1DUO_CARRY_owp</th>\n",
       "      <th>...</th>\n",
       "      <th>team2TOP_cl</th>\n",
       "      <th>team2TOP_cpp</th>\n",
       "      <th>team2TOP_cw</th>\n",
       "      <th>team2TOP_cwp</th>\n",
       "      <th>team2TOP_ol</th>\n",
       "      <th>team2TOP_ow</th>\n",
       "      <th>team2TOP_owp</th>\n",
       "      <th>team2_win</th>\n",
       "      <th>team1</th>\n",
       "      <th>team2</th>\n",
       "    </tr>\n",
       "  </thead>\n",
       "  <tbody>\n",
       "    <tr>\n",
       "      <th>927</th>\n",
       "      <td>1116</td>\n",
       "      <td>6.23.166.2676</td>\n",
       "      <td>71</td>\n",
       "      <td>2.0</td>\n",
       "      <td>0.004975</td>\n",
       "      <td>1.0</td>\n",
       "      <td>0.333333</td>\n",
       "      <td>287.0</td>\n",
       "      <td>316.0</td>\n",
       "      <td>0.524046</td>\n",
       "      <td>...</td>\n",
       "      <td>2.0</td>\n",
       "      <td>0.006369</td>\n",
       "      <td>1.0</td>\n",
       "      <td>0.333333</td>\n",
       "      <td>209.0</td>\n",
       "      <td>262.0</td>\n",
       "      <td>0.556263</td>\n",
       "      <td>True</td>\n",
       "      <td>0</td>\n",
       "      <td>1</td>\n",
       "    </tr>\n",
       "    <tr>\n",
       "      <th>928</th>\n",
       "      <td>1117</td>\n",
       "      <td>6.23.166.2676</td>\n",
       "      <td>115</td>\n",
       "      <td>2.0</td>\n",
       "      <td>0.002620</td>\n",
       "      <td>1.0</td>\n",
       "      <td>0.333333</td>\n",
       "      <td>548.0</td>\n",
       "      <td>597.0</td>\n",
       "      <td>0.521397</td>\n",
       "      <td>...</td>\n",
       "      <td>2.0</td>\n",
       "      <td>0.003030</td>\n",
       "      <td>1.0</td>\n",
       "      <td>0.333333</td>\n",
       "      <td>477.0</td>\n",
       "      <td>513.0</td>\n",
       "      <td>0.518182</td>\n",
       "      <td>True</td>\n",
       "      <td>0</td>\n",
       "      <td>1</td>\n",
       "    </tr>\n",
       "    <tr>\n",
       "      <th>929</th>\n",
       "      <td>1118</td>\n",
       "      <td>6.23.166.2676</td>\n",
       "      <td>98</td>\n",
       "      <td>2.0</td>\n",
       "      <td>0.029126</td>\n",
       "      <td>1.0</td>\n",
       "      <td>0.333333</td>\n",
       "      <td>32.0</td>\n",
       "      <td>71.0</td>\n",
       "      <td>0.689320</td>\n",
       "      <td>...</td>\n",
       "      <td>2.0</td>\n",
       "      <td>0.008065</td>\n",
       "      <td>1.0</td>\n",
       "      <td>0.333333</td>\n",
       "      <td>182.0</td>\n",
       "      <td>190.0</td>\n",
       "      <td>0.510753</td>\n",
       "      <td>False</td>\n",
       "      <td>1</td>\n",
       "      <td>0</td>\n",
       "    </tr>\n",
       "    <tr>\n",
       "      <th>930</th>\n",
       "      <td>1119</td>\n",
       "      <td>6.23.166.2676</td>\n",
       "      <td>71</td>\n",
       "      <td>2.0</td>\n",
       "      <td>0.004769</td>\n",
       "      <td>1.0</td>\n",
       "      <td>0.333333</td>\n",
       "      <td>260.0</td>\n",
       "      <td>369.0</td>\n",
       "      <td>0.586645</td>\n",
       "      <td>...</td>\n",
       "      <td>2.0</td>\n",
       "      <td>0.002611</td>\n",
       "      <td>1.0</td>\n",
       "      <td>0.333333</td>\n",
       "      <td>570.0</td>\n",
       "      <td>579.0</td>\n",
       "      <td>0.503916</td>\n",
       "      <td>False</td>\n",
       "      <td>1</td>\n",
       "      <td>0</td>\n",
       "    </tr>\n",
       "    <tr>\n",
       "      <th>931</th>\n",
       "      <td>1120</td>\n",
       "      <td>6.23.166.2676</td>\n",
       "      <td>115</td>\n",
       "      <td>2.0</td>\n",
       "      <td>0.004769</td>\n",
       "      <td>1.0</td>\n",
       "      <td>0.333333</td>\n",
       "      <td>260.0</td>\n",
       "      <td>369.0</td>\n",
       "      <td>0.586645</td>\n",
       "      <td>...</td>\n",
       "      <td>2.0</td>\n",
       "      <td>0.005068</td>\n",
       "      <td>1.0</td>\n",
       "      <td>0.333333</td>\n",
       "      <td>270.0</td>\n",
       "      <td>322.0</td>\n",
       "      <td>0.543919</td>\n",
       "      <td>False</td>\n",
       "      <td>1</td>\n",
       "      <td>0</td>\n",
       "    </tr>\n",
       "  </tbody>\n",
       "</table>\n",
       "<p>5 rows × 86 columns</p>\n",
       "</div>"
      ],
      "text/plain": [
       "     Unnamed: 0  patch_version  team1DUO_CARRY  team1DUO_CARRY_cl  \\\n",
       "927        1116  6.23.166.2676              71                2.0   \n",
       "928        1117  6.23.166.2676             115                2.0   \n",
       "929        1118  6.23.166.2676              98                2.0   \n",
       "930        1119  6.23.166.2676              71                2.0   \n",
       "931        1120  6.23.166.2676             115                2.0   \n",
       "\n",
       "     team1DUO_CARRY_cpp  team1DUO_CARRY_cw  team1DUO_CARRY_cwp  \\\n",
       "927            0.004975                1.0            0.333333   \n",
       "928            0.002620                1.0            0.333333   \n",
       "929            0.029126                1.0            0.333333   \n",
       "930            0.004769                1.0            0.333333   \n",
       "931            0.004769                1.0            0.333333   \n",
       "\n",
       "     team1DUO_CARRY_ol  team1DUO_CARRY_ow  team1DUO_CARRY_owp  ...    \\\n",
       "927              287.0              316.0            0.524046  ...     \n",
       "928              548.0              597.0            0.521397  ...     \n",
       "929               32.0               71.0            0.689320  ...     \n",
       "930              260.0              369.0            0.586645  ...     \n",
       "931              260.0              369.0            0.586645  ...     \n",
       "\n",
       "     team2TOP_cl  team2TOP_cpp  team2TOP_cw  team2TOP_cwp  team2TOP_ol  \\\n",
       "927          2.0      0.006369          1.0      0.333333        209.0   \n",
       "928          2.0      0.003030          1.0      0.333333        477.0   \n",
       "929          2.0      0.008065          1.0      0.333333        182.0   \n",
       "930          2.0      0.002611          1.0      0.333333        570.0   \n",
       "931          2.0      0.005068          1.0      0.333333        270.0   \n",
       "\n",
       "     team2TOP_ow  team2TOP_owp  team2_win  team1  team2  \n",
       "927        262.0      0.556263       True      0      1  \n",
       "928        513.0      0.518182       True      0      1  \n",
       "929        190.0      0.510753      False      1      0  \n",
       "930        579.0      0.503916      False      1      0  \n",
       "931        322.0      0.543919      False      1      0  \n",
       "\n",
       "[5 rows x 86 columns]"
      ]
     },
     "execution_count": 128,
     "metadata": {},
     "output_type": "execute_result"
    }
   ],
   "source": [
    "matches_s6.head()"
   ]
  },
  {
   "cell_type": "code",
   "execution_count": 129,
   "metadata": {
    "collapsed": true
   },
   "outputs": [],
   "source": [
    "n_hidden_factors = 16"
   ]
  },
  {
   "cell_type": "code",
   "execution_count": 130,
   "metadata": {
    "collapsed": true
   },
   "outputs": [],
   "source": [
    "msk1 = np.random.rand(len(matches_s6)) < 0.8 #training vs test set ratio This is the same structure I use in my anime_rec engine\n",
    "trn1 = matches_s6[msk1]\n",
    "val1 = matches_s6[~msk1]"
   ]
  },
  {
   "cell_type": "code",
   "execution_count": 131,
   "metadata": {},
   "outputs": [],
   "source": [
    "def embedding_input_champion(name, n_in, n_out, reg):\n",
    "    inp = Input(shape=(1,), dtype='int64', name=name)\n",
    "    return inp, Embedding(n_in, n_out, input_length=1, W_regularizer=l2(reg))(inp)"
   ]
  },
  {
   "cell_type": "code",
   "execution_count": 132,
   "metadata": {},
   "outputs": [
    {
     "name": "stderr",
     "output_type": "stream",
     "text": [
      "/usr/local/lib/python3.5/dist-packages/ipykernel_launcher.py:3: UserWarning: Update your `Embedding` call to the Keras 2 API: `Embedding(134, 16, embeddings_regularizer=<keras.reg..., input_length=1)`\n",
      "  This is separate from the ipykernel package so we can avoid doing imports until\n"
     ]
    }
   ],
   "source": [
    "champion_in1, c1 = embedding_input_champion('champion_id1_in', 134, n_hidden_factors,0)\n",
    "champion_in2, c2 = embedding_input_champion('champion_id2_in', 134, n_hidden_factors, 0)\n",
    "champion_in3, c3 = embedding_input_champion('champion_id3_in', 134, n_hidden_factors, 0)\n",
    "champion_in4, c4 = embedding_input_champion('champion_id4_in', 134, n_hidden_factors, 0)\n",
    "champion_in5, c5 = embedding_input_champion('champion_id5_in', 134, n_hidden_factors, 0)\n",
    "champion_in6, c6 = embedding_input_champion('champion_id6_in', 134, n_hidden_factors, 0)\n",
    "champion_in7, c7 = embedding_input_champion('champion_id7_in', 134, n_hidden_factors, 0)\n",
    "champion_in8, c8 = embedding_input_champion('champion_id8_in', 134, n_hidden_factors, 0)\n",
    "champion_in9, c9 = embedding_input_champion('champion_id9_in', 134, n_hidden_factors, 0)\n",
    "champion_in10, c10 = embedding_input_champion('champion_id10_in', 134, n_hidden_factors, 0)"
   ]
  },
  {
   "cell_type": "code",
   "execution_count": 133,
   "metadata": {},
   "outputs": [
    {
     "name": "stderr",
     "output_type": "stream",
     "text": [
      "/usr/local/lib/python3.5/dist-packages/ipykernel_launcher.py:2: UserWarning: The `merge` function is deprecated and will be removed after 08/2017. Use instead layers from `keras.layers.merge`, e.g. `add`, `concatenate`, etc.\n",
      "  \n",
      "/usr/local/lib/python3.5/dist-packages/keras/legacy/layers.py:458: UserWarning: The `Merge` layer is deprecated and will be removed after 08/2017. Use instead layers from `keras.layers.merge`, e.g. `add`, `concatenate`, etc.\n",
      "  name=name)\n",
      "/usr/local/lib/python3.5/dist-packages/ipykernel_launcher.py:5: UserWarning: The `merge` function is deprecated and will be removed after 08/2017. Use instead layers from `keras.layers.merge`, e.g. `add`, `concatenate`, etc.\n",
      "  \"\"\"\n"
     ]
    }
   ],
   "source": [
    "c11 = Input(shape=(70,))\n",
    "x = merge([c1,c2,c3,c4,c5,c6,c7,c8,c9,c10], mode='concat', name='All_champion_Factors_on_one_layer')\n",
    "\n",
    "x= Flatten()(x)\n",
    "x=merge([x,c11],mode='concat')\n",
    "\n",
    "x = Dense(140, activation='sigmoid',name='Random_HF_Interactions1')(x)\n",
    "#x = Dropout(0.8,name='Prevent_overfit2')(x)\n",
    "x = Dense(80, activation='relu',name='Random_HF_Interactions2')(x)\n",
    "x = Dense(40, activation='sigmoid',name='Random_HF_Interactions3')(x)\n",
    "x = Dense(1,activation='sigmoid',name='Final_Interactions')(x)\n",
    "nn1 = Model([champion_in1,champion_in2,champion_in3,champion_in4,champion_in5,champion_in6,champion_in7,champion_in8,champion_in9,champion_in10,c11], x)\n",
    "nn1.compile(Adam(0.001), loss='binary_crossentropy', metrics=['accuracy'])"
   ]
  },
  {
   "cell_type": "code",
   "execution_count": 134,
   "metadata": {
    "collapsed": true
   },
   "outputs": [],
   "source": [
    "# now let's make an array of the 70 numeric features"
   ]
  },
  {
   "cell_type": "code",
   "execution_count": 135,
   "metadata": {
    "collapsed": true
   },
   "outputs": [],
   "source": [
    "featureslist =list(matches_s6.columns)"
   ]
  },
  {
   "cell_type": "code",
   "execution_count": 136,
   "metadata": {},
   "outputs": [],
   "source": [
    "xfeatureslist =[\n",
    " 'team1DUO_CARRY_cl',\n",
    " 'team1DUO_CARRY_cpp',\n",
    " 'team1DUO_CARRY_cw',\n",
    " 'team1DUO_CARRY_cwp',\n",
    " 'team1DUO_CARRY_ol',\n",
    " 'team1DUO_CARRY_ow',\n",
    " 'team1DUO_CARRY_owp',\n",
    " 'team1DUO_SUPPORT_cl',\n",
    " 'team1DUO_SUPPORT_cpp',\n",
    " 'team1DUO_SUPPORT_cw',\n",
    " 'team1DUO_SUPPORT_cwp',\n",
    " 'team1DUO_SUPPORT_ol',\n",
    " 'team1DUO_SUPPORT_ow',\n",
    " 'team1DUO_SUPPORT_owp',\n",
    " 'team1JUNGLE_cl',\n",
    " 'team1JUNGLE_cpp',\n",
    " 'team1JUNGLE_cw',\n",
    " 'team1JUNGLE_cwp',\n",
    " 'team1JUNGLE_ol',\n",
    " 'team1JUNGLE_ow',\n",
    " 'team1JUNGLE_owp',\n",
    " 'team1MIDDLE_cl',\n",
    " 'team1MIDDLE_cpp',\n",
    " 'team1MIDDLE_cw',\n",
    " 'team1MIDDLE_cwp',\n",
    " 'team1MIDDLE_ol',\n",
    " 'team1MIDDLE_ow',\n",
    " 'team1MIDDLE_owp',\n",
    " 'team1TOP_cl',\n",
    " 'team1TOP_cpp',\n",
    " 'team1TOP_cw',\n",
    " 'team1TOP_cwp',\n",
    " 'team1TOP_ol',\n",
    " 'team1TOP_ow',\n",
    " 'team1TOP_owp',\n",
    " 'team2DUO_CARRY_cl',\n",
    " 'team2DUO_CARRY_cpp',\n",
    " 'team2DUO_CARRY_cw',\n",
    " 'team2DUO_CARRY_cwp',\n",
    " 'team2DUO_CARRY_ol',\n",
    " 'team2DUO_CARRY_ow',\n",
    " 'team2DUO_CARRY_owp',\n",
    " 'team2DUO_SUPPORT_cl',\n",
    " 'team2DUO_SUPPORT_cpp',\n",
    " 'team2DUO_SUPPORT_cw',\n",
    " 'team2DUO_SUPPORT_cwp',\n",
    " 'team2DUO_SUPPORT_ol',\n",
    " 'team2DUO_SUPPORT_ow',\n",
    " 'team2DUO_SUPPORT_owp',\n",
    " 'team2JUNGLE_cl',\n",
    " 'team2JUNGLE_cpp',\n",
    " 'team2JUNGLE_cw',\n",
    " 'team2JUNGLE_cwp',\n",
    " 'team2JUNGLE_ol',\n",
    " 'team2JUNGLE_ow',\n",
    " 'team2JUNGLE_owp',\n",
    " 'team2MIDDLE_cl',\n",
    " 'team2MIDDLE_cpp',\n",
    " 'team2MIDDLE_cw',\n",
    " 'team2MIDDLE_cwp',\n",
    " 'team2MIDDLE_ol',\n",
    " 'team2MIDDLE_ow',\n",
    " 'team2MIDDLE_owp',\n",
    " 'team2TOP_cl',\n",
    " 'team2TOP_cpp',\n",
    " 'team2TOP_cw',\n",
    " 'team2TOP_cwp',\n",
    " 'team2TOP_ol',\n",
    " 'team2TOP_ow',\n",
    " 'team2TOP_owp',\n",
    " ]"
   ]
  },
  {
   "cell_type": "code",
   "execution_count": 137,
   "metadata": {},
   "outputs": [],
   "source": [
    "X=trn1[xfeatureslist].values"
   ]
  },
  {
   "cell_type": "code",
   "execution_count": 138,
   "metadata": {
    "collapsed": true
   },
   "outputs": [],
   "source": [
    "X_test= val1[xfeatureslist].values"
   ]
  },
  {
   "cell_type": "code",
   "execution_count": 139,
   "metadata": {},
   "outputs": [
    {
     "name": "stdout",
     "output_type": "stream",
     "text": [
      "Train on 45731 samples, validate on 11387 samples\n",
      "Epoch 1/25\n",
      "45731/45731 [==============================] - 5s - loss: 0.6937 - acc: 0.5085 - val_loss: 0.6929 - val_acc: 0.5057\n",
      "Epoch 2/25\n",
      "45731/45731 [==============================] - 5s - loss: 0.6930 - acc: 0.5116 - val_loss: 0.6925 - val_acc: 0.5229\n",
      "Epoch 3/25\n",
      "45731/45731 [==============================] - 5s - loss: 0.6928 - acc: 0.5153 - val_loss: 0.6921 - val_acc: 0.5231\n",
      "Epoch 4/25\n",
      "45731/45731 [==============================] - 5s - loss: 0.6927 - acc: 0.5146 - val_loss: 0.6921 - val_acc: 0.5231\n",
      "Epoch 5/25\n",
      "45731/45731 [==============================] - 5s - loss: 0.6929 - acc: 0.5163 - val_loss: 0.6921 - val_acc: 0.5231\n",
      "Epoch 6/25\n",
      "45731/45731 [==============================] - 5s - loss: 0.6928 - acc: 0.5162 - val_loss: 0.6924 - val_acc: 0.5231\n",
      "Epoch 7/25\n",
      "45731/45731 [==============================] - 5s - loss: 0.6927 - acc: 0.5152 - val_loss: 0.6923 - val_acc: 0.5231\n",
      "Epoch 8/25\n",
      "45731/45731 [==============================] - 5s - loss: 0.6928 - acc: 0.5136 - val_loss: 0.6921 - val_acc: 0.5231\n",
      "Epoch 9/25\n",
      "45731/45731 [==============================] - 5s - loss: 0.6927 - acc: 0.5144 - val_loss: 0.6921 - val_acc: 0.5231\n",
      "Epoch 10/25\n",
      "45731/45731 [==============================] - 5s - loss: 0.6927 - acc: 0.5163 - val_loss: 0.6927 - val_acc: 0.5199\n",
      "Epoch 11/25\n",
      "45731/45731 [==============================] - 5s - loss: 0.6928 - acc: 0.5169 - val_loss: 0.6921 - val_acc: 0.5231\n",
      "Epoch 12/25\n",
      "45731/45731 [==============================] - 5s - loss: 0.6928 - acc: 0.5147 - val_loss: 0.6921 - val_acc: 0.5231\n",
      "Epoch 13/25\n",
      "45731/45731 [==============================] - 5s - loss: 0.6929 - acc: 0.5156 - val_loss: 0.6921 - val_acc: 0.5231\n",
      "Epoch 14/25\n",
      "45731/45731 [==============================] - 5s - loss: 0.6929 - acc: 0.5147 - val_loss: 0.6922 - val_acc: 0.5231\n",
      "Epoch 15/25\n",
      "45731/45731 [==============================] - 5s - loss: 0.6927 - acc: 0.5174 - val_loss: 0.6921 - val_acc: 0.5231\n",
      "Epoch 16/25\n",
      "45731/45731 [==============================] - 5s - loss: 0.6929 - acc: 0.5149 - val_loss: 0.6921 - val_acc: 0.5231\n",
      "Epoch 17/25\n",
      "45731/45731 [==============================] - 5s - loss: 0.6929 - acc: 0.5152 - val_loss: 0.6921 - val_acc: 0.5231\n",
      "Epoch 18/25\n",
      "45731/45731 [==============================] - 5s - loss: 0.6928 - acc: 0.5174 - val_loss: 0.6921 - val_acc: 0.5231\n",
      "Epoch 19/25\n",
      "45731/45731 [==============================] - 5s - loss: 0.6928 - acc: 0.5148 - val_loss: 0.6921 - val_acc: 0.5231\n",
      "Epoch 20/25\n",
      "45731/45731 [==============================] - 5s - loss: 0.6929 - acc: 0.5148 - val_loss: 0.6923 - val_acc: 0.5231\n",
      "Epoch 21/25\n",
      "45731/45731 [==============================] - 5s - loss: 0.6927 - acc: 0.5158 - val_loss: 0.6932 - val_acc: 0.4770\n",
      "Epoch 22/25\n",
      "45731/45731 [==============================] - 5s - loss: 0.6929 - acc: 0.5140 - val_loss: 0.6920 - val_acc: 0.5231\n",
      "Epoch 23/25\n",
      "45731/45731 [==============================] - 5s - loss: 0.6930 - acc: 0.5158 - val_loss: 0.6924 - val_acc: 0.5231\n",
      "Epoch 24/25\n",
      "45731/45731 [==============================] - 5s - loss: 0.6927 - acc: 0.5161 - val_loss: 0.6927 - val_acc: 0.5232\n",
      "Epoch 25/25\n",
      "45731/45731 [==============================] - 5s - loss: 0.6926 - acc: 0.5156 - val_loss: 0.6920 - val_acc: 0.5231\n"
     ]
    },
    {
     "data": {
      "text/plain": [
       "<keras.callbacks.History at 0x7f9f2aaf8ef0>"
      ]
     },
     "execution_count": 139,
     "metadata": {},
     "output_type": "execute_result"
    }
   ],
   "source": [
    "nn1.fit([trn1.team1TOP,trn1.team2MIDDLE,trn1.team1JUNGLE,trn1.team1DUO_SUPPORT,trn1.team2DUO_CARRY,trn1.team2TOP,trn1.team2MIDDLE,trn1.team2JUNGLE,trn1.team2DUO_SUPPORT,trn1.team2DUO_CARRY,X],trn1.team1, batch_size=100, epochs=25, \n",
    "       validation_data=([val1.team1TOP,val1.team2MIDDLE,val1.team1JUNGLE,val1.team1DUO_SUPPORT,val1.team2DUO_CARRY,val1.team2TOP,val1.team2MIDDLE,val1.team2JUNGLE,val1.team2DUO_SUPPORT,val1.team2DUO_CARRY,X_test],val1.team1))"
   ]
  },
  {
   "cell_type": "code",
   "execution_count": 140,
   "metadata": {},
   "outputs": [
    {
     "name": "stdout",
     "output_type": "stream",
     "text": [
      "Train on 45731 samples, validate on 11387 samples\n",
      "Epoch 1/25\n",
      "45731/45731 [==============================] - 0s - loss: 0.6925 - acc: 0.5179 - val_loss: 0.6920 - val_acc: 0.5239\n",
      "Epoch 2/25\n",
      "45731/45731 [==============================] - 0s - loss: 0.6922 - acc: 0.5186 - val_loss: 0.6918 - val_acc: 0.5238\n",
      "Epoch 3/25\n",
      "45731/45731 [==============================] - 0s - loss: 0.6922 - acc: 0.5189 - val_loss: 0.6917 - val_acc: 0.5247\n",
      "Epoch 4/25\n",
      "45731/45731 [==============================] - 0s - loss: 0.6921 - acc: 0.5190 - val_loss: 0.6917 - val_acc: 0.5231\n",
      "Epoch 5/25\n",
      "45731/45731 [==============================] - 0s - loss: 0.6922 - acc: 0.5202 - val_loss: 0.6918 - val_acc: 0.5238\n",
      "Epoch 6/25\n",
      "45731/45731 [==============================] - 0s - loss: 0.6922 - acc: 0.5209 - val_loss: 0.6918 - val_acc: 0.5227\n",
      "Epoch 7/25\n",
      "45731/45731 [==============================] - 0s - loss: 0.6921 - acc: 0.5189 - val_loss: 0.6917 - val_acc: 0.5225\n",
      "Epoch 8/25\n",
      "45731/45731 [==============================] - 0s - loss: 0.6921 - acc: 0.5202 - val_loss: 0.6919 - val_acc: 0.5224\n",
      "Epoch 9/25\n",
      "45731/45731 [==============================] - 0s - loss: 0.6920 - acc: 0.5202 - val_loss: 0.6920 - val_acc: 0.5233\n",
      "Epoch 10/25\n",
      "45731/45731 [==============================] - 0s - loss: 0.6920 - acc: 0.5208 - val_loss: 0.6921 - val_acc: 0.5232\n",
      "Epoch 11/25\n",
      "45731/45731 [==============================] - 0s - loss: 0.6917 - acc: 0.5218 - val_loss: 0.6917 - val_acc: 0.5225\n",
      "Epoch 12/25\n",
      "45731/45731 [==============================] - 0s - loss: 0.6917 - acc: 0.5217 - val_loss: 0.6918 - val_acc: 0.5200\n",
      "Epoch 13/25\n",
      "45731/45731 [==============================] - 0s - loss: 0.6916 - acc: 0.5224 - val_loss: 0.6916 - val_acc: 0.5219\n",
      "Epoch 14/25\n",
      "45731/45731 [==============================] - 0s - loss: 0.6915 - acc: 0.5247 - val_loss: 0.6926 - val_acc: 0.5239\n",
      "Epoch 15/25\n",
      "45731/45731 [==============================] - 0s - loss: 0.6917 - acc: 0.5242 - val_loss: 0.6917 - val_acc: 0.5225\n",
      "Epoch 16/25\n",
      "45731/45731 [==============================] - 0s - loss: 0.6915 - acc: 0.5233 - val_loss: 0.6917 - val_acc: 0.5237\n",
      "Epoch 17/25\n",
      "45731/45731 [==============================] - 0s - loss: 0.6912 - acc: 0.5259 - val_loss: 0.6915 - val_acc: 0.5231\n",
      "Epoch 18/25\n",
      "45731/45731 [==============================] - 0s - loss: 0.6909 - acc: 0.5271 - val_loss: 0.6918 - val_acc: 0.5206\n",
      "Epoch 19/25\n",
      "45731/45731 [==============================] - 0s - loss: 0.6910 - acc: 0.5257 - val_loss: 0.6913 - val_acc: 0.5241\n",
      "Epoch 20/25\n",
      "45731/45731 [==============================] - 0s - loss: 0.6907 - acc: 0.5279 - val_loss: 0.6915 - val_acc: 0.5261\n",
      "Epoch 21/25\n",
      "45731/45731 [==============================] - 0s - loss: 0.6905 - acc: 0.5282 - val_loss: 0.6905 - val_acc: 0.5282\n",
      "Epoch 22/25\n",
      "45731/45731 [==============================] - 0s - loss: 0.6901 - acc: 0.5327 - val_loss: 0.6908 - val_acc: 0.5270\n",
      "Epoch 23/25\n",
      "45731/45731 [==============================] - 0s - loss: 0.6896 - acc: 0.5363 - val_loss: 0.6931 - val_acc: 0.5179\n",
      "Epoch 24/25\n",
      "45731/45731 [==============================] - 0s - loss: 0.6896 - acc: 0.5335 - val_loss: 0.6921 - val_acc: 0.5216\n",
      "Epoch 25/25\n",
      "45731/45731 [==============================] - 0s - loss: 0.6890 - acc: 0.5350 - val_loss: 0.6910 - val_acc: 0.5291\n"
     ]
    },
    {
     "data": {
      "text/plain": [
       "<keras.callbacks.History at 0x7f9f2a5c4f28>"
      ]
     },
     "execution_count": 140,
     "metadata": {},
     "output_type": "execute_result"
    }
   ],
   "source": [
    "nn1.fit([trn1.team1TOP,trn1.team2MIDDLE,trn1.team1JUNGLE,trn1.team1DUO_SUPPORT,trn1.team2DUO_CARRY,trn1.team2TOP,trn1.team2MIDDLE,trn1.team2JUNGLE,trn1.team2DUO_SUPPORT,trn1.team2DUO_CARRY,X],trn1.team1, batch_size=1000, epochs=25, \n",
    "       validation_data=([val1.team1TOP,val1.team2MIDDLE,val1.team1JUNGLE,val1.team1DUO_SUPPORT,val1.team2DUO_CARRY,val1.team2TOP,val1.team2MIDDLE,val1.team2JUNGLE,val1.team2DUO_SUPPORT,val1.team2DUO_CARRY,X_test],val1.team1))"
   ]
  },
  {
   "cell_type": "markdown",
   "metadata": {},
   "source": [
    "So we're not doing any better than if we just look at the champions picked. \n",
    "Given how much imputation had to occur, let's try with less factors. \n"
   ]
  },
  {
   "cell_type": "code",
   "execution_count": 159,
   "metadata": {
    "collapsed": true
   },
   "outputs": [],
   "source": [
    "n_hidden_factors2 = 8"
   ]
  },
  {
   "cell_type": "code",
   "execution_count": 160,
   "metadata": {},
   "outputs": [
    {
     "name": "stderr",
     "output_type": "stream",
     "text": [
      "/usr/local/lib/python3.5/dist-packages/ipykernel_launcher.py:3: UserWarning: Update your `Embedding` call to the Keras 2 API: `Embedding(134, 8, embeddings_regularizer=<keras.reg..., input_length=1)`\n",
      "  This is separate from the ipykernel package so we can avoid doing imports until\n"
     ]
    }
   ],
   "source": [
    "champion_in21, c21 = embedding_input_champion('champion_id1_in', 134, n_hidden_factors2,.001)\n",
    "champion_in22, c22 = embedding_input_champion('champion_id2_in', 134, n_hidden_factors2, .001)\n",
    "champion_in23, c23 = embedding_input_champion('champion_id3_in', 134, n_hidden_factors2, .001)\n",
    "champion_in24, c24 = embedding_input_champion('champion_id4_in', 134, n_hidden_factors2, .001)\n",
    "champion_in25, c25 = embedding_input_champion('champion_id5_in', 134, n_hidden_factors2, .001)\n",
    "champion_in26, c26 = embedding_input_champion('champion_id6_in', 134, n_hidden_factors2, .001)\n",
    "champion_in27, c27 = embedding_input_champion('champion_id7_in', 134, n_hidden_factors2, .001)\n",
    "champion_in28, c28 = embedding_input_champion('champion_id8_in', 134, n_hidden_factors2, .001)\n",
    "champion_in29, c29 = embedding_input_champion('champion_id9_in', 134, n_hidden_factors2, .001)\n",
    "champion_in20, c20 = embedding_input_champion('champion_id10_in', 134, n_hidden_factors2, .001)"
   ]
  },
  {
   "cell_type": "code",
   "execution_count": 161,
   "metadata": {},
   "outputs": [
    {
     "name": "stderr",
     "output_type": "stream",
     "text": [
      "/usr/local/lib/python3.5/dist-packages/ipykernel_launcher.py:2: UserWarning: The `merge` function is deprecated and will be removed after 08/2017. Use instead layers from `keras.layers.merge`, e.g. `add`, `concatenate`, etc.\n",
      "  \n",
      "/usr/local/lib/python3.5/dist-packages/keras/legacy/layers.py:458: UserWarning: The `Merge` layer is deprecated and will be removed after 08/2017. Use instead layers from `keras.layers.merge`, e.g. `add`, `concatenate`, etc.\n",
      "  name=name)\n",
      "/usr/local/lib/python3.5/dist-packages/ipykernel_launcher.py:5: UserWarning: The `merge` function is deprecated and will be removed after 08/2017. Use instead layers from `keras.layers.merge`, e.g. `add`, `concatenate`, etc.\n",
      "  \"\"\"\n"
     ]
    }
   ],
   "source": [
    "num_inputs = Input(shape=(30,))\n",
    "x = merge([c21,c22,c23,c24,c25,c26,c27,c28,c29,c20], mode='concat', name='All_champion_Factors_on_one_layer')\n",
    "\n",
    "x= Flatten()(x)\n",
    "x=merge([x,num_inputs],mode='concat')\n",
    "\n",
    "x = Dense(140, activation='sigmoid',name='Random_HF_Interactions1')(x)\n",
    "x = Dropout(0.8,name='Prevent_overfit1')(x)\n",
    "x = Dense(80, activation='sigmoid',name='Random_HF_Interactions2')(x)\n",
    "x = Dense(40, activation='sigmoid',name='Random_HF_Interactions3')(x)\n",
    "x = Dropout(0.8,name='Prevent_overfit2')(x)\n",
    "x = Dense(1,activation='sigmoid',name='Final_Interactions')(x)\n",
    "nn2 = Model([champion_in21,champion_in22,champion_in23,champion_in24,champion_in25,champion_in26,champion_in27,champion_in28,champion_in29,champion_in20,num_inputs], x)\n",
    "nn2.compile(Adam(0.001), loss='binary_crossentropy', metrics=['accuracy'])"
   ]
  },
  {
   "cell_type": "code",
   "execution_count": 144,
   "metadata": {},
   "outputs": [
    {
     "data": {
      "text/html": [
       "<div>\n",
       "<style>\n",
       "    .dataframe thead tr:only-child th {\n",
       "        text-align: right;\n",
       "    }\n",
       "\n",
       "    .dataframe thead th {\n",
       "        text-align: left;\n",
       "    }\n",
       "\n",
       "    .dataframe tbody tr th {\n",
       "        vertical-align: top;\n",
       "    }\n",
       "</style>\n",
       "<table border=\"1\" class=\"dataframe\">\n",
       "  <thead>\n",
       "    <tr style=\"text-align: right;\">\n",
       "      <th></th>\n",
       "      <th>team1DUO_CARRY_cl</th>\n",
       "      <th>team1DUO_CARRY_cpp</th>\n",
       "      <th>team1DUO_CARRY_cw</th>\n",
       "      <th>team1DUO_CARRY_cwp</th>\n",
       "      <th>team1DUO_CARRY_ol</th>\n",
       "      <th>team1DUO_CARRY_ow</th>\n",
       "      <th>team1DUO_CARRY_owp</th>\n",
       "      <th>team1DUO_SUPPORT_cl</th>\n",
       "      <th>team1DUO_SUPPORT_cpp</th>\n",
       "      <th>team1DUO_SUPPORT_cw</th>\n",
       "      <th>...</th>\n",
       "      <th>team2MIDDLE_ol</th>\n",
       "      <th>team2MIDDLE_ow</th>\n",
       "      <th>team2MIDDLE_owp</th>\n",
       "      <th>team2TOP_cl</th>\n",
       "      <th>team2TOP_cpp</th>\n",
       "      <th>team2TOP_cw</th>\n",
       "      <th>team2TOP_cwp</th>\n",
       "      <th>team2TOP_ol</th>\n",
       "      <th>team2TOP_ow</th>\n",
       "      <th>team2TOP_owp</th>\n",
       "    </tr>\n",
       "  </thead>\n",
       "  <tbody>\n",
       "    <tr>\n",
       "      <th>count</th>\n",
       "      <td>57118.000000</td>\n",
       "      <td>57118.000000</td>\n",
       "      <td>57118.000000</td>\n",
       "      <td>57118.000000</td>\n",
       "      <td>57118.000000</td>\n",
       "      <td>57118.000000</td>\n",
       "      <td>57118.000000</td>\n",
       "      <td>57118.000000</td>\n",
       "      <td>57118.000000</td>\n",
       "      <td>57118.000000</td>\n",
       "      <td>...</td>\n",
       "      <td>57118.000000</td>\n",
       "      <td>57118.000000</td>\n",
       "      <td>57118.000000</td>\n",
       "      <td>57118.000000</td>\n",
       "      <td>57118.000000</td>\n",
       "      <td>57118.000000</td>\n",
       "      <td>57118.000000</td>\n",
       "      <td>57118.000000</td>\n",
       "      <td>57118.000000</td>\n",
       "      <td>57118.000000</td>\n",
       "    </tr>\n",
       "    <tr>\n",
       "      <th>mean</th>\n",
       "      <td>3.708441</td>\n",
       "      <td>0.029264</td>\n",
       "      <td>3.198161</td>\n",
       "      <td>0.403698</td>\n",
       "      <td>214.738655</td>\n",
       "      <td>221.788517</td>\n",
       "      <td>0.507453</td>\n",
       "      <td>3.202743</td>\n",
       "      <td>0.027269</td>\n",
       "      <td>2.726285</td>\n",
       "      <td>...</td>\n",
       "      <td>222.171919</td>\n",
       "      <td>229.590924</td>\n",
       "      <td>0.507779</td>\n",
       "      <td>2.983338</td>\n",
       "      <td>0.025113</td>\n",
       "      <td>2.454847</td>\n",
       "      <td>0.402662</td>\n",
       "      <td>213.802083</td>\n",
       "      <td>220.923995</td>\n",
       "      <td>0.507837</td>\n",
       "    </tr>\n",
       "    <tr>\n",
       "      <th>std</th>\n",
       "      <td>2.348397</td>\n",
       "      <td>0.101500</td>\n",
       "      <td>2.912157</td>\n",
       "      <td>0.086346</td>\n",
       "      <td>143.329743</td>\n",
       "      <td>145.922401</td>\n",
       "      <td>0.036592</td>\n",
       "      <td>1.760490</td>\n",
       "      <td>0.105890</td>\n",
       "      <td>2.322340</td>\n",
       "      <td>...</td>\n",
       "      <td>155.877116</td>\n",
       "      <td>158.700815</td>\n",
       "      <td>0.036885</td>\n",
       "      <td>1.679124</td>\n",
       "      <td>0.095482</td>\n",
       "      <td>2.184544</td>\n",
       "      <td>0.086433</td>\n",
       "      <td>145.328958</td>\n",
       "      <td>147.791952</td>\n",
       "      <td>0.037468</td>\n",
       "    </tr>\n",
       "    <tr>\n",
       "      <th>min</th>\n",
       "      <td>1.940412</td>\n",
       "      <td>0.001009</td>\n",
       "      <td>1.000000</td>\n",
       "      <td>0.333333</td>\n",
       "      <td>0.000000</td>\n",
       "      <td>0.000000</td>\n",
       "      <td>0.000000</td>\n",
       "      <td>1.940412</td>\n",
       "      <td>0.001009</td>\n",
       "      <td>1.000000</td>\n",
       "      <td>...</td>\n",
       "      <td>0.000000</td>\n",
       "      <td>0.000000</td>\n",
       "      <td>0.000000</td>\n",
       "      <td>1.940412</td>\n",
       "      <td>0.001009</td>\n",
       "      <td>1.000000</td>\n",
       "      <td>0.333333</td>\n",
       "      <td>0.000000</td>\n",
       "      <td>0.000000</td>\n",
       "      <td>0.000000</td>\n",
       "    </tr>\n",
       "    <tr>\n",
       "      <th>25%</th>\n",
       "      <td>2.000000</td>\n",
       "      <td>0.006122</td>\n",
       "      <td>1.000000</td>\n",
       "      <td>0.333333</td>\n",
       "      <td>172.040667</td>\n",
       "      <td>178.941211</td>\n",
       "      <td>0.502041</td>\n",
       "      <td>2.000000</td>\n",
       "      <td>0.006536</td>\n",
       "      <td>1.000000</td>\n",
       "      <td>...</td>\n",
       "      <td>172.040667</td>\n",
       "      <td>178.941211</td>\n",
       "      <td>0.502242</td>\n",
       "      <td>2.000000</td>\n",
       "      <td>0.006048</td>\n",
       "      <td>1.000000</td>\n",
       "      <td>0.333333</td>\n",
       "      <td>169.000000</td>\n",
       "      <td>176.000000</td>\n",
       "      <td>0.502252</td>\n",
       "    </tr>\n",
       "    <tr>\n",
       "      <th>50%</th>\n",
       "      <td>2.000000</td>\n",
       "      <td>0.017066</td>\n",
       "      <td>1.000000</td>\n",
       "      <td>0.333333</td>\n",
       "      <td>172.040667</td>\n",
       "      <td>178.941211</td>\n",
       "      <td>0.509830</td>\n",
       "      <td>2.000000</td>\n",
       "      <td>0.017045</td>\n",
       "      <td>1.000000</td>\n",
       "      <td>...</td>\n",
       "      <td>172.040667</td>\n",
       "      <td>178.941211</td>\n",
       "      <td>0.509830</td>\n",
       "      <td>2.000000</td>\n",
       "      <td>0.015306</td>\n",
       "      <td>1.000000</td>\n",
       "      <td>0.333333</td>\n",
       "      <td>172.040667</td>\n",
       "      <td>178.941211</td>\n",
       "      <td>0.509830</td>\n",
       "    </tr>\n",
       "    <tr>\n",
       "      <th>75%</th>\n",
       "      <td>6.453734</td>\n",
       "      <td>0.037201</td>\n",
       "      <td>6.099135</td>\n",
       "      <td>0.505718</td>\n",
       "      <td>242.000000</td>\n",
       "      <td>250.000000</td>\n",
       "      <td>0.509830</td>\n",
       "      <td>4.194892</td>\n",
       "      <td>0.027768</td>\n",
       "      <td>4.591261</td>\n",
       "      <td>...</td>\n",
       "      <td>250.000000</td>\n",
       "      <td>260.000000</td>\n",
       "      <td>0.510309</td>\n",
       "      <td>3.562674</td>\n",
       "      <td>0.024852</td>\n",
       "      <td>3.591020</td>\n",
       "      <td>0.507499</td>\n",
       "      <td>241.000000</td>\n",
       "      <td>252.000000</td>\n",
       "      <td>0.510728</td>\n",
       "    </tr>\n",
       "    <tr>\n",
       "      <th>max</th>\n",
       "      <td>8.075272</td>\n",
       "      <td>3.000000</td>\n",
       "      <td>8.661634</td>\n",
       "      <td>0.549259</td>\n",
       "      <td>1466.000000</td>\n",
       "      <td>1506.000000</td>\n",
       "      <td>1.000000</td>\n",
       "      <td>9.949848</td>\n",
       "      <td>3.000000</td>\n",
       "      <td>9.610718</td>\n",
       "      <td>...</td>\n",
       "      <td>1466.000000</td>\n",
       "      <td>1506.000000</td>\n",
       "      <td>1.000000</td>\n",
       "      <td>9.949848</td>\n",
       "      <td>3.000000</td>\n",
       "      <td>9.610718</td>\n",
       "      <td>0.553484</td>\n",
       "      <td>1466.000000</td>\n",
       "      <td>1506.000000</td>\n",
       "      <td>1.000000</td>\n",
       "    </tr>\n",
       "  </tbody>\n",
       "</table>\n",
       "<p>8 rows × 70 columns</p>\n",
       "</div>"
      ],
      "text/plain": [
       "       team1DUO_CARRY_cl  team1DUO_CARRY_cpp  team1DUO_CARRY_cw  \\\n",
       "count       57118.000000        57118.000000       57118.000000   \n",
       "mean            3.708441            0.029264           3.198161   \n",
       "std             2.348397            0.101500           2.912157   \n",
       "min             1.940412            0.001009           1.000000   \n",
       "25%             2.000000            0.006122           1.000000   \n",
       "50%             2.000000            0.017066           1.000000   \n",
       "75%             6.453734            0.037201           6.099135   \n",
       "max             8.075272            3.000000           8.661634   \n",
       "\n",
       "       team1DUO_CARRY_cwp  team1DUO_CARRY_ol  team1DUO_CARRY_ow  \\\n",
       "count        57118.000000       57118.000000       57118.000000   \n",
       "mean             0.403698         214.738655         221.788517   \n",
       "std              0.086346         143.329743         145.922401   \n",
       "min              0.333333           0.000000           0.000000   \n",
       "25%              0.333333         172.040667         178.941211   \n",
       "50%              0.333333         172.040667         178.941211   \n",
       "75%              0.505718         242.000000         250.000000   \n",
       "max              0.549259        1466.000000        1506.000000   \n",
       "\n",
       "       team1DUO_CARRY_owp  team1DUO_SUPPORT_cl  team1DUO_SUPPORT_cpp  \\\n",
       "count        57118.000000         57118.000000          57118.000000   \n",
       "mean             0.507453             3.202743              0.027269   \n",
       "std              0.036592             1.760490              0.105890   \n",
       "min              0.000000             1.940412              0.001009   \n",
       "25%              0.502041             2.000000              0.006536   \n",
       "50%              0.509830             2.000000              0.017045   \n",
       "75%              0.509830             4.194892              0.027768   \n",
       "max              1.000000             9.949848              3.000000   \n",
       "\n",
       "       team1DUO_SUPPORT_cw      ...       team2MIDDLE_ol  team2MIDDLE_ow  \\\n",
       "count         57118.000000      ...         57118.000000    57118.000000   \n",
       "mean              2.726285      ...           222.171919      229.590924   \n",
       "std               2.322340      ...           155.877116      158.700815   \n",
       "min               1.000000      ...             0.000000        0.000000   \n",
       "25%               1.000000      ...           172.040667      178.941211   \n",
       "50%               1.000000      ...           172.040667      178.941211   \n",
       "75%               4.591261      ...           250.000000      260.000000   \n",
       "max               9.610718      ...          1466.000000     1506.000000   \n",
       "\n",
       "       team2MIDDLE_owp   team2TOP_cl  team2TOP_cpp   team2TOP_cw  \\\n",
       "count     57118.000000  57118.000000  57118.000000  57118.000000   \n",
       "mean          0.507779      2.983338      0.025113      2.454847   \n",
       "std           0.036885      1.679124      0.095482      2.184544   \n",
       "min           0.000000      1.940412      0.001009      1.000000   \n",
       "25%           0.502242      2.000000      0.006048      1.000000   \n",
       "50%           0.509830      2.000000      0.015306      1.000000   \n",
       "75%           0.510309      3.562674      0.024852      3.591020   \n",
       "max           1.000000      9.949848      3.000000      9.610718   \n",
       "\n",
       "       team2TOP_cwp   team2TOP_ol   team2TOP_ow  team2TOP_owp  \n",
       "count  57118.000000  57118.000000  57118.000000  57118.000000  \n",
       "mean       0.402662    213.802083    220.923995      0.507837  \n",
       "std        0.086433    145.328958    147.791952      0.037468  \n",
       "min        0.333333      0.000000      0.000000      0.000000  \n",
       "25%        0.333333    169.000000    176.000000      0.502252  \n",
       "50%        0.333333    172.040667    178.941211      0.509830  \n",
       "75%        0.507499    241.000000    252.000000      0.510728  \n",
       "max        0.553484   1466.000000   1506.000000      1.000000  \n",
       "\n",
       "[8 rows x 70 columns]"
      ]
     },
     "execution_count": 144,
     "metadata": {},
     "output_type": "execute_result"
    }
   ],
   "source": [
    "matches_s6[xfeatureslist].describe() # After looking at this, I'm only going to look at percentages"
   ]
  },
  {
   "cell_type": "code",
   "execution_count": 145,
   "metadata": {
    "collapsed": true
   },
   "outputs": [],
   "source": [
    "x2featureslist =[\n",
    " 'team1DUO_CARRY_cwp',\n",
    " 'team1DUO_CARRY_owp',\n",
    " 'team1DUO_SUPPORT_cwp',\n",
    "'team1DUO_SUPPORT_owp',\n",
    "  'team1JUNGLE_cwp',\n",
    "  'team1JUNGLE_owp',\n",
    " 'team1MIDDLE_cwp',\n",
    "'team1MIDDLE_owp',\n",
    " 'team1TOP_cwp',\n",
    "'team1TOP_owp',\n",
    " 'team2DUO_CARRY_cwp',\n",
    "  'team2DUO_CARRY_owp',\n",
    " 'team2DUO_SUPPORT_cwp',\n",
    " 'team2DUO_SUPPORT_owp',\n",
    " 'team2JUNGLE_cwp',\n",
    " 'team2JUNGLE_owp',\n",
    "  'team2MIDDLE_cwp',\n",
    "'team2MIDDLE_owp',\n",
    " 'team2TOP_cwp',\n",
    " 'team2TOP_owp',\n",
    "'team1MIDDLE_cpp',\n",
    "    'team1TOP_cpp',\n",
    "    'team1JUNGLE_cpp',\n",
    "    'team1DUO_CARRY_cpp',\n",
    "    'team1DUO_SUPPORT_cpp',\n",
    "    'team2MIDDLE_cpp',\n",
    "    'team2TOP_cpp',\n",
    "    'team2JUNGLE_cpp',\n",
    "    'team2DUO_CARRY_cpp',\n",
    "    'team2DUO_SUPPORT_cpp',\n",
    " ]"
   ]
  },
  {
   "cell_type": "code",
   "execution_count": 146,
   "metadata": {},
   "outputs": [
    {
     "data": {
      "text/plain": [
       "30"
      ]
     },
     "execution_count": 146,
     "metadata": {},
     "output_type": "execute_result"
    }
   ],
   "source": [
    "len(x2featureslist)"
   ]
  },
  {
   "cell_type": "markdown",
   "metadata": {},
   "source": [
    "Now we have decided what 3 variables per player we are lookin at (s7 win rate on champion, s7 win rate, playrate of champion in ranked)"
   ]
  },
  {
   "cell_type": "code",
   "execution_count": 147,
   "metadata": {
    "collapsed": true
   },
   "outputs": [],
   "source": [
    "X2=trn1[x2featureslist].values"
   ]
  },
  {
   "cell_type": "code",
   "execution_count": 148,
   "metadata": {
    "collapsed": true
   },
   "outputs": [],
   "source": [
    "X2_test= val1[x2featureslist].values"
   ]
  },
  {
   "cell_type": "code",
   "execution_count": 149,
   "metadata": {},
   "outputs": [
    {
     "name": "stdout",
     "output_type": "stream",
     "text": [
      "Train on 45731 samples, validate on 11387 samples\n",
      "Epoch 1/25\n",
      "45731/45731 [==============================] - 6s - loss: 0.7129 - acc: 0.5073 - val_loss: 0.6921 - val_acc: 0.5231\n",
      "Epoch 2/25\n",
      "45731/45731 [==============================] - 5s - loss: 0.6935 - acc: 0.5085 - val_loss: 0.6922 - val_acc: 0.5231\n",
      "Epoch 3/25\n",
      "45731/45731 [==============================] - 5s - loss: 0.6928 - acc: 0.5167 - val_loss: 0.6922 - val_acc: 0.5231\n",
      "Epoch 4/25\n",
      "45731/45731 [==============================] - 5s - loss: 0.6926 - acc: 0.5169 - val_loss: 0.6921 - val_acc: 0.5231\n",
      "Epoch 5/25\n",
      "45731/45731 [==============================] - 5s - loss: 0.6926 - acc: 0.5175 - val_loss: 0.6921 - val_acc: 0.5231\n",
      "Epoch 6/25\n",
      "45731/45731 [==============================] - 5s - loss: 0.6926 - acc: 0.5168 - val_loss: 0.6922 - val_acc: 0.5231\n",
      "Epoch 7/25\n",
      "45731/45731 [==============================] - 5s - loss: 0.6927 - acc: 0.5175 - val_loss: 0.6922 - val_acc: 0.5231\n",
      "Epoch 8/25\n",
      "45731/45731 [==============================] - 5s - loss: 0.6925 - acc: 0.5175 - val_loss: 0.6920 - val_acc: 0.5231\n",
      "Epoch 9/25\n",
      "45731/45731 [==============================] - 5s - loss: 0.6920 - acc: 0.5170 - val_loss: 0.6902 - val_acc: 0.5231\n",
      "Epoch 10/25\n",
      "45731/45731 [==============================] - 5s - loss: 0.6897 - acc: 0.5246 - val_loss: 0.6884 - val_acc: 0.5485\n",
      "Epoch 11/25\n",
      "45731/45731 [==============================] - 5s - loss: 0.6870 - acc: 0.5442 - val_loss: 0.6883 - val_acc: 0.5346\n",
      "Epoch 12/25\n",
      "45731/45731 [==============================] - 5s - loss: 0.6859 - acc: 0.5500 - val_loss: 0.6879 - val_acc: 0.5333\n",
      "Epoch 13/25\n",
      "45731/45731 [==============================] - 5s - loss: 0.6846 - acc: 0.5522 - val_loss: 0.6883 - val_acc: 0.5326\n",
      "Epoch 14/25\n",
      "45731/45731 [==============================] - 5s - loss: 0.6845 - acc: 0.5533 - val_loss: 0.6881 - val_acc: 0.5330\n",
      "Epoch 15/25\n",
      "45731/45731 [==============================] - 5s - loss: 0.6835 - acc: 0.5543 - val_loss: 0.6890 - val_acc: 0.5252\n",
      "Epoch 16/25\n",
      "45731/45731 [==============================] - 5s - loss: 0.6833 - acc: 0.5577 - val_loss: 0.6888 - val_acc: 0.5296\n",
      "Epoch 17/25\n",
      "45731/45731 [==============================] - 5s - loss: 0.6829 - acc: 0.5573 - val_loss: 0.6890 - val_acc: 0.5267\n",
      "Epoch 18/25\n",
      "45731/45731 [==============================] - 5s - loss: 0.6829 - acc: 0.5577 - val_loss: 0.6889 - val_acc: 0.5262\n",
      "Epoch 19/25\n",
      "45731/45731 [==============================] - 5s - loss: 0.6821 - acc: 0.5599 - val_loss: 0.6890 - val_acc: 0.5268\n",
      "Epoch 20/25\n",
      "45731/45731 [==============================] - 5s - loss: 0.6821 - acc: 0.5584 - val_loss: 0.6896 - val_acc: 0.5260\n",
      "Epoch 21/25\n",
      "45731/45731 [==============================] - 5s - loss: 0.6816 - acc: 0.5593 - val_loss: 0.6892 - val_acc: 0.5281\n",
      "Epoch 22/25\n",
      "45731/45731 [==============================] - 5s - loss: 0.6817 - acc: 0.5598 - val_loss: 0.6896 - val_acc: 0.5290\n",
      "Epoch 23/25\n",
      "45731/45731 [==============================] - 5s - loss: 0.6814 - acc: 0.5599 - val_loss: 0.6894 - val_acc: 0.5231\n",
      "Epoch 24/25\n",
      "45731/45731 [==============================] - 5s - loss: 0.6810 - acc: 0.5600 - val_loss: 0.6914 - val_acc: 0.5321\n",
      "Epoch 25/25\n",
      "45731/45731 [==============================] - 5s - loss: 0.6804 - acc: 0.5601 - val_loss: 0.6900 - val_acc: 0.5266\n"
     ]
    },
    {
     "data": {
      "text/plain": [
       "<keras.callbacks.History at 0x7f9f29dffc50>"
      ]
     },
     "execution_count": 149,
     "metadata": {},
     "output_type": "execute_result"
    }
   ],
   "source": [
    "nn2.fit([trn1.team1TOP,trn1.team2MIDDLE,trn1.team1JUNGLE,trn1.team1DUO_SUPPORT,trn1.team2DUO_CARRY,trn1.team2TOP,trn1.team2MIDDLE,trn1.team2JUNGLE,trn1.team2DUO_SUPPORT,trn1.team2DUO_CARRY,X2],trn1.team1, batch_size=100, epochs=25, \n",
    "       validation_data=([val1.team1TOP,val1.team2MIDDLE,val1.team1JUNGLE,val1.team1DUO_SUPPORT,val1.team2DUO_CARRY,val1.team2TOP,val1.team2MIDDLE,val1.team2JUNGLE,val1.team2DUO_SUPPORT,val1.team2DUO_CARRY,X2_test],val1.team1))"
   ]
  },
  {
   "cell_type": "code",
   "execution_count": 163,
   "metadata": {},
   "outputs": [
    {
     "name": "stdout",
     "output_type": "stream",
     "text": [
      "Train on 45731 samples, validate on 11387 samples\n",
      "Epoch 1/25\n",
      "45731/45731 [==============================] - 0s - loss: 0.6932 - acc: 0.5151 - val_loss: 0.6922 - val_acc: 0.5231\n",
      "Epoch 2/25\n",
      "45731/45731 [==============================] - 0s - loss: 0.6934 - acc: 0.5062 - val_loss: 0.6923 - val_acc: 0.5231\n",
      "Epoch 3/25\n",
      "45731/45731 [==============================] - 0s - loss: 0.6928 - acc: 0.5167 - val_loss: 0.6922 - val_acc: 0.5231\n",
      "Epoch 4/25\n",
      "45731/45731 [==============================] - 0s - loss: 0.6928 - acc: 0.5162 - val_loss: 0.6922 - val_acc: 0.5231\n",
      "Epoch 5/25\n",
      "45731/45731 [==============================] - 0s - loss: 0.6928 - acc: 0.5163 - val_loss: 0.6922 - val_acc: 0.5231\n",
      "Epoch 6/25\n",
      "45731/45731 [==============================] - 0s - loss: 0.6927 - acc: 0.5155 - val_loss: 0.6922 - val_acc: 0.5231\n",
      "Epoch 7/25\n",
      "45731/45731 [==============================] - 0s - loss: 0.6927 - acc: 0.5143 - val_loss: 0.6922 - val_acc: 0.5231\n",
      "Epoch 8/25\n",
      "45731/45731 [==============================] - 0s - loss: 0.6928 - acc: 0.5173 - val_loss: 0.6922 - val_acc: 0.5231\n",
      "Epoch 9/25\n",
      "45731/45731 [==============================] - 0s - loss: 0.6926 - acc: 0.5172 - val_loss: 0.6922 - val_acc: 0.5231\n",
      "Epoch 10/25\n",
      "45731/45731 [==============================] - 0s - loss: 0.6926 - acc: 0.5172 - val_loss: 0.6922 - val_acc: 0.5231\n",
      "Epoch 11/25\n",
      "45731/45731 [==============================] - 0s - loss: 0.6927 - acc: 0.5174 - val_loss: 0.6922 - val_acc: 0.5231\n",
      "Epoch 12/25\n",
      "45731/45731 [==============================] - 0s - loss: 0.6927 - acc: 0.5177 - val_loss: 0.6922 - val_acc: 0.5231\n",
      "Epoch 13/25\n",
      "45731/45731 [==============================] - 0s - loss: 0.6928 - acc: 0.5169 - val_loss: 0.6922 - val_acc: 0.5231\n",
      "Epoch 14/25\n",
      "45731/45731 [==============================] - 0s - loss: 0.6926 - acc: 0.5177 - val_loss: 0.6922 - val_acc: 0.5231\n",
      "Epoch 15/25\n",
      "45731/45731 [==============================] - 0s - loss: 0.6926 - acc: 0.5176 - val_loss: 0.6921 - val_acc: 0.5231\n",
      "Epoch 16/25\n",
      "45731/45731 [==============================] - 0s - loss: 0.6926 - acc: 0.5167 - val_loss: 0.6922 - val_acc: 0.5231\n",
      "Epoch 17/25\n",
      "45731/45731 [==============================] - 0s - loss: 0.6926 - acc: 0.5179 - val_loss: 0.6922 - val_acc: 0.5231\n",
      "Epoch 18/25\n",
      "45731/45731 [==============================] - 0s - loss: 0.6926 - acc: 0.5176 - val_loss: 0.6922 - val_acc: 0.5231\n",
      "Epoch 19/25\n",
      "45731/45731 [==============================] - 0s - loss: 0.6926 - acc: 0.5177 - val_loss: 0.6922 - val_acc: 0.5231\n",
      "Epoch 20/25\n",
      "45731/45731 [==============================] - 0s - loss: 0.6925 - acc: 0.5174 - val_loss: 0.6922 - val_acc: 0.5231\n",
      "Epoch 21/25\n",
      "45731/45731 [==============================] - 0s - loss: 0.6925 - acc: 0.5174 - val_loss: 0.6922 - val_acc: 0.5231\n",
      "Epoch 22/25\n",
      "45731/45731 [==============================] - 0s - loss: 0.6925 - acc: 0.5176 - val_loss: 0.6922 - val_acc: 0.5231\n",
      "Epoch 23/25\n",
      "45731/45731 [==============================] - 0s - loss: 0.6926 - acc: 0.5175 - val_loss: 0.6922 - val_acc: 0.5231\n",
      "Epoch 24/25\n",
      "45731/45731 [==============================] - 0s - loss: 0.6926 - acc: 0.5173 - val_loss: 0.6922 - val_acc: 0.5231\n",
      "Epoch 25/25\n",
      "45731/45731 [==============================] - 0s - loss: 0.6925 - acc: 0.5174 - val_loss: 0.6922 - val_acc: 0.5231\n"
     ]
    },
    {
     "data": {
      "text/plain": [
       "<keras.callbacks.History at 0x7f9f297bb668>"
      ]
     },
     "execution_count": 163,
     "metadata": {},
     "output_type": "execute_result"
    }
   ],
   "source": [
    "nn2.fit([trn1.team1TOP,trn1.team2MIDDLE,trn1.team1JUNGLE,trn1.team1DUO_SUPPORT,trn1.team2DUO_CARRY,trn1.team2TOP,trn1.team2MIDDLE,trn1.team2JUNGLE,trn1.team2DUO_SUPPORT,trn1.team2DUO_CARRY,X2],trn1.team1, batch_size=1000, epochs=25, \n",
    "       validation_data=([val1.team1TOP,val1.team2MIDDLE,val1.team1JUNGLE,val1.team1DUO_SUPPORT,val1.team2DUO_CARRY,val1.team2TOP,val1.team2MIDDLE,val1.team2JUNGLE,val1.team2DUO_SUPPORT,val1.team2DUO_CARRY,X2_test],val1.team1))"
   ]
  },
  {
   "cell_type": "code",
   "execution_count": 162,
   "metadata": {},
   "outputs": [
    {
     "name": "stdout",
     "output_type": "stream",
     "text": [
      "Train on 45731 samples, validate on 11387 samples\n",
      "Epoch 1/25\n",
      "45731/45731 [==============================] - 1s - loss: 0.8943 - acc: 0.5056 - val_loss: 0.6968 - val_acc: 0.5231\n",
      "Epoch 2/25\n",
      "45731/45731 [==============================] - 0s - loss: 0.7924 - acc: 0.5046 - val_loss: 0.6939 - val_acc: 0.5231\n",
      "Epoch 3/25\n",
      "45731/45731 [==============================] - 0s - loss: 0.7429 - acc: 0.5013 - val_loss: 0.6926 - val_acc: 0.5231\n",
      "Epoch 4/25\n",
      "45731/45731 [==============================] - 0s - loss: 0.7163 - acc: 0.5064 - val_loss: 0.6922 - val_acc: 0.5231\n",
      "Epoch 5/25\n",
      "45731/45731 [==============================] - 0s - loss: 0.7066 - acc: 0.4999 - val_loss: 0.6922 - val_acc: 0.5231\n",
      "Epoch 6/25\n",
      "45731/45731 [==============================] - 0s - loss: 0.7006 - acc: 0.5047 - val_loss: 0.6922 - val_acc: 0.5231\n",
      "Epoch 7/25\n",
      "45731/45731 [==============================] - 0s - loss: 0.6988 - acc: 0.5046 - val_loss: 0.6922 - val_acc: 0.5231\n",
      "Epoch 8/25\n",
      "45731/45731 [==============================] - 0s - loss: 0.6978 - acc: 0.5006 - val_loss: 0.6922 - val_acc: 0.5231\n",
      "Epoch 9/25\n",
      "45731/45731 [==============================] - 0s - loss: 0.6960 - acc: 0.5054 - val_loss: 0.6922 - val_acc: 0.5231\n",
      "Epoch 10/25\n",
      "45731/45731 [==============================] - 0s - loss: 0.6961 - acc: 0.5028 - val_loss: 0.6922 - val_acc: 0.5231\n",
      "Epoch 11/25\n",
      "45731/45731 [==============================] - 0s - loss: 0.6946 - acc: 0.5093 - val_loss: 0.6922 - val_acc: 0.5231\n",
      "Epoch 12/25\n",
      "45731/45731 [==============================] - 0s - loss: 0.6951 - acc: 0.5050 - val_loss: 0.6923 - val_acc: 0.5231\n",
      "Epoch 13/25\n",
      "45731/45731 [==============================] - 0s - loss: 0.6942 - acc: 0.5101 - val_loss: 0.6922 - val_acc: 0.5231\n",
      "Epoch 14/25\n",
      "45731/45731 [==============================] - 0s - loss: 0.6947 - acc: 0.5059 - val_loss: 0.6922 - val_acc: 0.5231\n",
      "Epoch 15/25\n",
      "45731/45731 [==============================] - 0s - loss: 0.6939 - acc: 0.5113 - val_loss: 0.6923 - val_acc: 0.5231\n",
      "Epoch 16/25\n",
      "45731/45731 [==============================] - 0s - loss: 0.6940 - acc: 0.5090 - val_loss: 0.6923 - val_acc: 0.5231\n",
      "Epoch 17/25\n",
      "45731/45731 [==============================] - 0s - loss: 0.6941 - acc: 0.5048 - val_loss: 0.6922 - val_acc: 0.5231\n",
      "Epoch 18/25\n",
      "45731/45731 [==============================] - 0s - loss: 0.6937 - acc: 0.5077 - val_loss: 0.6922 - val_acc: 0.5231\n",
      "Epoch 19/25\n",
      "45731/45731 [==============================] - 0s - loss: 0.6937 - acc: 0.5073 - val_loss: 0.6923 - val_acc: 0.5231\n",
      "Epoch 20/25\n",
      "45731/45731 [==============================] - 0s - loss: 0.6936 - acc: 0.5109 - val_loss: 0.6922 - val_acc: 0.5231\n",
      "Epoch 21/25\n",
      "45731/45731 [==============================] - 0s - loss: 0.6933 - acc: 0.5090 - val_loss: 0.6922 - val_acc: 0.5231\n",
      "Epoch 22/25\n",
      "45731/45731 [==============================] - 0s - loss: 0.6932 - acc: 0.5125 - val_loss: 0.6922 - val_acc: 0.5231\n",
      "Epoch 23/25\n",
      "45731/45731 [==============================] - 0s - loss: 0.6934 - acc: 0.5073 - val_loss: 0.6922 - val_acc: 0.5231\n",
      "Epoch 24/25\n",
      "45731/45731 [==============================] - 0s - loss: 0.6934 - acc: 0.5093 - val_loss: 0.6922 - val_acc: 0.5231\n",
      "Epoch 25/25\n",
      "45731/45731 [==============================] - 0s - loss: 0.6931 - acc: 0.5098 - val_loss: 0.6922 - val_acc: 0.5231\n"
     ]
    },
    {
     "data": {
      "text/plain": [
       "<keras.callbacks.History at 0x7f9dd4536ba8>"
      ]
     },
     "execution_count": 162,
     "metadata": {},
     "output_type": "execute_result"
    }
   ],
   "source": [
    "nn2.fit([trn1.team1TOP,trn1.team2MIDDLE,trn1.team1JUNGLE,trn1.team1DUO_SUPPORT,trn1.team2DUO_CARRY,trn1.team2TOP,trn1.team2MIDDLE,trn1.team2JUNGLE,trn1.team2DUO_SUPPORT,trn1.team2DUO_CARRY,X2],trn1.team1, batch_size=4000, epochs=25, \n",
    "       validation_data=([val1.team1TOP,val1.team2MIDDLE,val1.team1JUNGLE,val1.team1DUO_SUPPORT,val1.team2DUO_CARRY,val1.team2TOP,val1.team2MIDDLE,val1.team2JUNGLE,val1.team2DUO_SUPPORT,val1.team2DUO_CARRY,X2_test],val1.team1))"
   ]
  },
  {
   "cell_type": "markdown",
   "metadata": {},
   "source": [
    "Conclusion: My imputation of data is so severely noisy that is is reducing the model's accuracy.  I should redo this project from the data collection stage. "
   ]
  },
  {
   "cell_type": "code",
   "execution_count": 165,
   "metadata": {},
   "outputs": [
    {
     "name": "stdout",
     "output_type": "stream",
     "text": [
      "Collecting xgboost\n",
      "  Downloading xgboost-0.6a2.tar.gz (1.2MB)\n",
      "\u001b[K    100% |################################| 1.2MB 757kB/s ta 0:00:01\n",
      "\u001b[?25hRequirement already satisfied: numpy in /usr/local/lib/python3.5/dist-packages (from xgboost)\n",
      "Requirement already satisfied: scipy in /usr/local/lib/python3.5/dist-packages (from xgboost)\n",
      "Requirement already satisfied: scikit-learn in /usr/local/lib/python3.5/dist-packages (from xgboost)\n",
      "Building wheels for collected packages: xgboost\n",
      "  Running setup.py bdist_wheel for xgboost ... \u001b[?25ldone\n",
      "\u001b[?25h  Stored in directory: /root/.cache/pip/wheels/5e/c1/d6/522af54e5cc001fad4dd855117f8bf61b11d56443e06672e26\n",
      "Successfully built xgboost\n",
      "Installing collected packages: xgboost\n",
      "Successfully installed xgboost-0.6a2\n"
     ]
    }
   ],
   "source": [
    "!pip install xgboost"
   ]
  },
  {
   "cell_type": "code",
   "execution_count": 166,
   "metadata": {},
   "outputs": [
    {
     "name": "stderr",
     "output_type": "stream",
     "text": [
      "/usr/local/lib/python3.5/dist-packages/sklearn/cross_validation.py:41: DeprecationWarning: This module was deprecated in version 0.18 in favor of the model_selection module into which all the refactored classes and functions are moved. Also note that the interface of the new CV iterators are different from that of this module. This module will be removed in 0.20.\n",
      "  \"This module will be removed in 0.20.\", DeprecationWarning)\n"
     ]
    }
   ],
   "source": [
    "from xgboost import XGBClassifier\n",
    "from sklearn.model_selection import train_test_split\n",
    "from sklearn.metrics import accuracy_score"
   ]
  },
  {
   "cell_type": "code",
   "execution_count": 167,
   "metadata": {
    "collapsed": true
   },
   "outputs": [],
   "source": [
    "laneslist = [\n",
    "    'team1TOP',\n",
    "    'team1MIDDLE',\n",
    "    'team1JUNGLE',\n",
    "    'team1DUO_CARRY',\n",
    "    'team1DUO_SUPPORT',\n",
    "    'team2TOP',\n",
    "    'team2MIDDLE',\n",
    "    'team2JUNGLE',\n",
    "    'team2DUO_CARRY',\n",
    "    'team2DUO_SUPPORT'\n",
    "    \n",
    "    \n",
    "]"
   ]
  },
  {
   "cell_type": "code",
   "execution_count": 177,
   "metadata": {},
   "outputs": [],
   "source": [
    "xgbfeatureslist =[\n",
    " 'team1DUO_CARRY_cwp',\n",
    " 'team1DUO_CARRY_owp',\n",
    " 'team1DUO_SUPPORT_cwp',\n",
    "'team1DUO_SUPPORT_owp',\n",
    "  'team1JUNGLE_cwp',\n",
    "  'team1JUNGLE_owp',\n",
    " 'team1MIDDLE_cwp',\n",
    "'team1MIDDLE_owp',\n",
    " 'team1TOP_cwp',\n",
    "'team1TOP_owp',\n",
    " 'team2DUO_CARRY_cwp',\n",
    "  'team2DUO_CARRY_owp',\n",
    " 'team2DUO_SUPPORT_cwp',\n",
    " 'team2DUO_SUPPORT_owp',\n",
    " 'team2JUNGLE_cwp',\n",
    " 'team2JUNGLE_owp',\n",
    "  'team2MIDDLE_cwp',\n",
    "'team2MIDDLE_owp',\n",
    " 'team2TOP_cwp',\n",
    " 'team2TOP_owp',\n",
    "'team1MIDDLE_cpp',\n",
    "    'team1TOP_cpp',\n",
    "    'team1JUNGLE_cpp',\n",
    "    'team1DUO_CARRY_cpp',\n",
    "    'team1DUO_SUPPORT_cpp',\n",
    "    'team2MIDDLE_cpp',\n",
    "    'team2TOP_cpp',\n",
    "    'team2JUNGLE_cpp',\n",
    "    'team2DUO_CARRY_cpp',\n",
    "    'team2DUO_SUPPORT_cpp',\n",
    "        'team1TOP',\n",
    "    'team1MIDDLE',\n",
    "    'team1JUNGLE',\n",
    "    'team1DUO_CARRY',\n",
    "    'team1DUO_SUPPORT',\n",
    "    'team2TOP',\n",
    "    'team2MIDDLE',\n",
    "    'team2JUNGLE',\n",
    "    'team2DUO_CARRY',\n",
    "    'team2DUO_SUPPORT',\n",
    "    'team1'\n",
    " ]"
   ]
  },
  {
   "cell_type": "code",
   "execution_count": 178,
   "metadata": {
    "collapsed": true
   },
   "outputs": [],
   "source": [
    "xgb_data= matches_s6[xgbfeatureslist]"
   ]
  },
  {
   "cell_type": "code",
   "execution_count": 181,
   "metadata": {},
   "outputs": [
    {
     "data": {
      "text/html": [
       "<div>\n",
       "<style>\n",
       "    .dataframe thead tr:only-child th {\n",
       "        text-align: right;\n",
       "    }\n",
       "\n",
       "    .dataframe thead th {\n",
       "        text-align: left;\n",
       "    }\n",
       "\n",
       "    .dataframe tbody tr th {\n",
       "        vertical-align: top;\n",
       "    }\n",
       "</style>\n",
       "<table border=\"1\" class=\"dataframe\">\n",
       "  <thead>\n",
       "    <tr style=\"text-align: right;\">\n",
       "      <th></th>\n",
       "      <th>team1DUO_CARRY_cwp</th>\n",
       "      <th>team1DUO_CARRY_owp</th>\n",
       "      <th>team1DUO_SUPPORT_cwp</th>\n",
       "      <th>team1DUO_SUPPORT_owp</th>\n",
       "      <th>team1JUNGLE_cwp</th>\n",
       "      <th>team1JUNGLE_owp</th>\n",
       "      <th>team1MIDDLE_cwp</th>\n",
       "      <th>team1MIDDLE_owp</th>\n",
       "      <th>team1TOP_cwp</th>\n",
       "      <th>team1TOP_owp</th>\n",
       "      <th>...</th>\n",
       "      <th>team1MIDDLE</th>\n",
       "      <th>team1JUNGLE</th>\n",
       "      <th>team1DUO_CARRY</th>\n",
       "      <th>team1DUO_SUPPORT</th>\n",
       "      <th>team2TOP</th>\n",
       "      <th>team2MIDDLE</th>\n",
       "      <th>team2JUNGLE</th>\n",
       "      <th>team2DUO_CARRY</th>\n",
       "      <th>team2DUO_SUPPORT</th>\n",
       "      <th>team1</th>\n",
       "    </tr>\n",
       "  </thead>\n",
       "  <tbody>\n",
       "    <tr>\n",
       "      <th>927</th>\n",
       "      <td>0.333333</td>\n",
       "      <td>0.524046</td>\n",
       "      <td>0.333333</td>\n",
       "      <td>0.511081</td>\n",
       "      <td>0.333333</td>\n",
       "      <td>0.549020</td>\n",
       "      <td>0.333333</td>\n",
       "      <td>0.562278</td>\n",
       "      <td>0.333333</td>\n",
       "      <td>0.491061</td>\n",
       "      <td>...</td>\n",
       "      <td>50</td>\n",
       "      <td>87</td>\n",
       "      <td>71</td>\n",
       "      <td>58</td>\n",
       "      <td>12</td>\n",
       "      <td>75</td>\n",
       "      <td>34</td>\n",
       "      <td>115</td>\n",
       "      <td>97</td>\n",
       "      <td>0</td>\n",
       "    </tr>\n",
       "    <tr>\n",
       "      <th>928</th>\n",
       "      <td>0.333333</td>\n",
       "      <td>0.521397</td>\n",
       "      <td>0.333333</td>\n",
       "      <td>0.579235</td>\n",
       "      <td>0.333333</td>\n",
       "      <td>0.562278</td>\n",
       "      <td>0.333333</td>\n",
       "      <td>0.516129</td>\n",
       "      <td>0.333333</td>\n",
       "      <td>0.509709</td>\n",
       "      <td>...</td>\n",
       "      <td>58</td>\n",
       "      <td>59</td>\n",
       "      <td>115</td>\n",
       "      <td>42</td>\n",
       "      <td>102</td>\n",
       "      <td>12</td>\n",
       "      <td>129</td>\n",
       "      <td>47</td>\n",
       "      <td>125</td>\n",
       "      <td>0</td>\n",
       "    </tr>\n",
       "    <tr>\n",
       "      <th>929</th>\n",
       "      <td>0.333333</td>\n",
       "      <td>0.689320</td>\n",
       "      <td>0.333333</td>\n",
       "      <td>0.498039</td>\n",
       "      <td>0.333333</td>\n",
       "      <td>0.549020</td>\n",
       "      <td>0.333333</td>\n",
       "      <td>0.518182</td>\n",
       "      <td>0.333333</td>\n",
       "      <td>0.515860</td>\n",
       "      <td>...</td>\n",
       "      <td>93</td>\n",
       "      <td>87</td>\n",
       "      <td>98</td>\n",
       "      <td>125</td>\n",
       "      <td>68</td>\n",
       "      <td>41</td>\n",
       "      <td>123</td>\n",
       "      <td>28</td>\n",
       "      <td>114</td>\n",
       "      <td>1</td>\n",
       "    </tr>\n",
       "    <tr>\n",
       "      <th>930</th>\n",
       "      <td>0.333333</td>\n",
       "      <td>0.586645</td>\n",
       "      <td>0.333333</td>\n",
       "      <td>0.568966</td>\n",
       "      <td>0.333333</td>\n",
       "      <td>0.595797</td>\n",
       "      <td>0.333333</td>\n",
       "      <td>0.530822</td>\n",
       "      <td>0.333333</td>\n",
       "      <td>0.520000</td>\n",
       "      <td>...</td>\n",
       "      <td>111</td>\n",
       "      <td>110</td>\n",
       "      <td>71</td>\n",
       "      <td>16</td>\n",
       "      <td>128</td>\n",
       "      <td>3</td>\n",
       "      <td>1</td>\n",
       "      <td>28</td>\n",
       "      <td>114</td>\n",
       "      <td>1</td>\n",
       "    </tr>\n",
       "    <tr>\n",
       "      <th>931</th>\n",
       "      <td>0.333333</td>\n",
       "      <td>0.586645</td>\n",
       "      <td>0.333333</td>\n",
       "      <td>0.536748</td>\n",
       "      <td>0.333333</td>\n",
       "      <td>0.595797</td>\n",
       "      <td>0.333333</td>\n",
       "      <td>0.562278</td>\n",
       "      <td>0.333333</td>\n",
       "      <td>0.536273</td>\n",
       "      <td>...</td>\n",
       "      <td>50</td>\n",
       "      <td>110</td>\n",
       "      <td>115</td>\n",
       "      <td>113</td>\n",
       "      <td>102</td>\n",
       "      <td>122</td>\n",
       "      <td>59</td>\n",
       "      <td>47</td>\n",
       "      <td>42</td>\n",
       "      <td>1</td>\n",
       "    </tr>\n",
       "  </tbody>\n",
       "</table>\n",
       "<p>5 rows × 41 columns</p>\n",
       "</div>"
      ],
      "text/plain": [
       "     team1DUO_CARRY_cwp  team1DUO_CARRY_owp  team1DUO_SUPPORT_cwp  \\\n",
       "927            0.333333            0.524046              0.333333   \n",
       "928            0.333333            0.521397              0.333333   \n",
       "929            0.333333            0.689320              0.333333   \n",
       "930            0.333333            0.586645              0.333333   \n",
       "931            0.333333            0.586645              0.333333   \n",
       "\n",
       "     team1DUO_SUPPORT_owp  team1JUNGLE_cwp  team1JUNGLE_owp  team1MIDDLE_cwp  \\\n",
       "927              0.511081         0.333333         0.549020         0.333333   \n",
       "928              0.579235         0.333333         0.562278         0.333333   \n",
       "929              0.498039         0.333333         0.549020         0.333333   \n",
       "930              0.568966         0.333333         0.595797         0.333333   \n",
       "931              0.536748         0.333333         0.595797         0.333333   \n",
       "\n",
       "     team1MIDDLE_owp  team1TOP_cwp  team1TOP_owp  ...    team1MIDDLE  \\\n",
       "927         0.562278      0.333333      0.491061  ...             50   \n",
       "928         0.516129      0.333333      0.509709  ...             58   \n",
       "929         0.518182      0.333333      0.515860  ...             93   \n",
       "930         0.530822      0.333333      0.520000  ...            111   \n",
       "931         0.562278      0.333333      0.536273  ...             50   \n",
       "\n",
       "     team1JUNGLE  team1DUO_CARRY  team1DUO_SUPPORT  team2TOP  team2MIDDLE  \\\n",
       "927           87              71                58        12           75   \n",
       "928           59             115                42       102           12   \n",
       "929           87              98               125        68           41   \n",
       "930          110              71                16       128            3   \n",
       "931          110             115               113       102          122   \n",
       "\n",
       "     team2JUNGLE  team2DUO_CARRY  team2DUO_SUPPORT  team1  \n",
       "927           34             115                97      0  \n",
       "928          129              47               125      0  \n",
       "929          123              28               114      1  \n",
       "930            1              28               114      1  \n",
       "931           59              47                42      1  \n",
       "\n",
       "[5 rows x 41 columns]"
      ]
     },
     "execution_count": 181,
     "metadata": {},
     "output_type": "execute_result"
    }
   ],
   "source": [
    "xgb_data.head()"
   ]
  },
  {
   "cell_type": "code",
   "execution_count": 184,
   "metadata": {},
   "outputs": [],
   "source": [
    "xgb_data_dummied= pd.get_dummies(xgb_data, columns=laneslist)"
   ]
  },
  {
   "cell_type": "code",
   "execution_count": 186,
   "metadata": {
    "collapsed": true
   },
   "outputs": [],
   "source": [
    "X= xgb_data_dummied.drop('team1',axis=1)"
   ]
  },
  {
   "cell_type": "code",
   "execution_count": 187,
   "metadata": {
    "collapsed": true
   },
   "outputs": [],
   "source": [
    "y=xgb_data_dummied['team1']"
   ]
  },
  {
   "cell_type": "markdown",
   "metadata": {},
   "source": [
    "So, Now we've converted all of our champions into dummy variables, and we can just feed the whole thing to xgboost. "
   ]
  },
  {
   "cell_type": "code",
   "execution_count": 188,
   "metadata": {},
   "outputs": [],
   "source": [
    "test_size = 0.2\n",
    "X_train, X_test, y_train, y_test = train_test_split(X, y, test_size=test_size)"
   ]
  },
  {
   "cell_type": "code",
   "execution_count": 189,
   "metadata": {},
   "outputs": [
    {
     "data": {
      "text/plain": [
       "XGBClassifier(base_score=0.5, colsample_bylevel=1, colsample_bytree=1,\n",
       "       gamma=0, learning_rate=0.1, max_delta_step=0, max_depth=3,\n",
       "       min_child_weight=1, missing=None, n_estimators=100, nthread=-1,\n",
       "       objective='binary:logistic', reg_alpha=0, reg_lambda=1,\n",
       "       scale_pos_weight=1, seed=0, silent=True, subsample=1)"
      ]
     },
     "execution_count": 189,
     "metadata": {},
     "output_type": "execute_result"
    }
   ],
   "source": [
    "# fit model training data\n",
    "model = XGBClassifier()\n",
    "model.fit(X_train, y_train)"
   ]
  },
  {
   "cell_type": "code",
   "execution_count": 191,
   "metadata": {},
   "outputs": [],
   "source": [
    "\n",
    "# make predictions for test data\n",
    "y_pred = model.predict(X_test)\n",
    "predictions = [round(value) for value in y_pred]"
   ]
  },
  {
   "cell_type": "code",
   "execution_count": 192,
   "metadata": {},
   "outputs": [
    {
     "name": "stdout",
     "output_type": "stream",
     "text": [
      "Accuracy: 54.39%\n"
     ]
    }
   ],
   "source": [
    "\n",
    "# evaluate predictions\n",
    "accuracy = accuracy_score(y_test, predictions)\n",
    "print(\"Accuracy: %.2f%%\" % (accuracy * 100.0))"
   ]
  },
  {
   "cell_type": "markdown",
   "metadata": {},
   "source": [
    "So we're getting the same results with xgboost we're getting with a neural net. Let's see what happens  with more computation before we try with fewer variables. "
   ]
  },
  {
   "cell_type": "code",
   "execution_count": 216,
   "metadata": {},
   "outputs": [
    {
     "data": {
      "text/plain": [
       "XGBClassifier(base_score=0.5, colsample_bylevel=1, colsample_bytree=1,\n",
       "       gamma=0, learning_rate=0.1, max_delta_step=0, max_depth=7,\n",
       "       min_child_weight=1, missing=None, n_estimators=500, nthread=-1,\n",
       "       objective='binary:logistic', reg_alpha=0, reg_lambda=1,\n",
       "       scale_pos_weight=1, seed=0, silent=True, subsample=1)"
      ]
     },
     "execution_count": 216,
     "metadata": {},
     "output_type": "execute_result"
    }
   ],
   "source": [
    "\n",
    "# fit model no training data\n",
    "model2 = XGBClassifier(max_depth=7,n_estimators=500)\n",
    "model2.fit(X_train, y_train)"
   ]
  },
  {
   "cell_type": "code",
   "execution_count": 215,
   "metadata": {},
   "outputs": [
    {
     "name": "stdout",
     "output_type": "stream",
     "text": [
      "Accuracy: 52.70%\n"
     ]
    }
   ],
   "source": [
    "y_pred2 = model2.predict(X_test)\n",
    "predictions = [round(value) for value in y_pred2]\n",
    "accuracy = accuracy_score(y_test, predictions)\n",
    "print(\"Accuracy: %.2f%%\" % (accuracy * 100.0))"
   ]
  },
  {
   "cell_type": "code",
   "execution_count": 199,
   "metadata": {},
   "outputs": [],
   "source": [
    "xbg2laneslist = [\n",
    "    'team1',\n",
    "    'team1TOP',\n",
    "    'team1MIDDLE',\n",
    "    'team1JUNGLE',\n",
    "    'team1DUO_CARRY',\n",
    "    'team1DUO_SUPPORT',\n",
    "    'team2TOP',\n",
    "    'team2MIDDLE',\n",
    "    'team2JUNGLE',\n",
    "    'team2DUO_CARRY',\n",
    "    'team2DUO_SUPPORT'\n",
    "    \n",
    "    \n",
    "]"
   ]
  },
  {
   "cell_type": "code",
   "execution_count": 200,
   "metadata": {},
   "outputs": [],
   "source": [
    "xgb_data2= matches_s6[xbg2laneslist]"
   ]
  },
  {
   "cell_type": "code",
   "execution_count": 201,
   "metadata": {
    "collapsed": true
   },
   "outputs": [],
   "source": [
    "xgb_data_dummied2= pd.get_dummies(xgb_data2, columns=laneslist)"
   ]
  },
  {
   "cell_type": "code",
   "execution_count": 204,
   "metadata": {},
   "outputs": [],
   "source": [
    "X2= xgb_data_dummied.drop('team1',axis=1)\n",
    "y2=xgb_data_dummied['team1']"
   ]
  },
  {
   "cell_type": "code",
   "execution_count": 205,
   "metadata": {},
   "outputs": [],
   "source": [
    "test_size = 0.2\n",
    "X2_train, X2_test, y2_train, y2_test = train_test_split(X2, y2, test_size=test_size)"
   ]
  },
  {
   "cell_type": "code",
   "execution_count": 243,
   "metadata": {},
   "outputs": [
    {
     "data": {
      "text/plain": [
       "XGBClassifier(base_score=0.5, colsample_bylevel=1, colsample_bytree=1,\n",
       "       gamma=0, learning_rate=0.1, max_delta_step=0, max_depth=4,\n",
       "       min_child_weight=1, missing=None, n_estimators=200, nthread=-1,\n",
       "       objective='binary:logistic', reg_alpha=0, reg_lambda=1,\n",
       "       scale_pos_weight=1, seed=0, silent=True, subsample=1)"
      ]
     },
     "execution_count": 243,
     "metadata": {},
     "output_type": "execute_result"
    }
   ],
   "source": [
    "\n",
    "# fit model no training data\n",
    "model3 = XGBClassifier(max_depth=4,n_estimators=200)\n",
    "model3.fit(X2_train, y2_train)"
   ]
  },
  {
   "cell_type": "code",
   "execution_count": 244,
   "metadata": {},
   "outputs": [],
   "source": [
    "y_pred3 = model3.predict(X2_test)\n",
    "predictions3 = [round(value) for value in y_pred3]"
   ]
  },
  {
   "cell_type": "code",
   "execution_count": 245,
   "metadata": {},
   "outputs": [
    {
     "name": "stdout",
     "output_type": "stream",
     "text": [
      "Accuracy: 54.32%\n"
     ]
    }
   ],
   "source": [
    "accuracy = accuracy_score(y2_test, predictions3)\n",
    "print(\"Accuracy: %.2f%%\" % (accuracy * 100.0))"
   ]
  },
  {
   "cell_type": "markdown",
   "metadata": {},
   "source": [
    "Getting 54 percent success with XGBOOSt, 55 with a factorization machine neural network with keras is I suspect the limits with my current dataset. "
   ]
  },
  {
   "cell_type": "markdown",
   "metadata": {},
   "source": [
    "How to improve data (and require less imputation) for future versions of this project:"
   ]
  },
  {
   "cell_type": "markdown",
   "metadata": {},
   "source": [
    "1. Scrape more matches. \n",
    "Lack of matches given the relative sparsity of the dataset (133 active champions in 10 roles means many combinations are rare)"
   ]
  },
  {
   "cell_type": "markdown",
   "metadata": {},
   "source": [
    "2. Redesign the scraper to ignore summary statistics. \n",
    "All of the summary statistics appear to make models worse. \n",
    "Doing summary statistics off of data gathered would produce better outcomes. "
   ]
  },
  {
   "cell_type": "markdown",
   "metadata": {
    "collapsed": true
   },
   "source": [
    "3. Redesign the scrape method to prioritize fewer different summoners:\n",
    "Psuedo code for a better scrape method would be:\n",
    "scrape 200 top players. Get all matches they have played. \n",
    "Get all players who have played with the top 200 in all of teir matches . \n",
    "Stop getting new scrape players at that point. \n",
    "Restart at beginning of loop. "
   ]
  },
  {
   "cell_type": "markdown",
   "metadata": {
    "collapsed": true
   },
   "source": [
    "4. Benefits of part 3 pseudo-code:\n",
    "Having fewer players to scrape means that it's possible to generate our own summary statistics:\n",
    "For each champion in each patch, generate overall w/l and games played. \n",
    "For each player, generate overall win/loss, win/loss per champion, and champion play percentage. \n",
    "Because none of these are imputed, there should be less duplicate values as in our currently imputed dataset. \n"
   ]
  },
  {
   "cell_type": "markdown",
   "metadata": {},
   "source": [
    "## Post Script: XGBoost imputation:\n",
    "We can go back to the dataprep notebook, and re-process data without imputation. \n",
    "Then we'll run xgboost with that. "
   ]
  },
  {
   "cell_type": "code",
   "execution_count": 246,
   "metadata": {
    "collapsed": true
   },
   "outputs": [],
   "source": [
    "nonimputed= pd.read_csv('matches_no_impute.csv')"
   ]
  },
  {
   "cell_type": "code",
   "execution_count": 247,
   "metadata": {},
   "outputs": [
    {
     "data": {
      "text/html": [
       "<div>\n",
       "<style>\n",
       "    .dataframe thead tr:only-child th {\n",
       "        text-align: right;\n",
       "    }\n",
       "\n",
       "    .dataframe thead th {\n",
       "        text-align: left;\n",
       "    }\n",
       "\n",
       "    .dataframe tbody tr th {\n",
       "        vertical-align: top;\n",
       "    }\n",
       "</style>\n",
       "<table border=\"1\" class=\"dataframe\">\n",
       "  <thead>\n",
       "    <tr style=\"text-align: right;\">\n",
       "      <th></th>\n",
       "      <th>Unnamed: 0</th>\n",
       "      <th>MatchID</th>\n",
       "      <th>matchid</th>\n",
       "      <th>matchtime</th>\n",
       "      <th>patch_version</th>\n",
       "      <th>player10champid</th>\n",
       "      <th>player10lane</th>\n",
       "      <th>player10role</th>\n",
       "      <th>player10summonerid</th>\n",
       "      <th>player10summonername</th>\n",
       "      <th>...</th>\n",
       "      <th>team2SOLO_owp</th>\n",
       "      <th>team2TOP</th>\n",
       "      <th>team2TOP_cl</th>\n",
       "      <th>team2TOP_cpp</th>\n",
       "      <th>team2TOP_cw</th>\n",
       "      <th>team2TOP_cwp</th>\n",
       "      <th>team2TOP_ol</th>\n",
       "      <th>team2TOP_ow</th>\n",
       "      <th>team2TOP_owp</th>\n",
       "      <th>team2_win</th>\n",
       "    </tr>\n",
       "  </thead>\n",
       "  <tbody>\n",
       "    <tr>\n",
       "      <th>0</th>\n",
       "      <td>0</td>\n",
       "      <td>2.078664e+09</td>\n",
       "      <td>2078663920</td>\n",
       "      <td>2016-01-25 05:06:24.884000</td>\n",
       "      <td>6.1.0.484</td>\n",
       "      <td>4.0</td>\n",
       "      <td>MIDDLE</td>\n",
       "      <td>SOLO</td>\n",
       "      <td>21498922.0</td>\n",
       "      <td>TR Linsanity</td>\n",
       "      <td>...</td>\n",
       "      <td>NaN</td>\n",
       "      <td>114.0</td>\n",
       "      <td>NaN</td>\n",
       "      <td>NaN</td>\n",
       "      <td>NaN</td>\n",
       "      <td>NaN</td>\n",
       "      <td>181.0</td>\n",
       "      <td>178.0</td>\n",
       "      <td>0.495822</td>\n",
       "      <td>False</td>\n",
       "    </tr>\n",
       "    <tr>\n",
       "      <th>1</th>\n",
       "      <td>1</td>\n",
       "      <td>2.078608e+09</td>\n",
       "      <td>2078608407</td>\n",
       "      <td>2016-01-25 04:25:30.551000</td>\n",
       "      <td>6.1.0.484</td>\n",
       "      <td>41.0</td>\n",
       "      <td>TOP</td>\n",
       "      <td>SOLO</td>\n",
       "      <td>28039649.0</td>\n",
       "      <td>Chunkylol</td>\n",
       "      <td>...</td>\n",
       "      <td>NaN</td>\n",
       "      <td>41.0</td>\n",
       "      <td>2.0</td>\n",
       "      <td>0.004990</td>\n",
       "      <td>3.0</td>\n",
       "      <td>0.600000</td>\n",
       "      <td>483.0</td>\n",
       "      <td>519.0</td>\n",
       "      <td>0.517964</td>\n",
       "      <td>True</td>\n",
       "    </tr>\n",
       "    <tr>\n",
       "      <th>2</th>\n",
       "      <td>2</td>\n",
       "      <td>2.078592e+09</td>\n",
       "      <td>2078592445</td>\n",
       "      <td>2016-01-25 03:52:01.302000</td>\n",
       "      <td>6.1.0.484</td>\n",
       "      <td>40.0</td>\n",
       "      <td>BOTTOM</td>\n",
       "      <td>DUO_SUPPORT</td>\n",
       "      <td>19806051.0</td>\n",
       "      <td>TR Strife</td>\n",
       "      <td>...</td>\n",
       "      <td>NaN</td>\n",
       "      <td>24.0</td>\n",
       "      <td>NaN</td>\n",
       "      <td>NaN</td>\n",
       "      <td>NaN</td>\n",
       "      <td>NaN</td>\n",
       "      <td>716.0</td>\n",
       "      <td>751.0</td>\n",
       "      <td>0.511929</td>\n",
       "      <td>True</td>\n",
       "    </tr>\n",
       "    <tr>\n",
       "      <th>3</th>\n",
       "      <td>3</td>\n",
       "      <td>2.078495e+09</td>\n",
       "      <td>2078494759</td>\n",
       "      <td>2016-01-25 03:13:55.927000</td>\n",
       "      <td>6.1.0.484</td>\n",
       "      <td>40.0</td>\n",
       "      <td>BOTTOM</td>\n",
       "      <td>DUO_SUPPORT</td>\n",
       "      <td>465551.0</td>\n",
       "      <td>lIlIlIIIIlIIIlII</td>\n",
       "      <td>...</td>\n",
       "      <td>NaN</td>\n",
       "      <td>27.0</td>\n",
       "      <td>29.0</td>\n",
       "      <td>0.827586</td>\n",
       "      <td>43.0</td>\n",
       "      <td>0.597222</td>\n",
       "      <td>39.0</td>\n",
       "      <td>48.0</td>\n",
       "      <td>0.551724</td>\n",
       "      <td>True</td>\n",
       "    </tr>\n",
       "    <tr>\n",
       "      <th>4</th>\n",
       "      <td>4</td>\n",
       "      <td>2.078438e+09</td>\n",
       "      <td>2078437727</td>\n",
       "      <td>2016-01-25 02:41:39.662000</td>\n",
       "      <td>6.1.0.484</td>\n",
       "      <td>42.0</td>\n",
       "      <td>MIDDLE</td>\n",
       "      <td>SOLO</td>\n",
       "      <td>22005573.0</td>\n",
       "      <td>caaaaaaaaaaaaake</td>\n",
       "      <td>...</td>\n",
       "      <td>NaN</td>\n",
       "      <td>114.0</td>\n",
       "      <td>3.0</td>\n",
       "      <td>0.004772</td>\n",
       "      <td>4.0</td>\n",
       "      <td>0.571429</td>\n",
       "      <td>716.0</td>\n",
       "      <td>751.0</td>\n",
       "      <td>0.511929</td>\n",
       "      <td>True</td>\n",
       "    </tr>\n",
       "  </tbody>\n",
       "</table>\n",
       "<p>5 rows × 185 columns</p>\n",
       "</div>"
      ],
      "text/plain": [
       "   Unnamed: 0       MatchID     matchid                   matchtime  \\\n",
       "0           0  2.078664e+09  2078663920  2016-01-25 05:06:24.884000   \n",
       "1           1  2.078608e+09  2078608407  2016-01-25 04:25:30.551000   \n",
       "2           2  2.078592e+09  2078592445  2016-01-25 03:52:01.302000   \n",
       "3           3  2.078495e+09  2078494759  2016-01-25 03:13:55.927000   \n",
       "4           4  2.078438e+09  2078437727  2016-01-25 02:41:39.662000   \n",
       "\n",
       "  patch_version  player10champid player10lane player10role  \\\n",
       "0     6.1.0.484              4.0       MIDDLE         SOLO   \n",
       "1     6.1.0.484             41.0          TOP         SOLO   \n",
       "2     6.1.0.484             40.0       BOTTOM  DUO_SUPPORT   \n",
       "3     6.1.0.484             40.0       BOTTOM  DUO_SUPPORT   \n",
       "4     6.1.0.484             42.0       MIDDLE         SOLO   \n",
       "\n",
       "   player10summonerid player10summonername    ...     team2SOLO_owp team2TOP  \\\n",
       "0          21498922.0         TR Linsanity    ...               NaN    114.0   \n",
       "1          28039649.0            Chunkylol    ...               NaN     41.0   \n",
       "2          19806051.0            TR Strife    ...               NaN     24.0   \n",
       "3            465551.0     lIlIlIIIIlIIIlII    ...               NaN     27.0   \n",
       "4          22005573.0     caaaaaaaaaaaaake    ...               NaN    114.0   \n",
       "\n",
       "  team2TOP_cl  team2TOP_cpp team2TOP_cw  team2TOP_cwp team2TOP_ol team2TOP_ow  \\\n",
       "0         NaN           NaN         NaN           NaN       181.0       178.0   \n",
       "1         2.0      0.004990         3.0      0.600000       483.0       519.0   \n",
       "2         NaN           NaN         NaN           NaN       716.0       751.0   \n",
       "3        29.0      0.827586        43.0      0.597222        39.0        48.0   \n",
       "4         3.0      0.004772         4.0      0.571429       716.0       751.0   \n",
       "\n",
       "   team2TOP_owp team2_win  \n",
       "0      0.495822     False  \n",
       "1      0.517964      True  \n",
       "2      0.511929      True  \n",
       "3      0.551724      True  \n",
       "4      0.511929      True  \n",
       "\n",
       "[5 rows x 185 columns]"
      ]
     },
     "execution_count": 247,
     "metadata": {},
     "output_type": "execute_result"
    }
   ],
   "source": [
    "nonimputed.head()"
   ]
  },
  {
   "cell_type": "code",
   "execution_count": 248,
   "metadata": {},
   "outputs": [
    {
     "data": {
      "text/html": [
       "<div>\n",
       "<style>\n",
       "    .dataframe thead tr:only-child th {\n",
       "        text-align: right;\n",
       "    }\n",
       "\n",
       "    .dataframe thead th {\n",
       "        text-align: left;\n",
       "    }\n",
       "\n",
       "    .dataframe tbody tr th {\n",
       "        vertical-align: top;\n",
       "    }\n",
       "</style>\n",
       "<table border=\"1\" class=\"dataframe\">\n",
       "  <thead>\n",
       "    <tr style=\"text-align: right;\">\n",
       "      <th></th>\n",
       "      <th>Unnamed: 0</th>\n",
       "      <th>MatchID</th>\n",
       "      <th>matchid</th>\n",
       "      <th>matchtime</th>\n",
       "      <th>patch_version</th>\n",
       "      <th>player10champid</th>\n",
       "      <th>player10lane</th>\n",
       "      <th>player10role</th>\n",
       "      <th>player10summonerid</th>\n",
       "      <th>player10summonername</th>\n",
       "      <th>...</th>\n",
       "      <th>team2TOP_cl</th>\n",
       "      <th>team2TOP_cpp</th>\n",
       "      <th>team2TOP_cw</th>\n",
       "      <th>team2TOP_cwp</th>\n",
       "      <th>team2TOP_ol</th>\n",
       "      <th>team2TOP_ow</th>\n",
       "      <th>team2TOP_owp</th>\n",
       "      <th>team2_win</th>\n",
       "      <th>team1</th>\n",
       "      <th>team2</th>\n",
       "    </tr>\n",
       "  </thead>\n",
       "  <tbody>\n",
       "    <tr>\n",
       "      <th>0</th>\n",
       "      <td>0</td>\n",
       "      <td>2.078664e+09</td>\n",
       "      <td>2078663920</td>\n",
       "      <td>2016-01-25 05:06:24.884000</td>\n",
       "      <td>6.1.0.484</td>\n",
       "      <td>4.0</td>\n",
       "      <td>MIDDLE</td>\n",
       "      <td>SOLO</td>\n",
       "      <td>21498922.0</td>\n",
       "      <td>TR Linsanity</td>\n",
       "      <td>...</td>\n",
       "      <td>NaN</td>\n",
       "      <td>NaN</td>\n",
       "      <td>NaN</td>\n",
       "      <td>NaN</td>\n",
       "      <td>181.0</td>\n",
       "      <td>178.0</td>\n",
       "      <td>0.495822</td>\n",
       "      <td>False</td>\n",
       "      <td>1</td>\n",
       "      <td>0</td>\n",
       "    </tr>\n",
       "    <tr>\n",
       "      <th>1</th>\n",
       "      <td>1</td>\n",
       "      <td>2.078608e+09</td>\n",
       "      <td>2078608407</td>\n",
       "      <td>2016-01-25 04:25:30.551000</td>\n",
       "      <td>6.1.0.484</td>\n",
       "      <td>41.0</td>\n",
       "      <td>TOP</td>\n",
       "      <td>SOLO</td>\n",
       "      <td>28039649.0</td>\n",
       "      <td>Chunkylol</td>\n",
       "      <td>...</td>\n",
       "      <td>2.0</td>\n",
       "      <td>0.004990</td>\n",
       "      <td>3.0</td>\n",
       "      <td>0.600000</td>\n",
       "      <td>483.0</td>\n",
       "      <td>519.0</td>\n",
       "      <td>0.517964</td>\n",
       "      <td>True</td>\n",
       "      <td>0</td>\n",
       "      <td>1</td>\n",
       "    </tr>\n",
       "    <tr>\n",
       "      <th>2</th>\n",
       "      <td>2</td>\n",
       "      <td>2.078592e+09</td>\n",
       "      <td>2078592445</td>\n",
       "      <td>2016-01-25 03:52:01.302000</td>\n",
       "      <td>6.1.0.484</td>\n",
       "      <td>40.0</td>\n",
       "      <td>BOTTOM</td>\n",
       "      <td>DUO_SUPPORT</td>\n",
       "      <td>19806051.0</td>\n",
       "      <td>TR Strife</td>\n",
       "      <td>...</td>\n",
       "      <td>NaN</td>\n",
       "      <td>NaN</td>\n",
       "      <td>NaN</td>\n",
       "      <td>NaN</td>\n",
       "      <td>716.0</td>\n",
       "      <td>751.0</td>\n",
       "      <td>0.511929</td>\n",
       "      <td>True</td>\n",
       "      <td>0</td>\n",
       "      <td>1</td>\n",
       "    </tr>\n",
       "    <tr>\n",
       "      <th>3</th>\n",
       "      <td>3</td>\n",
       "      <td>2.078495e+09</td>\n",
       "      <td>2078494759</td>\n",
       "      <td>2016-01-25 03:13:55.927000</td>\n",
       "      <td>6.1.0.484</td>\n",
       "      <td>40.0</td>\n",
       "      <td>BOTTOM</td>\n",
       "      <td>DUO_SUPPORT</td>\n",
       "      <td>465551.0</td>\n",
       "      <td>lIlIlIIIIlIIIlII</td>\n",
       "      <td>...</td>\n",
       "      <td>29.0</td>\n",
       "      <td>0.827586</td>\n",
       "      <td>43.0</td>\n",
       "      <td>0.597222</td>\n",
       "      <td>39.0</td>\n",
       "      <td>48.0</td>\n",
       "      <td>0.551724</td>\n",
       "      <td>True</td>\n",
       "      <td>0</td>\n",
       "      <td>1</td>\n",
       "    </tr>\n",
       "    <tr>\n",
       "      <th>4</th>\n",
       "      <td>4</td>\n",
       "      <td>2.078438e+09</td>\n",
       "      <td>2078437727</td>\n",
       "      <td>2016-01-25 02:41:39.662000</td>\n",
       "      <td>6.1.0.484</td>\n",
       "      <td>42.0</td>\n",
       "      <td>MIDDLE</td>\n",
       "      <td>SOLO</td>\n",
       "      <td>22005573.0</td>\n",
       "      <td>caaaaaaaaaaaaake</td>\n",
       "      <td>...</td>\n",
       "      <td>3.0</td>\n",
       "      <td>0.004772</td>\n",
       "      <td>4.0</td>\n",
       "      <td>0.571429</td>\n",
       "      <td>716.0</td>\n",
       "      <td>751.0</td>\n",
       "      <td>0.511929</td>\n",
       "      <td>True</td>\n",
       "      <td>0</td>\n",
       "      <td>1</td>\n",
       "    </tr>\n",
       "  </tbody>\n",
       "</table>\n",
       "<p>5 rows × 187 columns</p>\n",
       "</div>"
      ],
      "text/plain": [
       "   Unnamed: 0       MatchID     matchid                   matchtime  \\\n",
       "0           0  2.078664e+09  2078663920  2016-01-25 05:06:24.884000   \n",
       "1           1  2.078608e+09  2078608407  2016-01-25 04:25:30.551000   \n",
       "2           2  2.078592e+09  2078592445  2016-01-25 03:52:01.302000   \n",
       "3           3  2.078495e+09  2078494759  2016-01-25 03:13:55.927000   \n",
       "4           4  2.078438e+09  2078437727  2016-01-25 02:41:39.662000   \n",
       "\n",
       "  patch_version  player10champid player10lane player10role  \\\n",
       "0     6.1.0.484              4.0       MIDDLE         SOLO   \n",
       "1     6.1.0.484             41.0          TOP         SOLO   \n",
       "2     6.1.0.484             40.0       BOTTOM  DUO_SUPPORT   \n",
       "3     6.1.0.484             40.0       BOTTOM  DUO_SUPPORT   \n",
       "4     6.1.0.484             42.0       MIDDLE         SOLO   \n",
       "\n",
       "   player10summonerid player10summonername  ...   team2TOP_cl team2TOP_cpp  \\\n",
       "0          21498922.0         TR Linsanity  ...           NaN          NaN   \n",
       "1          28039649.0            Chunkylol  ...           2.0     0.004990   \n",
       "2          19806051.0            TR Strife  ...           NaN          NaN   \n",
       "3            465551.0     lIlIlIIIIlIIIlII  ...          29.0     0.827586   \n",
       "4          22005573.0     caaaaaaaaaaaaake  ...           3.0     0.004772   \n",
       "\n",
       "  team2TOP_cw  team2TOP_cwp team2TOP_ol  team2TOP_ow team2TOP_owp team2_win  \\\n",
       "0         NaN           NaN       181.0        178.0     0.495822     False   \n",
       "1         3.0      0.600000       483.0        519.0     0.517964      True   \n",
       "2         NaN           NaN       716.0        751.0     0.511929      True   \n",
       "3        43.0      0.597222        39.0         48.0     0.551724      True   \n",
       "4         4.0      0.571429       716.0        751.0     0.511929      True   \n",
       "\n",
       "   team1 team2  \n",
       "0      1     0  \n",
       "1      0     1  \n",
       "2      0     1  \n",
       "3      0     1  \n",
       "4      0     1  \n",
       "\n",
       "[5 rows x 187 columns]"
      ]
     },
     "execution_count": 248,
     "metadata": {},
     "output_type": "execute_result"
    }
   ],
   "source": [
    "nonimputed['team1']=nonimputed['team1_win'].astype('int')\n",
    "nonimputed['team2']=nonimputed['team2_win'].astype('int')\n",
    "nonimputed.head()"
   ]
  },
  {
   "cell_type": "code",
   "execution_count": 252,
   "metadata": {},
   "outputs": [
    {
     "data": {
      "text/plain": [
       "['Unnamed: 0',\n",
       " 'MatchID',\n",
       " 'matchid',\n",
       " 'matchtime',\n",
       " 'patch_version',\n",
       " 'player10champid',\n",
       " 'player10lane',\n",
       " 'player10role',\n",
       " 'player10summonerid',\n",
       " 'player10summonername',\n",
       " 'player1champid',\n",
       " 'player1lane',\n",
       " 'player1role',\n",
       " 'player1summonerid',\n",
       " 'player1summonername',\n",
       " 'player2champid',\n",
       " 'player2lane',\n",
       " 'player2role',\n",
       " 'player2summonerid',\n",
       " 'player2summonername',\n",
       " 'player3champid',\n",
       " 'player3lane',\n",
       " 'player3role',\n",
       " 'player3summonerid',\n",
       " 'player3summonername',\n",
       " 'player4champid',\n",
       " 'player4lane',\n",
       " 'player4role',\n",
       " 'player4summonerid',\n",
       " 'player4summonername',\n",
       " 'player5champid',\n",
       " 'player5lane',\n",
       " 'player5role',\n",
       " 'player5summonerid',\n",
       " 'player5summonername',\n",
       " 'player6champid',\n",
       " 'player6lane',\n",
       " 'player6role',\n",
       " 'player6summonerid',\n",
       " 'player6summonername',\n",
       " 'player7champid',\n",
       " 'player7lane',\n",
       " 'player7role',\n",
       " 'player7summonerid',\n",
       " 'player7summonername',\n",
       " 'player8champid',\n",
       " 'player8lane',\n",
       " 'player8role',\n",
       " 'player8summonerid',\n",
       " 'player8summonername',\n",
       " 'player9champid',\n",
       " 'player9lane',\n",
       " 'player9role',\n",
       " 'player9summonerid',\n",
       " 'player9summonername',\n",
       " 'team1DUO',\n",
       " 'team1DUO_CARRY',\n",
       " 'team1DUO_CARRY_cl',\n",
       " 'team1DUO_CARRY_cpp',\n",
       " 'team1DUO_CARRY_cw',\n",
       " 'team1DUO_CARRY_cwp',\n",
       " 'team1DUO_CARRY_ol',\n",
       " 'team1DUO_CARRY_ow',\n",
       " 'team1DUO_CARRY_owp',\n",
       " 'team1DUO_SUPPORT',\n",
       " 'team1DUO_SUPPORT_cl',\n",
       " 'team1DUO_SUPPORT_cpp',\n",
       " 'team1DUO_SUPPORT_cw',\n",
       " 'team1DUO_SUPPORT_cwp',\n",
       " 'team1DUO_SUPPORT_ol',\n",
       " 'team1DUO_SUPPORT_ow',\n",
       " 'team1DUO_SUPPORT_owp',\n",
       " 'team1DUO_cl',\n",
       " 'team1DUO_cpp',\n",
       " 'team1DUO_cw',\n",
       " 'team1DUO_cwp',\n",
       " 'team1DUO_ol',\n",
       " 'team1DUO_ow',\n",
       " 'team1DUO_owp',\n",
       " 'team1JUNGLE',\n",
       " 'team1JUNGLE_cl',\n",
       " 'team1JUNGLE_cpp',\n",
       " 'team1JUNGLE_cw',\n",
       " 'team1JUNGLE_cwp',\n",
       " 'team1JUNGLE_ol',\n",
       " 'team1JUNGLE_ow',\n",
       " 'team1JUNGLE_owp',\n",
       " 'team1MIDDLE',\n",
       " 'team1MIDDLE_cl',\n",
       " 'team1MIDDLE_cpp',\n",
       " 'team1MIDDLE_cw',\n",
       " 'team1MIDDLE_cwp',\n",
       " 'team1MIDDLE_ol',\n",
       " 'team1MIDDLE_ow',\n",
       " 'team1MIDDLE_owp',\n",
       " 'team1NONE',\n",
       " 'team1NONE_cl',\n",
       " 'team1NONE_cpp',\n",
       " 'team1NONE_cw',\n",
       " 'team1NONE_cwp',\n",
       " 'team1NONE_ol',\n",
       " 'team1NONE_ow',\n",
       " 'team1NONE_owp',\n",
       " 'team1SOLO',\n",
       " 'team1SOLO_cl',\n",
       " 'team1SOLO_cpp',\n",
       " 'team1SOLO_cw',\n",
       " 'team1SOLO_cwp',\n",
       " 'team1SOLO_ol',\n",
       " 'team1SOLO_ow',\n",
       " 'team1SOLO_owp',\n",
       " 'team1TOP',\n",
       " 'team1TOP_cl',\n",
       " 'team1TOP_cpp',\n",
       " 'team1TOP_cw',\n",
       " 'team1TOP_cwp',\n",
       " 'team1TOP_ol',\n",
       " 'team1TOP_ow',\n",
       " 'team1TOP_owp',\n",
       " 'team1_win',\n",
       " 'team2DUO',\n",
       " 'team2DUO_CARRY',\n",
       " 'team2DUO_CARRY_cl',\n",
       " 'team2DUO_CARRY_cpp',\n",
       " 'team2DUO_CARRY_cw',\n",
       " 'team2DUO_CARRY_cwp',\n",
       " 'team2DUO_CARRY_ol',\n",
       " 'team2DUO_CARRY_ow',\n",
       " 'team2DUO_CARRY_owp',\n",
       " 'team2DUO_SUPPORT',\n",
       " 'team2DUO_SUPPORT_cl',\n",
       " 'team2DUO_SUPPORT_cpp',\n",
       " 'team2DUO_SUPPORT_cw',\n",
       " 'team2DUO_SUPPORT_cwp',\n",
       " 'team2DUO_SUPPORT_ol',\n",
       " 'team2DUO_SUPPORT_ow',\n",
       " 'team2DUO_SUPPORT_owp',\n",
       " 'team2DUO_cl',\n",
       " 'team2DUO_cpp',\n",
       " 'team2DUO_cw',\n",
       " 'team2DUO_cwp',\n",
       " 'team2DUO_ol',\n",
       " 'team2DUO_ow',\n",
       " 'team2DUO_owp',\n",
       " 'team2JUNGLE',\n",
       " 'team2JUNGLE_cl',\n",
       " 'team2JUNGLE_cpp',\n",
       " 'team2JUNGLE_cw',\n",
       " 'team2JUNGLE_cwp',\n",
       " 'team2JUNGLE_ol',\n",
       " 'team2JUNGLE_ow',\n",
       " 'team2JUNGLE_owp',\n",
       " 'team2MIDDLE',\n",
       " 'team2MIDDLE_cl',\n",
       " 'team2MIDDLE_cpp',\n",
       " 'team2MIDDLE_cw',\n",
       " 'team2MIDDLE_cwp',\n",
       " 'team2MIDDLE_ol',\n",
       " 'team2MIDDLE_ow',\n",
       " 'team2MIDDLE_owp',\n",
       " 'team2NONE',\n",
       " 'team2NONE_cl',\n",
       " 'team2NONE_cpp',\n",
       " 'team2NONE_cw',\n",
       " 'team2NONE_cwp',\n",
       " 'team2NONE_ol',\n",
       " 'team2NONE_ow',\n",
       " 'team2NONE_owp',\n",
       " 'team2SOLO',\n",
       " 'team2SOLO_cl',\n",
       " 'team2SOLO_cpp',\n",
       " 'team2SOLO_cw',\n",
       " 'team2SOLO_cwp',\n",
       " 'team2SOLO_ol',\n",
       " 'team2SOLO_ow',\n",
       " 'team2SOLO_owp',\n",
       " 'team2TOP',\n",
       " 'team2TOP_cl',\n",
       " 'team2TOP_cpp',\n",
       " 'team2TOP_cw',\n",
       " 'team2TOP_cwp',\n",
       " 'team2TOP_ol',\n",
       " 'team2TOP_ow',\n",
       " 'team2TOP_owp',\n",
       " 'team2_win',\n",
       " 'team1',\n",
       " 'team2']"
      ]
     },
     "execution_count": 252,
     "metadata": {},
     "output_type": "execute_result"
    }
   ],
   "source": [
    "list(nonimputed.columns)"
   ]
  },
  {
   "cell_type": "code",
   "execution_count": 253,
   "metadata": {
    "collapsed": true
   },
   "outputs": [],
   "source": [
    "xgb_nonimpute_data= nonimputed[xgbfeatureslist]"
   ]
  },
  {
   "cell_type": "code",
   "execution_count": 254,
   "metadata": {},
   "outputs": [
    {
     "data": {
      "text/html": [
       "<div>\n",
       "<style>\n",
       "    .dataframe thead tr:only-child th {\n",
       "        text-align: right;\n",
       "    }\n",
       "\n",
       "    .dataframe thead th {\n",
       "        text-align: left;\n",
       "    }\n",
       "\n",
       "    .dataframe tbody tr th {\n",
       "        vertical-align: top;\n",
       "    }\n",
       "</style>\n",
       "<table border=\"1\" class=\"dataframe\">\n",
       "  <thead>\n",
       "    <tr style=\"text-align: right;\">\n",
       "      <th></th>\n",
       "      <th>team1DUO_CARRY_cwp</th>\n",
       "      <th>team1DUO_CARRY_owp</th>\n",
       "      <th>team1DUO_SUPPORT_cwp</th>\n",
       "      <th>team1DUO_SUPPORT_owp</th>\n",
       "      <th>team1JUNGLE_cwp</th>\n",
       "      <th>team1JUNGLE_owp</th>\n",
       "      <th>team1MIDDLE_cwp</th>\n",
       "      <th>team1MIDDLE_owp</th>\n",
       "      <th>team1TOP_cwp</th>\n",
       "      <th>team1TOP_owp</th>\n",
       "      <th>...</th>\n",
       "      <th>team1MIDDLE</th>\n",
       "      <th>team1JUNGLE</th>\n",
       "      <th>team1DUO_CARRY</th>\n",
       "      <th>team1DUO_SUPPORT</th>\n",
       "      <th>team2TOP</th>\n",
       "      <th>team2MIDDLE</th>\n",
       "      <th>team2JUNGLE</th>\n",
       "      <th>team2DUO_CARRY</th>\n",
       "      <th>team2DUO_SUPPORT</th>\n",
       "      <th>team1</th>\n",
       "    </tr>\n",
       "  </thead>\n",
       "  <tbody>\n",
       "    <tr>\n",
       "      <th>0</th>\n",
       "      <td>0.500000</td>\n",
       "      <td>0.578667</td>\n",
       "      <td>0.503400</td>\n",
       "      <td>0.509830</td>\n",
       "      <td>0.272727</td>\n",
       "      <td>0.514720</td>\n",
       "      <td>0.500000</td>\n",
       "      <td>0.512658</td>\n",
       "      <td>0.769231</td>\n",
       "      <td>0.545894</td>\n",
       "      <td>...</td>\n",
       "      <td>13.0</td>\n",
       "      <td>245.0</td>\n",
       "      <td>42.0</td>\n",
       "      <td>412.0</td>\n",
       "      <td>114.0</td>\n",
       "      <td>4.0</td>\n",
       "      <td>64.0</td>\n",
       "      <td>236.0</td>\n",
       "      <td>40.0</td>\n",
       "      <td>1</td>\n",
       "    </tr>\n",
       "    <tr>\n",
       "      <th>1</th>\n",
       "      <td>0.485753</td>\n",
       "      <td>0.509830</td>\n",
       "      <td>0.499603</td>\n",
       "      <td>0.509830</td>\n",
       "      <td>0.500000</td>\n",
       "      <td>0.495822</td>\n",
       "      <td>0.587719</td>\n",
       "      <td>0.555556</td>\n",
       "      <td>NaN</td>\n",
       "      <td>0.511929</td>\n",
       "      <td>...</td>\n",
       "      <td>74.0</td>\n",
       "      <td>36.0</td>\n",
       "      <td>429.0</td>\n",
       "      <td>111.0</td>\n",
       "      <td>41.0</td>\n",
       "      <td>134.0</td>\n",
       "      <td>421.0</td>\n",
       "      <td>42.0</td>\n",
       "      <td>25.0</td>\n",
       "      <td>0</td>\n",
       "    </tr>\n",
       "    <tr>\n",
       "      <th>2</th>\n",
       "      <td>NaN</td>\n",
       "      <td>0.666667</td>\n",
       "      <td>0.633333</td>\n",
       "      <td>0.520101</td>\n",
       "      <td>0.333333</td>\n",
       "      <td>0.510753</td>\n",
       "      <td>0.000000</td>\n",
       "      <td>0.517964</td>\n",
       "      <td>0.485425</td>\n",
       "      <td>0.509830</td>\n",
       "      <td>...</td>\n",
       "      <td>13.0</td>\n",
       "      <td>203.0</td>\n",
       "      <td>17.0</td>\n",
       "      <td>25.0</td>\n",
       "      <td>24.0</td>\n",
       "      <td>117.0</td>\n",
       "      <td>76.0</td>\n",
       "      <td>236.0</td>\n",
       "      <td>40.0</td>\n",
       "      <td>0</td>\n",
       "    </tr>\n",
       "    <tr>\n",
       "      <th>3</th>\n",
       "      <td>0.505718</td>\n",
       "      <td>0.509830</td>\n",
       "      <td>0.555556</td>\n",
       "      <td>0.504837</td>\n",
       "      <td>NaN</td>\n",
       "      <td>0.550403</td>\n",
       "      <td>0.000000</td>\n",
       "      <td>0.521531</td>\n",
       "      <td>0.000000</td>\n",
       "      <td>0.513839</td>\n",
       "      <td>...</td>\n",
       "      <td>81.0</td>\n",
       "      <td>203.0</td>\n",
       "      <td>67.0</td>\n",
       "      <td>432.0</td>\n",
       "      <td>27.0</td>\n",
       "      <td>4.0</td>\n",
       "      <td>NaN</td>\n",
       "      <td>236.0</td>\n",
       "      <td>40.0</td>\n",
       "      <td>0</td>\n",
       "    </tr>\n",
       "    <tr>\n",
       "      <th>4</th>\n",
       "      <td>0.593750</td>\n",
       "      <td>0.558824</td>\n",
       "      <td>NaN</td>\n",
       "      <td>0.562278</td>\n",
       "      <td>0.666667</td>\n",
       "      <td>0.510753</td>\n",
       "      <td>0.400000</td>\n",
       "      <td>0.532407</td>\n",
       "      <td>0.485425</td>\n",
       "      <td>0.509830</td>\n",
       "      <td>...</td>\n",
       "      <td>7.0</td>\n",
       "      <td>76.0</td>\n",
       "      <td>236.0</td>\n",
       "      <td>12.0</td>\n",
       "      <td>114.0</td>\n",
       "      <td>42.0</td>\n",
       "      <td>203.0</td>\n",
       "      <td>81.0</td>\n",
       "      <td>40.0</td>\n",
       "      <td>0</td>\n",
       "    </tr>\n",
       "  </tbody>\n",
       "</table>\n",
       "<p>5 rows × 41 columns</p>\n",
       "</div>"
      ],
      "text/plain": [
       "   team1DUO_CARRY_cwp  team1DUO_CARRY_owp  team1DUO_SUPPORT_cwp  \\\n",
       "0            0.500000            0.578667              0.503400   \n",
       "1            0.485753            0.509830              0.499603   \n",
       "2                 NaN            0.666667              0.633333   \n",
       "3            0.505718            0.509830              0.555556   \n",
       "4            0.593750            0.558824                   NaN   \n",
       "\n",
       "   team1DUO_SUPPORT_owp  team1JUNGLE_cwp  team1JUNGLE_owp  team1MIDDLE_cwp  \\\n",
       "0              0.509830         0.272727         0.514720         0.500000   \n",
       "1              0.509830         0.500000         0.495822         0.587719   \n",
       "2              0.520101         0.333333         0.510753         0.000000   \n",
       "3              0.504837              NaN         0.550403         0.000000   \n",
       "4              0.562278         0.666667         0.510753         0.400000   \n",
       "\n",
       "   team1MIDDLE_owp  team1TOP_cwp  team1TOP_owp  ...    team1MIDDLE  \\\n",
       "0         0.512658      0.769231      0.545894  ...           13.0   \n",
       "1         0.555556           NaN      0.511929  ...           74.0   \n",
       "2         0.517964      0.485425      0.509830  ...           13.0   \n",
       "3         0.521531      0.000000      0.513839  ...           81.0   \n",
       "4         0.532407      0.485425      0.509830  ...            7.0   \n",
       "\n",
       "   team1JUNGLE  team1DUO_CARRY  team1DUO_SUPPORT  team2TOP  team2MIDDLE  \\\n",
       "0        245.0            42.0             412.0     114.0          4.0   \n",
       "1         36.0           429.0             111.0      41.0        134.0   \n",
       "2        203.0            17.0              25.0      24.0        117.0   \n",
       "3        203.0            67.0             432.0      27.0          4.0   \n",
       "4         76.0           236.0              12.0     114.0         42.0   \n",
       "\n",
       "   team2JUNGLE  team2DUO_CARRY  team2DUO_SUPPORT  team1  \n",
       "0         64.0           236.0              40.0      1  \n",
       "1        421.0            42.0              25.0      0  \n",
       "2         76.0           236.0              40.0      0  \n",
       "3          NaN           236.0              40.0      0  \n",
       "4        203.0            81.0              40.0      0  \n",
       "\n",
       "[5 rows x 41 columns]"
      ]
     },
     "execution_count": 254,
     "metadata": {},
     "output_type": "execute_result"
    }
   ],
   "source": [
    "xgb_nonimpute_data.head()"
   ]
  },
  {
   "cell_type": "code",
   "execution_count": 255,
   "metadata": {
    "collapsed": true
   },
   "outputs": [],
   "source": [
    "xgb_nonimpute_dummied= pd.get_dummies(xgb_nonimpute_data, columns=laneslist)"
   ]
  },
  {
   "cell_type": "code",
   "execution_count": 256,
   "metadata": {
    "collapsed": true
   },
   "outputs": [],
   "source": [
    "X4= xgb_data_dummied.drop('team1',axis=1)\n",
    "y4=xgb_data_dummied['team1']"
   ]
  },
  {
   "cell_type": "code",
   "execution_count": 257,
   "metadata": {
    "collapsed": true
   },
   "outputs": [],
   "source": [
    "test_size = 0.2\n",
    "X4_train, X4_test, y4_train, y4_test = train_test_split(X4, y4, test_size=test_size)"
   ]
  },
  {
   "cell_type": "code",
   "execution_count": 258,
   "metadata": {},
   "outputs": [
    {
     "data": {
      "text/plain": [
       "XGBClassifier(base_score=0.5, colsample_bylevel=1, colsample_bytree=1,\n",
       "       gamma=0, learning_rate=0.1, max_delta_step=0, max_depth=3,\n",
       "       min_child_weight=1, missing=None, n_estimators=100, nthread=-1,\n",
       "       objective='binary:logistic', reg_alpha=0, reg_lambda=1,\n",
       "       scale_pos_weight=1, seed=0, silent=True, subsample=1)"
      ]
     },
     "execution_count": 258,
     "metadata": {},
     "output_type": "execute_result"
    }
   ],
   "source": [
    "model4 = XGBClassifier()\n",
    "model4.fit(X4_train, y4_train)"
   ]
  },
  {
   "cell_type": "code",
   "execution_count": 259,
   "metadata": {
    "collapsed": true
   },
   "outputs": [],
   "source": [
    "y_pred4 = model4.predict(X4_test)\n",
    "predictions4 = [round(value) for value in y_pred4]"
   ]
  },
  {
   "cell_type": "code",
   "execution_count": 260,
   "metadata": {},
   "outputs": [
    {
     "name": "stdout",
     "output_type": "stream",
     "text": [
      "Accuracy: 53.36%\n"
     ]
    }
   ],
   "source": [
    "accuracy = accuracy_score(y4_test, predictions4)\n",
    "print(\"Accuracy: %.2f%%\" % (accuracy * 100.0))"
   ]
  },
  {
   "cell_type": "code",
   "execution_count": 261,
   "metadata": {
    "collapsed": true
   },
   "outputs": [],
   "source": [
    "from sklearn.model_selection import  GridSearchCV"
   ]
  },
  {
   "cell_type": "code",
   "execution_count": 263,
   "metadata": {},
   "outputs": [],
   "source": [
    "params= {'max_depth':[3,4,5,6,7,8], 'n_estimators':[100,150,200], 'subsample':[.5,.8,1]}\n",
    "gs1 = GridSearchCV(model4, param_grid=params)"
   ]
  },
  {
   "cell_type": "code",
   "execution_count": 264,
   "metadata": {},
   "outputs": [
    {
     "data": {
      "text/plain": [
       "GridSearchCV(cv=None, error_score='raise',\n",
       "       estimator=XGBClassifier(base_score=0.5, colsample_bylevel=1, colsample_bytree=1,\n",
       "       gamma=0, learning_rate=0.1, max_delta_step=0, max_depth=3,\n",
       "       min_child_weight=1, missing=None, n_estimators=100, nthread=-1,\n",
       "       objective='binary:logistic', reg_alpha=0, reg_lambda=1,\n",
       "       scale_pos_weight=1, seed=0, silent=True, subsample=1),\n",
       "       fit_params=None, iid=True, n_jobs=1,\n",
       "       param_grid={'subsample': [0.5, 0.8, 1], 'n_estimators': [100, 150, 200], 'max_depth': [3, 4, 5, 6, 7, 8]},\n",
       "       pre_dispatch='2*n_jobs', refit=True, return_train_score=True,\n",
       "       scoring=None, verbose=0)"
      ]
     },
     "execution_count": 264,
     "metadata": {},
     "output_type": "execute_result"
    }
   ],
   "source": [
    "gs1.fit(X4_train,y4_train)"
   ]
  },
  {
   "cell_type": "code",
   "execution_count": 265,
   "metadata": {},
   "outputs": [
    {
     "data": {
      "text/plain": [
       "{'max_depth': 4, 'n_estimators': 150, 'subsample': 0.8}"
      ]
     },
     "execution_count": 265,
     "metadata": {},
     "output_type": "execute_result"
    }
   ],
   "source": [
    "gs1.best_params_"
   ]
  },
  {
   "cell_type": "code",
   "execution_count": 266,
   "metadata": {},
   "outputs": [
    {
     "data": {
      "text/plain": [
       "0.54652689631023765"
      ]
     },
     "execution_count": 266,
     "metadata": {},
     "output_type": "execute_result"
    }
   ],
   "source": [
    "gs1.best_score_"
   ]
  }
 ],
 "metadata": {
  "kernelspec": {
   "display_name": "Python 3",
   "language": "python",
   "name": "python3"
  },
  "language_info": {
   "codemirror_mode": {
    "name": "ipython",
    "version": 3
   },
   "file_extension": ".py",
   "mimetype": "text/x-python",
   "name": "python",
   "nbconvert_exporter": "python",
   "pygments_lexer": "ipython3",
   "version": "3.5.2"
  }
 },
 "nbformat": 4,
 "nbformat_minor": 2
}
