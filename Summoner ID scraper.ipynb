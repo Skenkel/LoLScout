{
 "cells": [
  {
   "cell_type": "markdown",
   "metadata": {
    "collapsed": true
   },
   "source": [
    "Purpose, Use cassiopeia, Pandas and the riot .api to read all of the player names in a playername.csv, and to generate a pandas dataframe with player names and player summoner ids. \n",
    "Output this dataframe to a new .csv. \n"
   ]
  },
  {
   "cell_type": "code",
   "execution_count": 1,
   "metadata": {
    "collapsed": true
   },
   "outputs": [],
   "source": [
    "import numpy as np\n",
    "import pandas as pd\n",
    "import cassiopeia as cs\n"
   ]
  },
  {
   "cell_type": "code",
   "execution_count": 4,
   "metadata": {
    "collapsed": true
   },
   "outputs": [],
   "source": [
    "summonernames = pd.read_csv('summoners.csv')\n",
    "# I have a handmade csv of professional players with their known soloq ids. "
   ]
  },
  {
   "cell_type": "code",
   "execution_count": 5,
   "metadata": {},
   "outputs": [
    {
     "data": {
      "text/html": [
       "<div>\n",
       "<style>\n",
       "    .dataframe thead tr:only-child th {\n",
       "        text-align: right;\n",
       "    }\n",
       "\n",
       "    .dataframe thead th {\n",
       "        text-align: left;\n",
       "    }\n",
       "\n",
       "    .dataframe tbody tr th {\n",
       "        vertical-align: top;\n",
       "    }\n",
       "</style>\n",
       "<table border=\"1\" class=\"dataframe\">\n",
       "  <thead>\n",
       "    <tr style=\"text-align: right;\">\n",
       "      <th></th>\n",
       "      <th>pro handle</th>\n",
       "      <th>summoner name</th>\n",
       "      <th>summoner id</th>\n",
       "    </tr>\n",
       "  </thead>\n",
       "  <tbody>\n",
       "    <tr>\n",
       "      <th>0</th>\n",
       "      <td>chaser</td>\n",
       "      <td>Chasér</td>\n",
       "      <td>NaN</td>\n",
       "    </tr>\n",
       "    <tr>\n",
       "      <th>1</th>\n",
       "      <td>pobelter</td>\n",
       "      <td>Pobelter</td>\n",
       "      <td>NaN</td>\n",
       "    </tr>\n",
       "    <tr>\n",
       "      <th>2</th>\n",
       "      <td>pobelter</td>\n",
       "      <td>Hero Kenzan</td>\n",
       "      <td>NaN</td>\n",
       "    </tr>\n",
       "    <tr>\n",
       "      <th>3</th>\n",
       "      <td>Ray</td>\n",
       "      <td>C9 Ray</td>\n",
       "      <td>NaN</td>\n",
       "    </tr>\n",
       "    <tr>\n",
       "      <th>4</th>\n",
       "      <td>Ray</td>\n",
       "      <td>C9 Sword</td>\n",
       "      <td>NaN</td>\n",
       "    </tr>\n",
       "  </tbody>\n",
       "</table>\n",
       "</div>"
      ],
      "text/plain": [
       "  pro handle summoner name   summoner id\n",
       "0     chaser        Chasér           NaN\n",
       "1   pobelter      Pobelter           NaN\n",
       "2   pobelter   Hero Kenzan           NaN\n",
       "3        Ray        C9 Ray           NaN\n",
       "4        Ray      C9 Sword           NaN"
      ]
     },
     "execution_count": 5,
     "metadata": {},
     "output_type": "execute_result"
    }
   ],
   "source": [
    "print(summonernames.head())\n",
    "#let's make sure pandas has gotten this working. "
   ]
  },
  {
   "cell_type": "code",
   "execution_count": 39,
   "metadata": {},
   "outputs": [
    {
     "name": "stdout",
     "output_type": "stream",
     "text": [
      "Riot Api KeyDummy value dummy\n"
     ]
    }
   ],
   "source": [
    "apikey= input('Riot Api Key')"
   ]
  },
  {
   "cell_type": "code",
   "execution_count": 18,
   "metadata": {},
   "outputs": [
    {
     "name": "stdout",
     "output_type": "stream",
     "text": [
      "83089576\n"
     ]
    }
   ],
   "source": [
    "from cassiopeia import riotapi\n",
    "riotapi.set_region('NA')\n",
    "riotapi.set_api_key(apikey)\n",
    "#NOTE to SELF, ensure api key is entered this way so my key is not pushed to git. \n",
    "summonernames['summoner name'][0]\n",
    "summoner = riotapi.get_summoner_by_name(summonernames['summoner name'][0])\n",
    "print(summoner.id)"
   ]
  },
  {
   "cell_type": "code",
   "execution_count": 19,
   "metadata": {
    "collapsed": true
   },
   "outputs": [],
   "source": [
    "def getsumid(summonername):\n",
    "    return riotapi.get_summoner_by_name(summonername).id\n",
    "# I don't like lambda functions, so making a function this way makes it more readable."
   ]
  },
  {
   "cell_type": "code",
   "execution_count": 27,
   "metadata": {},
   "outputs": [],
   "source": [
    "summonernames['summoner id']= summonernames['summoner name'].apply(getsumid)\n",
    "#goes through my pandas dataframe and gets me a summoner id for each player id. "
   ]
  },
  {
   "cell_type": "code",
   "execution_count": 33,
   "metadata": {},
   "outputs": [
    {
     "data": {
      "text/plain": [
       "82    42060215\n",
       "83    19761072\n",
       "84    19199530\n",
       "85    44989320\n",
       "86    19787999\n",
       "Name: summoner id, dtype: int64"
      ]
     },
     "execution_count": 33,
     "metadata": {},
     "output_type": "execute_result"
    }
   ],
   "source": [
    "summonernames['summoner id'].tail()\n",
    "# this looks good. but there's a typo in my original summoner id column. Let's drop it. \n"
   ]
  },
  {
   "cell_type": "code",
   "execution_count": 35,
   "metadata": {},
   "outputs": [],
   "source": [
    "summonernamesfinal = summonernames.drop([' summoner id'], axis = 1)"
   ]
  },
  {
   "cell_type": "code",
   "execution_count": 37,
   "metadata": {},
   "outputs": [
    {
     "data": {
      "text/html": [
       "<div>\n",
       "<style>\n",
       "    .dataframe thead tr:only-child th {\n",
       "        text-align: right;\n",
       "    }\n",
       "\n",
       "    .dataframe thead th {\n",
       "        text-align: left;\n",
       "    }\n",
       "\n",
       "    .dataframe tbody tr th {\n",
       "        vertical-align: top;\n",
       "    }\n",
       "</style>\n",
       "<table border=\"1\" class=\"dataframe\">\n",
       "  <thead>\n",
       "    <tr style=\"text-align: right;\">\n",
       "      <th></th>\n",
       "      <th>pro handle</th>\n",
       "      <th>summoner name</th>\n",
       "      <th>summoner id</th>\n",
       "    </tr>\n",
       "  </thead>\n",
       "  <tbody>\n",
       "    <tr>\n",
       "      <th>0</th>\n",
       "      <td>chaser</td>\n",
       "      <td>Chasér</td>\n",
       "      <td>83089576</td>\n",
       "    </tr>\n",
       "    <tr>\n",
       "      <th>1</th>\n",
       "      <td>pobelter</td>\n",
       "      <td>Pobelter</td>\n",
       "      <td>2648</td>\n",
       "    </tr>\n",
       "    <tr>\n",
       "      <th>2</th>\n",
       "      <td>pobelter</td>\n",
       "      <td>Hero Kenzan</td>\n",
       "      <td>51409228</td>\n",
       "    </tr>\n",
       "    <tr>\n",
       "      <th>3</th>\n",
       "      <td>Ray</td>\n",
       "      <td>C9 Ray</td>\n",
       "      <td>77179274</td>\n",
       "    </tr>\n",
       "    <tr>\n",
       "      <th>4</th>\n",
       "      <td>Ray</td>\n",
       "      <td>C9 Sword</td>\n",
       "      <td>77799096</td>\n",
       "    </tr>\n",
       "  </tbody>\n",
       "</table>\n",
       "</div>"
      ],
      "text/plain": [
       "  pro handle summoner name  summoner id\n",
       "0     chaser        Chasér     83089576\n",
       "1   pobelter      Pobelter         2648\n",
       "2   pobelter   Hero Kenzan     51409228\n",
       "3        Ray        C9 Ray     77179274\n",
       "4        Ray      C9 Sword     77799096"
      ]
     },
     "execution_count": 37,
     "metadata": {},
     "output_type": "execute_result"
    }
   ],
   "source": [
    "# now to check my final dataframe and save it out. \n",
    "summonernamesfinal.head()"
   ]
  },
  {
   "cell_type": "code",
   "execution_count": 38,
   "metadata": {
    "collapsed": true
   },
   "outputs": [],
   "source": [
    "summonernamesfinal.to_csv('summoner_ids.csv')"
   ]
  }
 ],
 "metadata": {
  "kernelspec": {
   "display_name": "Python 3",
   "language": "python",
   "name": "python3"
  },
  "language_info": {
   "codemirror_mode": {
    "name": "ipython",
    "version": 3
   },
   "file_extension": ".py",
   "mimetype": "text/x-python",
   "name": "python",
   "nbconvert_exporter": "python",
   "pygments_lexer": "ipython3",
   "version": "3.6.1"
  }
 },
 "nbformat": 4,
 "nbformat_minor": 2
}
