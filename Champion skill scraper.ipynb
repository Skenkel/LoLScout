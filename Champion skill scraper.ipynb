{
 "cells": [
  {
   "cell_type": "markdown",
   "metadata": {},
   "source": [
    "Use webscraping with na.op.gg or a similar site to find a players \"champion skill\" features at the time a match is played. \n",
    "outputs this to a csv file. "
   ]
  },
  {
   "cell_type": "code",
   "execution_count": 2,
   "metadata": {
    "collapsed": true
   },
   "outputs": [],
   "source": [
    "import cassiopeia as cs\n",
    "import pandas as pd\n",
    "\n",
    "import random\n",
    "\n",
    "from cassiopeia import riotapi\n",
    "import time as t\n",
    "todaysdate = t.strftime('%Y-%m-%d')\n"
   ]
  },
  {
   "cell_type": "code",
   "execution_count": 3,
   "metadata": {},
   "outputs": [
    {
     "name": "stdout",
     "output_type": "stream",
     "text": [
      "riot api?RGAPI-a4df6fb2-f7bf-4c5c-a147-c7c74abf60b9\n"
     ]
    }
   ],
   "source": [
    "riotkey= input('riot api?')"
   ]
  },
  {
   "cell_type": "code",
   "execution_count": 4,
   "metadata": {
    "collapsed": true
   },
   "outputs": [],
   "source": [
    "riotapi.set_region(\"NA\")\n",
    "riotapi.set_api_key(riotkey)"
   ]
  },
  {
   "cell_type": "code",
   "execution_count": 5,
   "metadata": {},
   "outputs": [],
   "source": [
    "summoners_to_scrape = pd.read_csv('scrapetargets.csv')\n",
    "summonersdf = pd.read_csv('champskill.csv')\n"
   ]
  },
  {
   "cell_type": "code",
   "execution_count": 6,
   "metadata": {},
   "outputs": [
    {
     "data": {
      "text/html": [
       "<div>\n",
       "<style>\n",
       "    .dataframe thead tr:only-child th {\n",
       "        text-align: right;\n",
       "    }\n",
       "\n",
       "    .dataframe thead th {\n",
       "        text-align: left;\n",
       "    }\n",
       "\n",
       "    .dataframe tbody tr th {\n",
       "        vertical-align: top;\n",
       "    }\n",
       "</style>\n",
       "<table border=\"1\" class=\"dataframe\">\n",
       "  <thead>\n",
       "    <tr style=\"text-align: right;\">\n",
       "      <th></th>\n",
       "      <th>Unnamed: 0</th>\n",
       "      <th>101A</th>\n",
       "      <th>101D</th>\n",
       "      <th>101K</th>\n",
       "      <th>101L</th>\n",
       "      <th>101W</th>\n",
       "      <th>102A</th>\n",
       "      <th>102D</th>\n",
       "      <th>102K</th>\n",
       "      <th>102L</th>\n",
       "      <th>...</th>\n",
       "      <th>9L</th>\n",
       "      <th>9W</th>\n",
       "      <th>AllA</th>\n",
       "      <th>AllD</th>\n",
       "      <th>AllK</th>\n",
       "      <th>AllL</th>\n",
       "      <th>AllW</th>\n",
       "      <th>date</th>\n",
       "      <th>summoner</th>\n",
       "      <th>summonername</th>\n",
       "    </tr>\n",
       "  </thead>\n",
       "  <tbody>\n",
       "    <tr>\n",
       "      <th>0</th>\n",
       "      <td>summoner</td>\n",
       "      <td>NaN</td>\n",
       "      <td>NaN</td>\n",
       "      <td>NaN</td>\n",
       "      <td>NaN</td>\n",
       "      <td>NaN</td>\n",
       "      <td>NaN</td>\n",
       "      <td>NaN</td>\n",
       "      <td>NaN</td>\n",
       "      <td>NaN</td>\n",
       "      <td>...</td>\n",
       "      <td>NaN</td>\n",
       "      <td>NaN</td>\n",
       "      <td>NaN</td>\n",
       "      <td>NaN</td>\n",
       "      <td>NaN</td>\n",
       "      <td>NaN</td>\n",
       "      <td>NaN</td>\n",
       "      <td>NaN</td>\n",
       "      <td>19302712</td>\n",
       "      <td>Emon</td>\n",
       "    </tr>\n",
       "    <tr>\n",
       "      <th>1</th>\n",
       "      <td>83089576</td>\n",
       "      <td>NaN</td>\n",
       "      <td>NaN</td>\n",
       "      <td>NaN</td>\n",
       "      <td>NaN</td>\n",
       "      <td>NaN</td>\n",
       "      <td>0.0</td>\n",
       "      <td>0.0</td>\n",
       "      <td>0.0</td>\n",
       "      <td>1.0</td>\n",
       "      <td>...</td>\n",
       "      <td>NaN</td>\n",
       "      <td>NaN</td>\n",
       "      <td>0.0</td>\n",
       "      <td>0.0</td>\n",
       "      <td>0.0</td>\n",
       "      <td>243.0</td>\n",
       "      <td>311.0</td>\n",
       "      <td>2017-07-09</td>\n",
       "      <td>83089576</td>\n",
       "      <td>Chasér</td>\n",
       "    </tr>\n",
       "    <tr>\n",
       "      <th>2</th>\n",
       "      <td>2648</td>\n",
       "      <td>NaN</td>\n",
       "      <td>NaN</td>\n",
       "      <td>NaN</td>\n",
       "      <td>NaN</td>\n",
       "      <td>NaN</td>\n",
       "      <td>NaN</td>\n",
       "      <td>NaN</td>\n",
       "      <td>NaN</td>\n",
       "      <td>NaN</td>\n",
       "      <td>...</td>\n",
       "      <td>0.0</td>\n",
       "      <td>3.0</td>\n",
       "      <td>0.0</td>\n",
       "      <td>0.0</td>\n",
       "      <td>0.0</td>\n",
       "      <td>363.0</td>\n",
       "      <td>427.0</td>\n",
       "      <td>2017-07-09</td>\n",
       "      <td>2648</td>\n",
       "      <td>Pobelter</td>\n",
       "    </tr>\n",
       "    <tr>\n",
       "      <th>3</th>\n",
       "      <td>51409228</td>\n",
       "      <td>NaN</td>\n",
       "      <td>NaN</td>\n",
       "      <td>NaN</td>\n",
       "      <td>NaN</td>\n",
       "      <td>NaN</td>\n",
       "      <td>NaN</td>\n",
       "      <td>NaN</td>\n",
       "      <td>NaN</td>\n",
       "      <td>NaN</td>\n",
       "      <td>...</td>\n",
       "      <td>0.0</td>\n",
       "      <td>1.0</td>\n",
       "      <td>0.0</td>\n",
       "      <td>0.0</td>\n",
       "      <td>0.0</td>\n",
       "      <td>58.0</td>\n",
       "      <td>105.0</td>\n",
       "      <td>2017-07-09</td>\n",
       "      <td>51409228</td>\n",
       "      <td>Hero Kenzan</td>\n",
       "    </tr>\n",
       "    <tr>\n",
       "      <th>4</th>\n",
       "      <td>77179274</td>\n",
       "      <td>NaN</td>\n",
       "      <td>NaN</td>\n",
       "      <td>NaN</td>\n",
       "      <td>NaN</td>\n",
       "      <td>NaN</td>\n",
       "      <td>NaN</td>\n",
       "      <td>NaN</td>\n",
       "      <td>NaN</td>\n",
       "      <td>NaN</td>\n",
       "      <td>...</td>\n",
       "      <td>NaN</td>\n",
       "      <td>NaN</td>\n",
       "      <td>0.0</td>\n",
       "      <td>0.0</td>\n",
       "      <td>0.0</td>\n",
       "      <td>321.0</td>\n",
       "      <td>385.0</td>\n",
       "      <td>2017-07-09</td>\n",
       "      <td>77179274</td>\n",
       "      <td>C9 Ray</td>\n",
       "    </tr>\n",
       "  </tbody>\n",
       "</table>\n",
       "<p>5 rows × 689 columns</p>\n",
       "</div>"
      ],
      "text/plain": [
       "  Unnamed: 0  101A  101D  101K  101L  101W  102A  102D  102K  102L  \\\n",
       "0   summoner   NaN   NaN   NaN   NaN   NaN   NaN   NaN   NaN   NaN   \n",
       "1   83089576   NaN   NaN   NaN   NaN   NaN   0.0   0.0   0.0   1.0   \n",
       "2       2648   NaN   NaN   NaN   NaN   NaN   NaN   NaN   NaN   NaN   \n",
       "3   51409228   NaN   NaN   NaN   NaN   NaN   NaN   NaN   NaN   NaN   \n",
       "4   77179274   NaN   NaN   NaN   NaN   NaN   NaN   NaN   NaN   NaN   \n",
       "\n",
       "       ...        9L   9W  AllA  AllD  AllK   AllL   AllW        date  \\\n",
       "0      ...       NaN  NaN   NaN   NaN   NaN    NaN    NaN         NaN   \n",
       "1      ...       NaN  NaN   0.0   0.0   0.0  243.0  311.0  2017-07-09   \n",
       "2      ...       0.0  3.0   0.0   0.0   0.0  363.0  427.0  2017-07-09   \n",
       "3      ...       0.0  1.0   0.0   0.0   0.0   58.0  105.0  2017-07-09   \n",
       "4      ...       NaN  NaN   0.0   0.0   0.0  321.0  385.0  2017-07-09   \n",
       "\n",
       "   summoner  summonername  \n",
       "0  19302712          Emon  \n",
       "1  83089576       Chasér   \n",
       "2      2648      Pobelter  \n",
       "3  51409228   Hero Kenzan  \n",
       "4  77179274        C9 Ray  \n",
       "\n",
       "[5 rows x 689 columns]"
      ]
     },
     "execution_count": 6,
     "metadata": {},
     "output_type": "execute_result"
    }
   ],
   "source": [
    "summonersdf.head()"
   ]
  },
  {
   "cell_type": "code",
   "execution_count": 7,
   "metadata": {},
   "outputs": [
    {
     "data": {
      "text/html": [
       "<div>\n",
       "<style>\n",
       "    .dataframe thead tr:only-child th {\n",
       "        text-align: right;\n",
       "    }\n",
       "\n",
       "    .dataframe thead th {\n",
       "        text-align: left;\n",
       "    }\n",
       "\n",
       "    .dataframe tbody tr th {\n",
       "        vertical-align: top;\n",
       "    }\n",
       "</style>\n",
       "<table border=\"1\" class=\"dataframe\">\n",
       "  <thead>\n",
       "    <tr style=\"text-align: right;\">\n",
       "      <th></th>\n",
       "      <th>Unnamed: 0</th>\n",
       "      <th>Unnamed: 0.1</th>\n",
       "      <th>summoner id</th>\n",
       "      <th>Unnamed: 0.1.1</th>\n",
       "      <th>summoner name</th>\n",
       "      <th>summoner_id</th>\n",
       "    </tr>\n",
       "  </thead>\n",
       "  <tbody>\n",
       "    <tr>\n",
       "      <th>0</th>\n",
       "      <td>0</td>\n",
       "      <td>0</td>\n",
       "      <td>83089576.0</td>\n",
       "      <td>0.0</td>\n",
       "      <td>Chasér</td>\n",
       "      <td>NaN</td>\n",
       "    </tr>\n",
       "    <tr>\n",
       "      <th>1</th>\n",
       "      <td>1</td>\n",
       "      <td>1</td>\n",
       "      <td>2648.0</td>\n",
       "      <td>1.0</td>\n",
       "      <td>Pobelter</td>\n",
       "      <td>NaN</td>\n",
       "    </tr>\n",
       "    <tr>\n",
       "      <th>2</th>\n",
       "      <td>2</td>\n",
       "      <td>2</td>\n",
       "      <td>NaN</td>\n",
       "      <td>2.0</td>\n",
       "      <td>Chasér</td>\n",
       "      <td>83089576.0</td>\n",
       "    </tr>\n",
       "    <tr>\n",
       "      <th>3</th>\n",
       "      <td>3</td>\n",
       "      <td>3</td>\n",
       "      <td>NaN</td>\n",
       "      <td>3.0</td>\n",
       "      <td>Linsaníty</td>\n",
       "      <td>21498922.0</td>\n",
       "    </tr>\n",
       "    <tr>\n",
       "      <th>4</th>\n",
       "      <td>4</td>\n",
       "      <td>4</td>\n",
       "      <td>NaN</td>\n",
       "      <td>4.0</td>\n",
       "      <td>Licorice</td>\n",
       "      <td>34983603.0</td>\n",
       "    </tr>\n",
       "  </tbody>\n",
       "</table>\n",
       "</div>"
      ],
      "text/plain": [
       "   Unnamed: 0  Unnamed: 0.1   summoner id  Unnamed: 0.1.1 summoner name  \\\n",
       "0           0             0    83089576.0             0.0        Chasér   \n",
       "1           1             1        2648.0             1.0      Pobelter   \n",
       "2           2             2           NaN             2.0       Chasér    \n",
       "3           3             3           NaN             3.0     Linsaníty   \n",
       "4           4             4           NaN             4.0      Licorice   \n",
       "\n",
       "   summoner_id  \n",
       "0          NaN  \n",
       "1          NaN  \n",
       "2   83089576.0  \n",
       "3   21498922.0  \n",
       "4   34983603.0  "
      ]
     },
     "execution_count": 7,
     "metadata": {},
     "output_type": "execute_result"
    }
   ],
   "source": [
    "summoners_to_scrape.head()"
   ]
  },
  {
   "cell_type": "code",
   "execution_count": 8,
   "metadata": {},
   "outputs": [
    {
     "ename": "TypeError",
     "evalue": "sort_values() missing 1 required positional argument: 'by'",
     "output_type": "error",
     "traceback": [
      "\u001b[0;31m---------------------------------------------------------------------------\u001b[0m",
      "\u001b[0;31mTypeError\u001b[0m                                 Traceback (most recent call last)",
      "\u001b[0;32m<ipython-input-8-40ad1d68ecfe>\u001b[0m in \u001b[0;36m<module>\u001b[0;34m()\u001b[0m\n\u001b[0;32m----> 1\u001b[0;31m \u001b[0msummoners_to_scrape\u001b[0m\u001b[0;34m.\u001b[0m\u001b[0msort_values\u001b[0m\u001b[0;34m(\u001b[0m\u001b[0;34m)\u001b[0m\u001b[0;34m\u001b[0m\u001b[0m\n\u001b[0m",
      "\u001b[0;31mTypeError\u001b[0m: sort_values() missing 1 required positional argument: 'by'"
     ]
    }
   ],
   "source": [
    "summoners_to_scrape.sort_values()"
   ]
  },
  {
   "cell_type": "code",
   "execution_count": 8,
   "metadata": {
    "collapsed": true
   },
   "outputs": [],
   "source": []
  },
  {
   "cell_type": "code",
   "execution_count": 9,
   "metadata": {
    "collapsed": true
   },
   "outputs": [],
   "source": [
    "\n"
   ]
  },
  {
   "cell_type": "code",
   "execution_count": 10,
   "metadata": {
    "collapsed": true
   },
   "outputs": [],
   "source": []
  },
  {
   "cell_type": "code",
   "execution_count": 11,
   "metadata": {
    "collapsed": true
   },
   "outputs": [],
   "source": []
  },
  {
   "cell_type": "code",
   "execution_count": 12,
   "metadata": {
    "collapsed": true
   },
   "outputs": [],
   "source": []
  },
  {
   "cell_type": "code",
   "execution_count": 13,
   "metadata": {
    "collapsed": true
   },
   "outputs": [],
   "source": []
  },
  {
   "cell_type": "code",
   "execution_count": 14,
   "metadata": {
    "collapsed": true
   },
   "outputs": [],
   "source": []
  },
  {
   "cell_type": "code",
   "execution_count": 15,
   "metadata": {
    "collapsed": true
   },
   "outputs": [],
   "source": []
  },
  {
   "cell_type": "code",
   "execution_count": 16,
   "metadata": {
    "collapsed": true
   },
   "outputs": [],
   "source": []
  },
  {
   "cell_type": "code",
   "execution_count": 17,
   "metadata": {
    "collapsed": true
   },
   "outputs": [],
   "source": []
  },
  {
   "cell_type": "code",
   "execution_count": 18,
   "metadata": {
    "collapsed": true
   },
   "outputs": [],
   "source": []
  },
  {
   "cell_type": "code",
   "execution_count": 19,
   "metadata": {
    "collapsed": true
   },
   "outputs": [],
   "source": []
  },
  {
   "cell_type": "code",
   "execution_count": 42,
   "metadata": {
    "collapsed": true
   },
   "outputs": [],
   "source": [
    "# run this cell if you have a prior build. \n",
    "summonersdf = pd.read_csv('champskill.csv')"
   ]
  },
  {
   "cell_type": "code",
   "execution_count": 90,
   "metadata": {},
   "outputs": [
    {
     "name": "stdout",
     "output_type": "stream",
     "text": [
      "43\n"
     ]
    },
    {
     "data": {
      "text/plain": [
       "False"
      ]
     },
     "execution_count": 90,
     "metadata": {},
     "output_type": "execute_result"
    }
   ],
   "source": [
    "# only run this cell if you don't have a data frame\n",
    "#summonerslist = [{'summoner':0 , 'summonername': 'tryndjk'}]\n",
    "#summonersdf = pd.DataFrame(summonerlist, index=['summoner'])"
   ]
  },
  {
   "cell_type": "code",
   "execution_count": 155,
   "metadata": {
    "collapsed": true,
    "scrolled": false
   },
   "outputs": [],
   "source": [
    "\n",
    "for num in range(summoners_to_scrape.shape[0]):\n",
    "    if summoners_to_scrape['summoner id'][num] in summonersdf.index.values:\n",
    "        break\n",
    "    summoner = riotapi.get_summoner_by_id(summoners_to_scrape['summoner id'][num])\n",
    "    sumstats = riotapi.get_ranked_stats(summoner)\n",
    "    rankedchampsnum = len(list(sumstats.keys()))\n",
    "\n",
    "    summonerstatdict = {'summoner':summoner.id , 'summonername': summoner.name, 'date': todaysdate}\n",
    "    print('gathering stats on summoner'+summoner.name)\n",
    "    for champnum in range(rankedchampsnum):\n",
    "        if list(sumstats.keys())[champnum] is None:\n",
    "            champdata = sumstats[list(sumstats.keys())[champnum]].data\n",
    "            summonerstatdict['AllK'] = champdata.averageChampionsKilled\n",
    "            summonerstatdict['AllD'] = champdata.averageNumDeaths\n",
    "            summonerstatdict['AllA'] = champdata.averageAssists\n",
    "            summonerstatdict['AllW'] = champdata.totalSessionsWon\n",
    "            summonerstatdict['AllL'] = champdata.totalSessionsLost\n",
    "        else:\n",
    "            champdata = sumstats[list(sumstats.keys())[champnum]].data\n",
    "            #print(champnum)\n",
    "            champstr = str(list(sumstats.keys())[champnum].id)\n",
    "            #print(champstr)\n",
    "            summonerstatdict[champstr+'K'] = champdata.averageChampionsKilled\n",
    "            summonerstatdict[champstr+'D'] = champdata.averageNumDeaths\n",
    "            summonerstatdict[champstr+'A'] = champdata.averageAssists\n",
    "            summonerstatdict[champstr+'W'] = champdata.totalSessionsWon\n",
    "            summonerstatdict[champstr+'L'] = champdata.totalSessionsLost\n",
    "    summonerdf = pd.DataFrame([summonerstatdict], index=[summoner.id])\n",
    "    # we have a dataframe that represents a single summoner's skill. \n",
    "    \n",
    "    #we concatenate the current list of summoners and skills with ourselves.     \n",
    "    summonersdf = pd.concat([summonersdf, summonerdf])\n",
    "#we exit the loop before we write the csv\n",
    "summonersdf.to_csv('champskill.csv')\n",
    "                          \n",
    "    \n",
    "    \n",
    "    "
   ]
  },
  {
   "cell_type": "code",
   "execution_count": 156,
   "metadata": {},
   "outputs": [
    {
     "data": {
      "text/plain": [
       "(88, 688)"
      ]
     },
     "execution_count": 156,
     "metadata": {},
     "output_type": "execute_result"
    }
   ],
   "source": [
    "summonersdf.shape\n"
   ]
  },
  {
   "cell_type": "code",
   "execution_count": 153,
   "metadata": {
    "collapsed": true
   },
   "outputs": [],
   "source": [
    "summonertest = riotapi.get_summoner_by_id"
   ]
  },
  {
   "cell_type": "code",
   "execution_count": 154,
   "metadata": {},
   "outputs": [
    {
     "data": {
      "text/html": [
       "<div>\n",
       "<style>\n",
       "    .dataframe thead tr:only-child th {\n",
       "        text-align: right;\n",
       "    }\n",
       "\n",
       "    .dataframe thead th {\n",
       "        text-align: left;\n",
       "    }\n",
       "\n",
       "    .dataframe tbody tr th {\n",
       "        vertical-align: top;\n",
       "    }\n",
       "</style>\n",
       "<table border=\"1\" class=\"dataframe\">\n",
       "  <thead>\n",
       "    <tr style=\"text-align: right;\">\n",
       "      <th></th>\n",
       "      <th>Unnamed: 0</th>\n",
       "      <th>pro handle</th>\n",
       "      <th>summoner name</th>\n",
       "      <th>summoner id</th>\n",
       "    </tr>\n",
       "  </thead>\n",
       "  <tbody>\n",
       "    <tr>\n",
       "      <th>0</th>\n",
       "      <td>0</td>\n",
       "      <td>chaser</td>\n",
       "      <td>Chasér</td>\n",
       "      <td>83089576</td>\n",
       "    </tr>\n",
       "    <tr>\n",
       "      <th>1</th>\n",
       "      <td>1</td>\n",
       "      <td>pobelter</td>\n",
       "      <td>Pobelter</td>\n",
       "      <td>2648</td>\n",
       "    </tr>\n",
       "    <tr>\n",
       "      <th>2</th>\n",
       "      <td>2</td>\n",
       "      <td>pobelter</td>\n",
       "      <td>Hero Kenzan</td>\n",
       "      <td>51409228</td>\n",
       "    </tr>\n",
       "    <tr>\n",
       "      <th>3</th>\n",
       "      <td>3</td>\n",
       "      <td>Ray</td>\n",
       "      <td>C9 Ray</td>\n",
       "      <td>77179274</td>\n",
       "    </tr>\n",
       "    <tr>\n",
       "      <th>4</th>\n",
       "      <td>4</td>\n",
       "      <td>Ray</td>\n",
       "      <td>C9 Sword</td>\n",
       "      <td>77799096</td>\n",
       "    </tr>\n",
       "  </tbody>\n",
       "</table>\n",
       "</div>"
      ],
      "text/plain": [
       "   Unnamed: 0 pro handle summoner name  summoner id\n",
       "0           0     chaser        Chasér     83089576\n",
       "1           1   pobelter      Pobelter         2648\n",
       "2           2   pobelter   Hero Kenzan     51409228\n",
       "3           3        Ray        C9 Ray     77179274\n",
       "4           4        Ray      C9 Sword     77799096"
      ]
     },
     "execution_count": 154,
     "metadata": {},
     "output_type": "execute_result"
    }
   ],
   "source": [
    "summoners_to_scrape.head()"
   ]
  },
  {
   "cell_type": "code",
   "execution_count": null,
   "metadata": {
    "collapsed": true
   },
   "outputs": [],
   "source": [
    "# now to write some code so I don't scrape someone I've allready scraped. "
   ]
  },
  {
   "cell_type": "code",
   "execution_count": 150,
   "metadata": {},
   "outputs": [
    {
     "data": {
      "text/plain": [
       "(88, 688)"
      ]
     },
     "execution_count": 150,
     "metadata": {},
     "output_type": "execute_result"
    }
   ],
   "source": [
    "summonersdf.shape"
   ]
  },
  {
   "cell_type": "code",
   "execution_count": null,
   "metadata": {
    "collapsed": true
   },
   "outputs": [],
   "source": [
    "\n"
   ]
  },
  {
   "cell_type": "code",
   "execution_count": null,
   "metadata": {
    "collapsed": true
   },
   "outputs": [],
   "source": []
  }
 ],
 "metadata": {
  "kernelspec": {
   "display_name": "Python 3",
   "language": "python",
   "name": "python3"
  },
  "language_info": {
   "codemirror_mode": {
    "name": "ipython",
    "version": 3
   },
   "file_extension": ".py",
   "mimetype": "text/x-python",
   "name": "python",
   "nbconvert_exporter": "python",
   "pygments_lexer": "ipython3",
   "version": "3.6.1"
  }
 },
 "nbformat": 4,
 "nbformat_minor": 2
}
