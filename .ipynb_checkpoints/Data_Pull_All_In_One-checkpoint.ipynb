{
 "cells": [
  {
   "cell_type": "code",
   "execution_count": 11,
   "metadata": {},
   "outputs": [
    {
     "name": "stdout",
     "output_type": "stream",
     "text": [
      "champion.gg api key?RGAPI-a4df6fb2-f7bf-4c5c-a147-c7c74abf60b9\n"
     ]
    }
   ],
   "source": [
    "# the purpose of this script is pull infomation on all 4 csvs that are pandas data frames in one place. \n",
    "champ_api_key =input('champion.gg api key?')"
   ]
  },
  {
   "cell_type": "code",
   "execution_count": 12,
   "metadata": {},
   "outputs": [],
   "source": [
    "import cassiopeia as cs\n",
    "import pandas as pd\n",
    "import requests\n",
    "import random\n",
    "import time as t\n",
    "from cassiopeia import riotapi\n",
    "\n",
    "todaysdate = t.strftime('%Y-%m-%d')\n"
   ]
  },
  {
   "cell_type": "code",
   "execution_count": 13,
   "metadata": {},
   "outputs": [
    {
     "name": "stdout",
     "output_type": "stream",
     "text": [
      "riot api?RGAPI-a4df6fb2-f7bf-4c5c-a147-c7c74abf60b9\n"
     ]
    }
   ],
   "source": [
    "riotkey= input('riot api?')"
   ]
  },
  {
   "cell_type": "code",
   "execution_count": 14,
   "metadata": {
    "collapsed": true
   },
   "outputs": [],
   "source": [
    "riotapi.set_region(\"NA\")\n",
    "riotapi.set_api_key(riotkey)"
   ]
  },
  {
   "cell_type": "code",
   "execution_count": null,
   "metadata": {
    "collapsed": true
   },
   "outputs": [],
   "source": [
    "\n",
    "apicall= 'http://api.champion.gg/v2/champions?champData=kda,overallPerformanceScore&limit=200&api_key='+champ_api_key\n",
    "champs = requests.get(apicall)\n"
   ]
  },
  {
   "cell_type": "code",
   "execution_count": null,
   "metadata": {
    "collapsed": true
   },
   "outputs": [],
   "source": [
    "champdf =pd.read_csv('championsstr.csv')"
   ]
  },
  {
   "cell_type": "code",
   "execution_count": null,
   "metadata": {
    "collapsed": true
   },
   "outputs": [],
   "source": [
    "champiter = len(champs.json()"
   ]
  },
  {
   "cell_type": "code",
   "execution_count": null,
   "metadata": {
    "collapsed": true
   },
   "outputs": [],
   "source": [
    "for num in range(champiter):\n",
    "    kda = (champs.json()[num]['kills']+champs.json()[num]['assists'])/(champs.json()[num]['deaths'])\n",
    "    indexval = champs.json()[num]['role']+str(champs.json()[num]['championId'])+todaysdate\n",
    "    if indexval in champdf['indexval'].values:\n",
    "        break\n",
    "    single_champion_list= [{'K':champs.json()[num]['kills'], 'D':champs.json()[num]['deaths'], 'A':champs.json()[num]['assists'],  'CHAMPID_Role':str(champs.json()[num]['championId'])+champs.json()[num]['role'],'CHAMPID':str(champs.json()[num]['championId']),  'ROLE':champs.json()[num]['role'],'PATCH':champs.json()[num]['patch'],'WINRATE':champs.json()[num]['winRate'],'PLAYRATE':champs.json()[num]['playRate'],'RANK':champs.json()[num]['overallPerformanceScore'],'DATE':todaysdate, 'KDA': kda, 'indexval':indexval }]\n",
    "    single_champion_dataframe = pd.DataFrame(single_champion_list)\n",
    "    print(single_champion_dataframe.head())\n",
    "    champdf= pd.concat([champdf,single_champion_dataframe])"
   ]
  },
  {
   "cell_type": "code",
   "execution_count": null,
   "metadata": {
    "collapsed": true
   },
   "outputs": [],
   "source": [
    "champdf.to_csv('championsstr.csv')\n"
   ]
  },
  {
   "cell_type": "code",
   "execution_count": null,
   "metadata": {
    "collapsed": true
   },
   "outputs": [],
   "source": [
    "summoners_to_scrape = pd.read_csv('scrapetargets.csv', index_col='summoner_id' )\n",
    "summonersdf = pd.read_csv('champskill.csv', index_col='summoner')\n"
   ]
  },
  {
   "cell_type": "code",
   "execution_count": null,
   "metadata": {
    "collapsed": true
   },
   "outputs": [],
   "source": [
    "scrapelist = summoners_to_scrape.index"
   ]
  },
  {
   "cell_type": "code",
   "execution_count": null,
   "metadata": {
    "collapsed": true
   },
   "outputs": [],
   "source": [
    "for num in range(summoners_to_scrape.shape[0]):\n",
    "    print('checking'+ str(scrapelist[num]))\n",
    "    if scrapelist[num]  in summonersdf.index.values:\n",
    "        print('skipping'+ str(scrapelist[num]))\n",
    "        continue\n",
    "    try:\n",
    "        summoner = riotapi.get_summoner_by_id(int(scrapelist[num]))\n",
    "        sumstats = riotapi.get_ranked_stats(summoner)\n",
    "    except:\n",
    "        continue\n",
    "    rankedchampsnum = len(list(sumstats.keys()))\n",
    "\n",
    "    summonerstatdict = {'summoner':summoner.id , 'summonername': summoner.name, 'date': todaysdate}\n",
    "    print('gathering stats on summoner'+summoner.name)\n",
    "    for champnum in range(rankedchampsnum):\n",
    "        if list(sumstats.keys())[champnum] is None:\n",
    "            champdata = sumstats[list(sumstats.keys())[champnum]].data\n",
    "            summonerstatdict['AllK'] = champdata.averageChampionsKilled\n",
    "            summonerstatdict['AllD'] = champdata.averageNumDeaths\n",
    "            summonerstatdict['AllA'] = champdata.averageAssists\n",
    "            summonerstatdict['AllW'] = champdata.totalSessionsWon\n",
    "            summonerstatdict['AllL'] = champdata.totalSessionsLost\n",
    "        else:\n",
    "            champdata = sumstats[list(sumstats.keys())[champnum]].data\n",
    "            #print(champnum)\n",
    "            champstr = str(list(sumstats.keys())[champnum].id)\n",
    "            #print(champstr)\n",
    "            summonerstatdict[champstr+'K'] = champdata.averageChampionsKilled\n",
    "            summonerstatdict[champstr+'D'] = champdata.averageNumDeaths\n",
    "            summonerstatdict[champstr+'A'] = champdata.averageAssists\n",
    "            summonerstatdict[champstr+'W'] = champdata.totalSessionsWon\n",
    "            summonerstatdict[champstr+'L'] = champdata.totalSessionsLost\n",
    "    summonerdf = pd.DataFrame([summonerstatdict], index=[summoner.id])\n",
    "    # we have a dataframe that represents a single summoner's skill. \n",
    "    \n",
    "    #we concatenate the current list of summoners and skills with ourselves.     \n",
    "    summonersdf = pd.concat([summonersdf, summonerdf])\n",
    "#we exit the loop before we write the csv\n",
    "summonersdf.to_csv('champskill.csv')\n"
   ]
  },
  {
   "cell_type": "code",
   "execution_count": 19,
   "metadata": {
    "collapsed": true
   },
   "outputs": [],
   "source": [
    "summoners_to_scrape = pd.read_csv('scrapetargets.csv', index_col='summoner_id')\n",
    "matchesdf = pd.read_csv('matches.csv')\n",
    "scrapelist = summoners_to_scrape.index"
   ]
  },
  {
   "cell_type": "code",
   "execution_count": 34,
   "metadata": {},
   "outputs": [],
   "source": [
    "# let's write a function that we will call in our larger loop to add summoner's to the scrapelist. \n",
    "def summoner_scrape_add(summonerid,summonername):\n",
    "    global summoners_to_scrape\n",
    "    if summonerid not in summoners_to_scrape.index.values:\n",
    "        challenger= pd.DataFrame([{'summoner name': summonername, 'summoner_id'  :summonerid}], index=[summonerid])\n",
    "        summoners_to_scrape =summoners_to_scrape.append(challenger )"
   ]
  },
  {
   "cell_type": "code",
   "execution_count": 24,
   "metadata": {},
   "outputs": [
    {
     "data": {
      "text/plain": [
       "83089576.0"
      ]
     },
     "execution_count": 24,
     "metadata": {},
     "output_type": "execute_result"
    }
   ],
   "source": [
    "pd.DataFrame([{}],index=)"
   ]
  },
  {
   "cell_type": "code",
   "execution_count": 27,
   "metadata": {},
   "outputs": [
    {
     "ename": "APIError",
     "evalue": "Server returned error 404 on call: https://global.api.pvp.net/api/lol/static-data/na/v1.2/champion/83089576?champData=all&api_key=RGAPI-a4df6fb2-f7bf-4c5c-a147-c7c74abf60b9",
     "output_type": "error",
     "traceback": [
      "\u001b[0;31m---------------------------------------------------------------------------\u001b[0m",
      "\u001b[0;31mHTTPError\u001b[0m                                 Traceback (most recent call last)",
      "\u001b[0;32m/opt/conda/lib/python3.6/site-packages/cassiopeia/dto/requests.py\u001b[0m in \u001b[0;36mmake_request\u001b[0;34m(request, method, params, payload, static, include_base, tournament)\u001b[0m\n\u001b[1;32m     91\u001b[0m     \u001b[0;32mtry\u001b[0m\u001b[0;34m:\u001b[0m\u001b[0;34m\u001b[0m\u001b[0m\n\u001b[0;32m---> 92\u001b[0;31m         \u001b[0mcontent\u001b[0m \u001b[0;34m=\u001b[0m \u001b[0mlimiter\u001b[0m\u001b[0;34m.\u001b[0m\u001b[0mcall\u001b[0m\u001b[0;34m(\u001b[0m\u001b[0mexecute_request\u001b[0m\u001b[0;34m,\u001b[0m \u001b[0murl\u001b[0m\u001b[0;34m,\u001b[0m \u001b[0mmethod\u001b[0m\u001b[0;34m,\u001b[0m \u001b[0mpayload\u001b[0m\u001b[0;34m)\u001b[0m \u001b[0;32mif\u001b[0m \u001b[0mlimiter\u001b[0m \u001b[0;32melse\u001b[0m \u001b[0mexecute_request\u001b[0m\u001b[0;34m(\u001b[0m\u001b[0murl\u001b[0m\u001b[0;34m,\u001b[0m \u001b[0mmethod\u001b[0m\u001b[0;34m,\u001b[0m \u001b[0mpayload\u001b[0m\u001b[0;34m)\u001b[0m\u001b[0;34m\u001b[0m\u001b[0m\n\u001b[0m\u001b[1;32m     93\u001b[0m         \u001b[0;32mreturn\u001b[0m \u001b[0mjson\u001b[0m\u001b[0;34m.\u001b[0m\u001b[0mloads\u001b[0m\u001b[0;34m(\u001b[0m\u001b[0mcontent\u001b[0m\u001b[0;34m)\u001b[0m \u001b[0;32mif\u001b[0m \u001b[0mcontent\u001b[0m \u001b[0;32melse\u001b[0m \u001b[0;34m{\u001b[0m\u001b[0;34m}\u001b[0m\u001b[0;34m\u001b[0m\u001b[0m\n",
      "\u001b[0;32m/opt/conda/lib/python3.6/site-packages/cassiopeia/type/api/rates.py\u001b[0m in \u001b[0;36mcall\u001b[0;34m(self, method, *args)\u001b[0m\n\u001b[1;32m    157\u001b[0m         \u001b[0;32mtry\u001b[0m\u001b[0;34m:\u001b[0m\u001b[0;34m\u001b[0m\u001b[0m\n\u001b[0;32m--> 158\u001b[0;31m             \u001b[0;32mreturn\u001b[0m \u001b[0mmethod\u001b[0m\u001b[0;34m(\u001b[0m\u001b[0;34m*\u001b[0m\u001b[0margs\u001b[0m\u001b[0;34m)\u001b[0m \u001b[0;32mif\u001b[0m \u001b[0mmethod\u001b[0m \u001b[0;32melse\u001b[0m \u001b[0;32mNone\u001b[0m\u001b[0;34m\u001b[0m\u001b[0m\n\u001b[0m\u001b[1;32m    159\u001b[0m         \u001b[0;32mexcept\u001b[0m\u001b[0;34m:\u001b[0m\u001b[0;34m\u001b[0m\u001b[0m\n",
      "\u001b[0;32m/opt/conda/lib/python3.6/site-packages/cassiopeia/dto/requests.py\u001b[0m in \u001b[0;36mexecute_request\u001b[0;34m(url, method, payload)\u001b[0m\n\u001b[1;32m    133\u001b[0m         \u001b[0mrequest\u001b[0m\u001b[0;34m.\u001b[0m\u001b[0madd_header\u001b[0m\u001b[0;34m(\u001b[0m\u001b[0;34m\"Accept-Encoding\"\u001b[0m\u001b[0;34m,\u001b[0m \u001b[0;34m\"gzip\"\u001b[0m\u001b[0;34m)\u001b[0m\u001b[0;34m\u001b[0m\u001b[0m\n\u001b[0;32m--> 134\u001b[0;31m         \u001b[0mresponse\u001b[0m \u001b[0;34m=\u001b[0m \u001b[0murllib\u001b[0m\u001b[0;34m.\u001b[0m\u001b[0mrequest\u001b[0m\u001b[0;34m.\u001b[0m\u001b[0murlopen\u001b[0m\u001b[0;34m(\u001b[0m\u001b[0mrequest\u001b[0m\u001b[0;34m)\u001b[0m\u001b[0;34m\u001b[0m\u001b[0m\n\u001b[0m\u001b[1;32m    135\u001b[0m         \u001b[0mcontent\u001b[0m \u001b[0;34m=\u001b[0m \u001b[0mresponse\u001b[0m\u001b[0;34m.\u001b[0m\u001b[0mread\u001b[0m\u001b[0;34m(\u001b[0m\u001b[0;34m)\u001b[0m\u001b[0;34m\u001b[0m\u001b[0m\n",
      "\u001b[0;32m/opt/conda/lib/python3.6/urllib/request.py\u001b[0m in \u001b[0;36murlopen\u001b[0;34m(url, data, timeout, cafile, capath, cadefault, context)\u001b[0m\n\u001b[1;32m    222\u001b[0m         \u001b[0mopener\u001b[0m \u001b[0;34m=\u001b[0m \u001b[0m_opener\u001b[0m\u001b[0;34m\u001b[0m\u001b[0m\n\u001b[0;32m--> 223\u001b[0;31m     \u001b[0;32mreturn\u001b[0m \u001b[0mopener\u001b[0m\u001b[0;34m.\u001b[0m\u001b[0mopen\u001b[0m\u001b[0;34m(\u001b[0m\u001b[0murl\u001b[0m\u001b[0;34m,\u001b[0m \u001b[0mdata\u001b[0m\u001b[0;34m,\u001b[0m \u001b[0mtimeout\u001b[0m\u001b[0;34m)\u001b[0m\u001b[0;34m\u001b[0m\u001b[0m\n\u001b[0m\u001b[1;32m    224\u001b[0m \u001b[0;34m\u001b[0m\u001b[0m\n",
      "\u001b[0;32m/opt/conda/lib/python3.6/urllib/request.py\u001b[0m in \u001b[0;36mopen\u001b[0;34m(self, fullurl, data, timeout)\u001b[0m\n\u001b[1;32m    531\u001b[0m             \u001b[0mmeth\u001b[0m \u001b[0;34m=\u001b[0m \u001b[0mgetattr\u001b[0m\u001b[0;34m(\u001b[0m\u001b[0mprocessor\u001b[0m\u001b[0;34m,\u001b[0m \u001b[0mmeth_name\u001b[0m\u001b[0;34m)\u001b[0m\u001b[0;34m\u001b[0m\u001b[0m\n\u001b[0;32m--> 532\u001b[0;31m             \u001b[0mresponse\u001b[0m \u001b[0;34m=\u001b[0m \u001b[0mmeth\u001b[0m\u001b[0;34m(\u001b[0m\u001b[0mreq\u001b[0m\u001b[0;34m,\u001b[0m \u001b[0mresponse\u001b[0m\u001b[0;34m)\u001b[0m\u001b[0;34m\u001b[0m\u001b[0m\n\u001b[0m\u001b[1;32m    533\u001b[0m \u001b[0;34m\u001b[0m\u001b[0m\n",
      "\u001b[0;32m/opt/conda/lib/python3.6/urllib/request.py\u001b[0m in \u001b[0;36mhttp_response\u001b[0;34m(self, request, response)\u001b[0m\n\u001b[1;32m    641\u001b[0m             response = self.parent.error(\n\u001b[0;32m--> 642\u001b[0;31m                 'http', request, response, code, msg, hdrs)\n\u001b[0m\u001b[1;32m    643\u001b[0m \u001b[0;34m\u001b[0m\u001b[0m\n",
      "\u001b[0;32m/opt/conda/lib/python3.6/urllib/request.py\u001b[0m in \u001b[0;36merror\u001b[0;34m(self, proto, *args)\u001b[0m\n\u001b[1;32m    569\u001b[0m             \u001b[0margs\u001b[0m \u001b[0;34m=\u001b[0m \u001b[0;34m(\u001b[0m\u001b[0mdict\u001b[0m\u001b[0;34m,\u001b[0m \u001b[0;34m'default'\u001b[0m\u001b[0;34m,\u001b[0m \u001b[0;34m'http_error_default'\u001b[0m\u001b[0;34m)\u001b[0m \u001b[0;34m+\u001b[0m \u001b[0morig_args\u001b[0m\u001b[0;34m\u001b[0m\u001b[0m\n\u001b[0;32m--> 570\u001b[0;31m             \u001b[0;32mreturn\u001b[0m \u001b[0mself\u001b[0m\u001b[0;34m.\u001b[0m\u001b[0m_call_chain\u001b[0m\u001b[0;34m(\u001b[0m\u001b[0;34m*\u001b[0m\u001b[0margs\u001b[0m\u001b[0;34m)\u001b[0m\u001b[0;34m\u001b[0m\u001b[0m\n\u001b[0m\u001b[1;32m    571\u001b[0m \u001b[0;34m\u001b[0m\u001b[0m\n",
      "\u001b[0;32m/opt/conda/lib/python3.6/urllib/request.py\u001b[0m in \u001b[0;36m_call_chain\u001b[0;34m(self, chain, kind, meth_name, *args)\u001b[0m\n\u001b[1;32m    503\u001b[0m             \u001b[0mfunc\u001b[0m \u001b[0;34m=\u001b[0m \u001b[0mgetattr\u001b[0m\u001b[0;34m(\u001b[0m\u001b[0mhandler\u001b[0m\u001b[0;34m,\u001b[0m \u001b[0mmeth_name\u001b[0m\u001b[0;34m)\u001b[0m\u001b[0;34m\u001b[0m\u001b[0m\n\u001b[0;32m--> 504\u001b[0;31m             \u001b[0mresult\u001b[0m \u001b[0;34m=\u001b[0m \u001b[0mfunc\u001b[0m\u001b[0;34m(\u001b[0m\u001b[0;34m*\u001b[0m\u001b[0margs\u001b[0m\u001b[0;34m)\u001b[0m\u001b[0;34m\u001b[0m\u001b[0m\n\u001b[0m\u001b[1;32m    505\u001b[0m             \u001b[0;32mif\u001b[0m \u001b[0mresult\u001b[0m \u001b[0;32mis\u001b[0m \u001b[0;32mnot\u001b[0m \u001b[0;32mNone\u001b[0m\u001b[0;34m:\u001b[0m\u001b[0;34m\u001b[0m\u001b[0m\n",
      "\u001b[0;32m/opt/conda/lib/python3.6/urllib/request.py\u001b[0m in \u001b[0;36mhttp_error_default\u001b[0;34m(self, req, fp, code, msg, hdrs)\u001b[0m\n\u001b[1;32m    649\u001b[0m     \u001b[0;32mdef\u001b[0m \u001b[0mhttp_error_default\u001b[0m\u001b[0;34m(\u001b[0m\u001b[0mself\u001b[0m\u001b[0;34m,\u001b[0m \u001b[0mreq\u001b[0m\u001b[0;34m,\u001b[0m \u001b[0mfp\u001b[0m\u001b[0;34m,\u001b[0m \u001b[0mcode\u001b[0m\u001b[0;34m,\u001b[0m \u001b[0mmsg\u001b[0m\u001b[0;34m,\u001b[0m \u001b[0mhdrs\u001b[0m\u001b[0;34m)\u001b[0m\u001b[0;34m:\u001b[0m\u001b[0;34m\u001b[0m\u001b[0m\n\u001b[0;32m--> 650\u001b[0;31m         \u001b[0;32mraise\u001b[0m \u001b[0mHTTPError\u001b[0m\u001b[0;34m(\u001b[0m\u001b[0mreq\u001b[0m\u001b[0;34m.\u001b[0m\u001b[0mfull_url\u001b[0m\u001b[0;34m,\u001b[0m \u001b[0mcode\u001b[0m\u001b[0;34m,\u001b[0m \u001b[0mmsg\u001b[0m\u001b[0;34m,\u001b[0m \u001b[0mhdrs\u001b[0m\u001b[0;34m,\u001b[0m \u001b[0mfp\u001b[0m\u001b[0;34m)\u001b[0m\u001b[0;34m\u001b[0m\u001b[0m\n\u001b[0m\u001b[1;32m    651\u001b[0m \u001b[0;34m\u001b[0m\u001b[0m\n",
      "\u001b[0;31mHTTPError\u001b[0m: HTTP Error 404: Not Found",
      "\nDuring handling of the above exception, another exception occurred:\n",
      "\u001b[0;31mAPIError\u001b[0m                                  Traceback (most recent call last)",
      "\u001b[0;32m<ipython-input-27-6d4888792dda>\u001b[0m in \u001b[0;36m<module>\u001b[0;34m()\u001b[0m\n\u001b[0;32m----> 1\u001b[0;31m \u001b[0msummoner\u001b[0m \u001b[0;34m=\u001b[0m \u001b[0mriotapi\u001b[0m\u001b[0;34m.\u001b[0m\u001b[0mget_champion_by_id\u001b[0m\u001b[0;34m(\u001b[0m\u001b[0mint\u001b[0m\u001b[0;34m(\u001b[0m\u001b[0mscrapelist\u001b[0m\u001b[0;34m[\u001b[0m\u001b[0;36m0\u001b[0m\u001b[0;34m]\u001b[0m\u001b[0;34m)\u001b[0m\u001b[0;34m)\u001b[0m\u001b[0;34m\u001b[0m\u001b[0m\n\u001b[0m",
      "\u001b[0;32m/opt/conda/lib/python3.6/site-packages/cassiopeia/core/staticdataapi.py\u001b[0m in \u001b[0;36mget_champion_by_id\u001b[0;34m(id_)\u001b[0m\n\u001b[1;32m     24\u001b[0m         \u001b[0;32mreturn\u001b[0m \u001b[0mchampion\u001b[0m\u001b[0;34m\u001b[0m\u001b[0m\n\u001b[1;32m     25\u001b[0m \u001b[0;34m\u001b[0m\u001b[0m\n\u001b[0;32m---> 26\u001b[0;31m     \u001b[0mchampion\u001b[0m \u001b[0;34m=\u001b[0m \u001b[0mcassiopeia\u001b[0m\u001b[0;34m.\u001b[0m\u001b[0mdto\u001b[0m\u001b[0;34m.\u001b[0m\u001b[0mstaticdataapi\u001b[0m\u001b[0;34m.\u001b[0m\u001b[0mget_champion\u001b[0m\u001b[0;34m(\u001b[0m\u001b[0mid_\u001b[0m\u001b[0;34m)\u001b[0m\u001b[0;34m\u001b[0m\u001b[0m\n\u001b[0m\u001b[1;32m     27\u001b[0m \u001b[0;34m\u001b[0m\u001b[0m\n\u001b[1;32m     28\u001b[0m     \u001b[0;31m# Load required data if loading policy is eager\u001b[0m\u001b[0;34m\u001b[0m\u001b[0;34m\u001b[0m\u001b[0m\n",
      "\u001b[0;32m/opt/conda/lib/python3.6/site-packages/cassiopeia/dto/staticdataapi.py\u001b[0m in \u001b[0;36mget_champion\u001b[0;34m(id_)\u001b[0m\n\u001b[1;32m     21\u001b[0m         \u001b[0mparams\u001b[0m\u001b[0;34m[\u001b[0m\u001b[0;34m\"locale\"\u001b[0m\u001b[0;34m]\u001b[0m \u001b[0;34m=\u001b[0m \u001b[0m_locale\u001b[0m\u001b[0;34m\u001b[0m\u001b[0m\n\u001b[1;32m     22\u001b[0m \u001b[0;34m\u001b[0m\u001b[0m\n\u001b[0;32m---> 23\u001b[0;31m     \u001b[0;32mreturn\u001b[0m \u001b[0mcassiopeia\u001b[0m\u001b[0;34m.\u001b[0m\u001b[0mtype\u001b[0m\u001b[0;34m.\u001b[0m\u001b[0mdto\u001b[0m\u001b[0;34m.\u001b[0m\u001b[0mstaticdata\u001b[0m\u001b[0;34m.\u001b[0m\u001b[0mChampion\u001b[0m\u001b[0;34m(\u001b[0m\u001b[0mcassiopeia\u001b[0m\u001b[0;34m.\u001b[0m\u001b[0mdto\u001b[0m\u001b[0;34m.\u001b[0m\u001b[0mrequests\u001b[0m\u001b[0;34m.\u001b[0m\u001b[0mget\u001b[0m\u001b[0;34m(\u001b[0m\u001b[0mrequest\u001b[0m\u001b[0;34m,\u001b[0m \u001b[0mparams\u001b[0m\u001b[0;34m,\u001b[0m \u001b[0;32mTrue\u001b[0m\u001b[0;34m)\u001b[0m\u001b[0;34m)\u001b[0m\u001b[0;34m\u001b[0m\u001b[0m\n\u001b[0m\u001b[1;32m     24\u001b[0m \u001b[0;34m\u001b[0m\u001b[0m\n\u001b[1;32m     25\u001b[0m \u001b[0;34m\u001b[0m\u001b[0m\n",
      "\u001b[0;32m/opt/conda/lib/python3.6/site-packages/cassiopeia/dto/requests.py\u001b[0m in \u001b[0;36mget\u001b[0;34m(request, params, static, include_base, tournament)\u001b[0m\n\u001b[1;32m     40\u001b[0m \u001b[0;34m\u001b[0m\u001b[0m\n\u001b[1;32m     41\u001b[0m \u001b[0;32mdef\u001b[0m \u001b[0mget\u001b[0m\u001b[0;34m(\u001b[0m\u001b[0mrequest\u001b[0m\u001b[0;34m,\u001b[0m \u001b[0mparams\u001b[0m\u001b[0;34m=\u001b[0m\u001b[0;34m{\u001b[0m\u001b[0;34m}\u001b[0m\u001b[0;34m,\u001b[0m \u001b[0mstatic\u001b[0m\u001b[0;34m=\u001b[0m\u001b[0;32mFalse\u001b[0m\u001b[0;34m,\u001b[0m \u001b[0minclude_base\u001b[0m\u001b[0;34m=\u001b[0m\u001b[0;32mTrue\u001b[0m\u001b[0;34m,\u001b[0m \u001b[0mtournament\u001b[0m\u001b[0;34m=\u001b[0m\u001b[0;32mFalse\u001b[0m\u001b[0;34m)\u001b[0m\u001b[0;34m:\u001b[0m\u001b[0;34m\u001b[0m\u001b[0m\n\u001b[0;32m---> 42\u001b[0;31m     \u001b[0;32mreturn\u001b[0m \u001b[0mmake_request\u001b[0m\u001b[0;34m(\u001b[0m\u001b[0mrequest\u001b[0m\u001b[0;34m=\u001b[0m\u001b[0mrequest\u001b[0m\u001b[0;34m,\u001b[0m \u001b[0mmethod\u001b[0m\u001b[0;34m=\u001b[0m\u001b[0;34m\"GET\"\u001b[0m\u001b[0;34m,\u001b[0m \u001b[0mparams\u001b[0m\u001b[0;34m=\u001b[0m\u001b[0mparams\u001b[0m\u001b[0;34m,\u001b[0m \u001b[0mstatic\u001b[0m\u001b[0;34m=\u001b[0m\u001b[0mstatic\u001b[0m\u001b[0;34m,\u001b[0m \u001b[0minclude_base\u001b[0m\u001b[0;34m=\u001b[0m\u001b[0minclude_base\u001b[0m\u001b[0;34m,\u001b[0m \u001b[0mtournament\u001b[0m\u001b[0;34m=\u001b[0m\u001b[0mtournament\u001b[0m\u001b[0;34m)\u001b[0m\u001b[0;34m\u001b[0m\u001b[0m\n\u001b[0m\u001b[1;32m     43\u001b[0m \u001b[0;34m\u001b[0m\u001b[0m\n\u001b[1;32m     44\u001b[0m \u001b[0;34m\u001b[0m\u001b[0m\n",
      "\u001b[0;32m/opt/conda/lib/python3.6/site-packages/cassiopeia/dto/requests.py\u001b[0m in \u001b[0;36mmake_request\u001b[0;34m(request, method, params, payload, static, include_base, tournament)\u001b[0m\n\u001b[1;32m    105\u001b[0m             \u001b[0;32mreturn\u001b[0m \u001b[0mmake_request\u001b[0m\u001b[0;34m(\u001b[0m\u001b[0mrequest\u001b[0m\u001b[0;34m,\u001b[0m \u001b[0mmethod\u001b[0m\u001b[0;34m,\u001b[0m \u001b[0mparams\u001b[0m\u001b[0;34m,\u001b[0m \u001b[0mpayload\u001b[0m\u001b[0;34m,\u001b[0m \u001b[0mstatic\u001b[0m\u001b[0;34m,\u001b[0m \u001b[0minclude_base\u001b[0m\u001b[0;34m,\u001b[0m \u001b[0mtournament\u001b[0m\u001b[0;34m)\u001b[0m\u001b[0;34m\u001b[0m\u001b[0m\n\u001b[1;32m    106\u001b[0m         \u001b[0;32melse\u001b[0m\u001b[0;34m:\u001b[0m\u001b[0;34m\u001b[0m\u001b[0m\n\u001b[0;32m--> 107\u001b[0;31m             \u001b[0;32mraise\u001b[0m \u001b[0mcassiopeia\u001b[0m\u001b[0;34m.\u001b[0m\u001b[0mtype\u001b[0m\u001b[0;34m.\u001b[0m\u001b[0mapi\u001b[0m\u001b[0;34m.\u001b[0m\u001b[0mexception\u001b[0m\u001b[0;34m.\u001b[0m\u001b[0mAPIError\u001b[0m\u001b[0;34m(\u001b[0m\u001b[0;34m\"Server returned error {code} on call: {url}\"\u001b[0m\u001b[0;34m.\u001b[0m\u001b[0mformat\u001b[0m\u001b[0;34m(\u001b[0m\u001b[0mcode\u001b[0m\u001b[0;34m=\u001b[0m\u001b[0me\u001b[0m\u001b[0;34m.\u001b[0m\u001b[0mcode\u001b[0m\u001b[0;34m,\u001b[0m \u001b[0murl\u001b[0m\u001b[0;34m=\u001b[0m\u001b[0murl\u001b[0m\u001b[0;34m)\u001b[0m\u001b[0;34m,\u001b[0m \u001b[0me\u001b[0m\u001b[0;34m.\u001b[0m\u001b[0mcode\u001b[0m\u001b[0;34m)\u001b[0m\u001b[0;34m\u001b[0m\u001b[0m\n\u001b[0m\u001b[1;32m    108\u001b[0m \u001b[0;34m\u001b[0m\u001b[0m\n\u001b[1;32m    109\u001b[0m \u001b[0;34m\u001b[0m\u001b[0m\n",
      "\u001b[0;31mAPIError\u001b[0m: Server returned error 404 on call: https://global.api.pvp.net/api/lol/static-data/na/v1.2/champion/83089576?champData=all&api_key=RGAPI-a4df6fb2-f7bf-4c5c-a147-c7c74abf60b9"
     ]
    }
   ],
   "source": [
    "summoner = riotapi.get_champion_by_id(int(scrapelist[0]))"
   ]
  },
  {
   "cell_type": "code",
   "execution_count": null,
   "metadata": {},
   "outputs": [
    {
     "name": "stdout",
     "output_type": "stream",
     "text": [
      "matches(262, 57)\n",
      "Summoners(850, 3)\n",
      "matches(263, 57)\n",
      "Summoners(850, 3)\n",
      "matches(264, 57)\n",
      "Summoners(850, 3)\n",
      "matches(265, 57)\n",
      "Summoners(850, 3)\n",
      "matches(266, 57)\n",
      "Summoners(850, 3)\n",
      "matches(267, 57)\n",
      "Summoners(850, 3)\n",
      "matches(268, 57)\n",
      "Summoners(850, 3)\n",
      "matches(269, 57)\n",
      "Summoners(850, 3)\n",
      "matches(270, 57)\n",
      "Summoners(850, 3)\n",
      "matches(271, 57)\n",
      "Summoners(850, 3)\n",
      "matches(272, 57)\n",
      "Summoners(850, 3)\n",
      "matches(273, 57)\n",
      "Summoners(850, 3)\n",
      "matches(274, 57)\n",
      "Summoners(850, 3)\n",
      "matches(275, 57)\n",
      "Summoners(850, 3)\n",
      "matches(276, 57)\n",
      "Summoners(850, 3)\n",
      "matches(277, 57)\n",
      "Summoners(850, 3)\n",
      "matches(278, 57)\n",
      "Summoners(850, 3)\n",
      "matches(279, 57)\n",
      "Summoners(850, 3)\n",
      "matches(280, 57)\n",
      "Summoners(850, 3)\n",
      "matches(281, 57)\n",
      "Summoners(850, 3)\n",
      "matches(282, 57)\n",
      "Summoners(850, 3)\n",
      "matches(283, 57)\n",
      "Summoners(850, 3)\n",
      "matches(284, 57)\n",
      "Summoners(850, 3)\n",
      "matches(285, 57)\n",
      "Summoners(850, 3)\n",
      "matches(286, 57)\n",
      "Summoners(850, 3)\n",
      "matches(287, 57)\n",
      "Summoners(850, 3)\n",
      "matches(288, 57)\n",
      "Summoners(850, 3)\n",
      "matches(289, 57)\n",
      "Summoners(850, 3)\n",
      "matches(290, 57)\n",
      "Summoners(850, 3)\n",
      "matches(291, 57)\n",
      "Summoners(850, 3)\n",
      "matches(292, 57)\n",
      "Summoners(850, 3)\n",
      "matches(293, 57)\n",
      "Summoners(850, 3)\n",
      "matches(294, 57)\n",
      "Summoners(850, 3)\n",
      "matches(295, 57)\n",
      "Summoners(850, 3)\n",
      "matches(296, 57)\n",
      "Summoners(850, 3)\n",
      "matches(297, 57)\n",
      "Summoners(850, 3)\n",
      "matches(298, 57)\n",
      "Summoners(850, 3)\n",
      "matches(299, 57)\n",
      "Summoners(850, 3)\n",
      "matches(300, 57)\n",
      "Summoners(850, 3)\n",
      "matches(301, 57)\n",
      "Summoners(850, 3)\n",
      "matches(302, 57)\n",
      "Summoners(850, 3)\n",
      "matches(303, 57)\n",
      "Summoners(850, 3)\n",
      "matches(304, 57)\n",
      "Summoners(850, 3)\n",
      "matches(305, 57)\n",
      "Summoners(850, 3)\n",
      "matches(306, 57)\n",
      "Summoners(850, 3)\n",
      "matches(307, 57)\n",
      "Summoners(850, 3)\n",
      "matches(308, 57)\n",
      "Summoners(850, 3)\n",
      "matches(309, 57)\n",
      "Summoners(850, 3)\n",
      "matches(310, 57)\n",
      "Summoners(850, 3)\n",
      "matches(311, 57)\n",
      "Summoners(850, 3)\n",
      "matches(312, 57)\n",
      "Summoners(850, 3)\n",
      "matches(313, 57)\n",
      "Summoners(850, 3)\n",
      "matches(314, 57)\n",
      "Summoners(850, 3)\n",
      "matches(315, 57)\n",
      "Summoners(850, 3)\n",
      "matches(316, 57)\n",
      "Summoners(850, 3)\n",
      "matches(317, 57)\n",
      "Summoners(850, 3)\n",
      "matches(318, 57)\n",
      "Summoners(850, 3)\n",
      "matches(319, 57)\n",
      "Summoners(850, 3)\n",
      "matches(320, 57)\n",
      "Summoners(850, 3)\n",
      "matches(321, 57)\n",
      "Summoners(850, 3)\n",
      "matches(322, 57)\n",
      "Summoners(850, 3)\n",
      "matches(323, 57)\n",
      "Summoners(850, 3)\n",
      "matches(324, 57)\n",
      "Summoners(850, 3)\n",
      "matches(325, 57)\n",
      "Summoners(850, 3)\n",
      "matches(326, 57)\n",
      "Summoners(850, 3)\n"
     ]
    }
   ],
   "source": [
    "runtime = summoners_to_scrape.shape[0]\n",
    "for sumiter in range(runtime): # the outer loop for ever summoner currently on our watch list.\n",
    "    try:\n",
    "        summoner = riotapi.get_summoner_by_id(int(scrapelist[sumiter]))\n",
    "        matchlist= riotapi.get_match_list(summoner, ranked_queues='RANKED_SOLO_5X5')\n",
    "    except KeyboardInterrupt:\n",
    "                raise\n",
    "    except:\n",
    "        continue\n",
    "\n",
    "    matchlist= riotapi.get_match_list(summoner, ranked_queues='RANKED_SOLO_5X5')\n",
    "    \n",
    "    for matchiter in range(len(matchlist)):\n",
    "        while True:\n",
    "            try:\n",
    "                match = riotapi.get_match(matchlist[matchiter])\n",
    "                matchdata = riotapi.get_match(matchlist[matchiter], include_timeline=False).data\n",
    "                break\n",
    "            except KeyboardInterrupt:\n",
    "                raise\n",
    "            except:\n",
    "                time.sleep(1)\n",
    "                \n",
    "        #lets make sure we don't already know about this match\n",
    "        if matchlist[matchiter].id in matchesdf.index.values:\n",
    "            break\n",
    "        #lets worry about the globals (who won, when did it happen, the match id)\n",
    "        team1win = matchdata.teams[0].winner\n",
    "        team2win = matchdata.teams[1].winner\n",
    "        matchid = matchlist[matchiter].id\n",
    "        matchtimestamp = matchlist[matchiter].timestamp\n",
    "        matchversion = matchlist[matchiter].match().version\n",
    "        # on to the interesting  part.  This is a pair of nested loops. The markdown cell contains the larger codeblock version, which may be more readable.\n",
    "        matchdict = {}\n",
    "        for playernum in range (10):\n",
    "                matchdict['player'+str(playernum+1)+'champid']= matchdata.participants[playernum].championId\n",
    "                matchdict['player'+str(playernum+1)+'summonerid']= match.participants[playernum].summoner_id\n",
    "                matchdict['player'+str(playernum+1)+'summonername']= match.participants[playernum].summoner_name\n",
    "                matchdict['player'+str(playernum+1)+'lane']= matchdata.participants[playernum].timeline.lane\n",
    "                matchdict['player'+str(playernum+1)+'role']= matchdata.participants[playernum].timeline.role\n",
    "                summoner_scrape_add(match.participants[playernum].summoner_id, match.participants[playernum].summoner_name)\n",
    "        matchdict['matchid']= matchid\n",
    "        matchdict['matchtime']= matchtimestamp\n",
    "        matchdict['patch_version'] = matchversion\n",
    "        matchdict['team1_win']= team1win\n",
    "        matchdict['team2_win']= team2win\n",
    "        #print(matchdict)\n",
    "        singlematch = pd.DataFrame([matchdict],index=[matchlist[matchiter].id])\n",
    "        matchesdf= pd.concat([matchesdf,singlematch])\n",
    "        #print(matchesdf.head())\n",
    "        print('matches'+str(matchesdf.shape))\n",
    "        print('Summoners'+str(summoners_to_scrape.shape))\n",
    "    matchesdf.to_csv('matches.csv')\n",
    "    summoners_to_scrape.to_csv('scrapetargets.csv')"
   ]
  },
  {
   "cell_type": "code",
   "execution_count": 7,
   "metadata": {
    "collapsed": true
   },
   "outputs": [],
   "source": [
    "matchesdf = pd.read_csv('matches.csv')"
   ]
  },
  {
   "cell_type": "code",
   "execution_count": 16,
   "metadata": {},
   "outputs": [
    {
     "data": {
      "text/plain": [
       "Index(['Unnamed: 0', 'Unnamed: 0.1', 'player10champid', 'player10lane',\n",
       "       'player10role', 'player10summonerid', 'player10summonername',\n",
       "       'player1champid', 'player1lane', 'player1role', 'player1summonerid',\n",
       "       'player1summonername', 'player2champid', 'player2lane', 'player2role',\n",
       "       'player2summonerid', 'player2summonername', 'player3champid',\n",
       "       'player3lane', 'player3role', 'player3summonerid',\n",
       "       'player3summonername', 'player4champid', 'player4lane', 'player4role',\n",
       "       'player4summonerid', 'player4summonername', 'player5champid',\n",
       "       'player5lane', 'player5role', 'player5summonerid',\n",
       "       'player5summonername', 'player6champid', 'player6lane', 'player6role',\n",
       "       'player6summonerid', 'player6summonername', 'player7champid',\n",
       "       'player7lane', 'player7role', 'player7summonerid',\n",
       "       'player7summonername', 'player8champid', 'player8lane', 'player8role',\n",
       "       'player8summonerid', 'player8summonername', 'player9champid',\n",
       "       'player9lane', 'player9role', 'player9summonerid',\n",
       "       'player9summonername'],\n",
       "      dtype='object')"
      ]
     },
     "execution_count": 16,
     "metadata": {},
     "output_type": "execute_result"
    }
   ],
   "source": [
    "matchesdf.columns"
   ]
  }
 ],
 "metadata": {
  "kernelspec": {
   "display_name": "Python 3",
   "language": "python",
   "name": "python3"
  },
  "language_info": {
   "codemirror_mode": {
    "name": "ipython",
    "version": 3
   },
   "file_extension": ".py",
   "mimetype": "text/x-python",
   "name": "python",
   "nbconvert_exporter": "python",
   "pygments_lexer": "ipython3",
   "version": "3.6.1"
  }
 },
 "nbformat": 4,
 "nbformat_minor": 2
}
