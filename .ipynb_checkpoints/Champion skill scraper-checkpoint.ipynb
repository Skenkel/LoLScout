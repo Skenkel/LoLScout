{
 "cells": [
  {
   "cell_type": "markdown",
   "metadata": {},
   "source": [
    "Use webscraping with na.op.gg or a similar site to find a players \"champion skill\" features at the time a match is played. \n",
    "outputs this to a csv file. "
   ]
  },
  {
   "cell_type": "code",
   "execution_count": 199,
   "metadata": {
    "collapsed": true
   },
   "outputs": [],
   "source": [
    "import cassiopeia as cs\n",
    "import pandas as pd\n",
    "\n",
    "import random\n",
    "\n",
    "from cassiopeia import riotapi\n",
    "import time as t\n",
    "todaysdate = t.strftime('%Y-%m-%d')\n"
   ]
  },
  {
   "cell_type": "code",
   "execution_count": 200,
   "metadata": {},
   "outputs": [
    {
     "name": "stdout",
     "output_type": "stream",
     "text": [
      "riot api?RGAPI-a4df6fb2-f7bf-4c5c-a147-c7c74abf60b9\n"
     ]
    }
   ],
   "source": [
    "riotkey= input('riot api?')"
   ]
  },
  {
   "cell_type": "code",
   "execution_count": 201,
   "metadata": {
    "collapsed": true
   },
   "outputs": [],
   "source": [
    "riotapi.set_region(\"NA\")\n",
    "riotapi.set_api_key(riotkey)"
   ]
  },
  {
   "cell_type": "code",
   "execution_count": 218,
   "metadata": {},
   "outputs": [],
   "source": [
    "summoners_to_scrape = pd.read_csv('scrapetargets.csv', )\n",
    "summonersdf = pd.read_csv('champskill.csv', index_col='summoner')\n",
    "summoners_to_scrape =pd.read_csv ('summoner_ids.csv', index_col='summoner_id')"
   ]
  },
  {
   "cell_type": "code",
   "execution_count": 219,
   "metadata": {},
   "outputs": [
    {
     "data": {
      "text/html": [
       "<div>\n",
       "<style>\n",
       "    .dataframe thead tr:only-child th {\n",
       "        text-align: right;\n",
       "    }\n",
       "\n",
       "    .dataframe thead th {\n",
       "        text-align: left;\n",
       "    }\n",
       "\n",
       "    .dataframe tbody tr th {\n",
       "        vertical-align: top;\n",
       "    }\n",
       "</style>\n",
       "<table border=\"1\" class=\"dataframe\">\n",
       "  <thead>\n",
       "    <tr style=\"text-align: right;\">\n",
       "      <th></th>\n",
       "      <th>iterindex</th>\n",
       "      <th>pro handle</th>\n",
       "      <th>summoner name</th>\n",
       "    </tr>\n",
       "    <tr>\n",
       "      <th>summoner_id</th>\n",
       "      <th></th>\n",
       "      <th></th>\n",
       "      <th></th>\n",
       "    </tr>\n",
       "  </thead>\n",
       "  <tbody>\n",
       "    <tr>\n",
       "      <th>83089576</th>\n",
       "      <td>0</td>\n",
       "      <td>chaser</td>\n",
       "      <td>Chasér</td>\n",
       "    </tr>\n",
       "    <tr>\n",
       "      <th>2648</th>\n",
       "      <td>1</td>\n",
       "      <td>pobelter</td>\n",
       "      <td>Pobelter</td>\n",
       "    </tr>\n",
       "    <tr>\n",
       "      <th>51409228</th>\n",
       "      <td>2</td>\n",
       "      <td>pobelter</td>\n",
       "      <td>Hero Kenzan</td>\n",
       "    </tr>\n",
       "    <tr>\n",
       "      <th>77179274</th>\n",
       "      <td>3</td>\n",
       "      <td>Ray</td>\n",
       "      <td>C9 Ray</td>\n",
       "    </tr>\n",
       "    <tr>\n",
       "      <th>77799096</th>\n",
       "      <td>4</td>\n",
       "      <td>Ray</td>\n",
       "      <td>C9 Sword</td>\n",
       "    </tr>\n",
       "  </tbody>\n",
       "</table>\n",
       "</div>"
      ],
      "text/plain": [
       "             iterindex pro handle summoner name\n",
       "summoner_id                                    \n",
       "83089576             0     chaser        Chasér\n",
       "2648                 1   pobelter      Pobelter\n",
       "51409228             2   pobelter   Hero Kenzan\n",
       "77179274             3        Ray        C9 Ray\n",
       "77799096             4        Ray      C9 Sword"
      ]
     },
     "execution_count": 219,
     "metadata": {},
     "output_type": "execute_result"
    }
   ],
   "source": [
    "summoners_to_scrape.head()"
   ]
  },
  {
   "cell_type": "code",
   "execution_count": 166,
   "metadata": {},
   "outputs": [],
   "source": [
    "summoners_to_scrape.drop(['Unnamed: 0'], axis=1, inplace= True)"
   ]
  },
  {
   "cell_type": "code",
   "execution_count": 220,
   "metadata": {},
   "outputs": [
    {
     "data": {
      "text/html": [
       "<div>\n",
       "<style>\n",
       "    .dataframe thead tr:only-child th {\n",
       "        text-align: right;\n",
       "    }\n",
       "\n",
       "    .dataframe thead th {\n",
       "        text-align: left;\n",
       "    }\n",
       "\n",
       "    .dataframe tbody tr th {\n",
       "        vertical-align: top;\n",
       "    }\n",
       "</style>\n",
       "<table border=\"1\" class=\"dataframe\">\n",
       "  <thead>\n",
       "    <tr style=\"text-align: right;\">\n",
       "      <th></th>\n",
       "      <th>Unnamed: 0</th>\n",
       "      <th>Unnamed: 0.1</th>\n",
       "      <th>101A</th>\n",
       "      <th>101D</th>\n",
       "      <th>101K</th>\n",
       "      <th>101L</th>\n",
       "      <th>101W</th>\n",
       "      <th>102A</th>\n",
       "      <th>102D</th>\n",
       "      <th>102K</th>\n",
       "      <th>...</th>\n",
       "      <th>9K</th>\n",
       "      <th>9L</th>\n",
       "      <th>9W</th>\n",
       "      <th>AllA</th>\n",
       "      <th>AllD</th>\n",
       "      <th>AllK</th>\n",
       "      <th>AllL</th>\n",
       "      <th>AllW</th>\n",
       "      <th>date</th>\n",
       "      <th>summonername</th>\n",
       "    </tr>\n",
       "    <tr>\n",
       "      <th>summoner</th>\n",
       "      <th></th>\n",
       "      <th></th>\n",
       "      <th></th>\n",
       "      <th></th>\n",
       "      <th></th>\n",
       "      <th></th>\n",
       "      <th></th>\n",
       "      <th></th>\n",
       "      <th></th>\n",
       "      <th></th>\n",
       "      <th></th>\n",
       "      <th></th>\n",
       "      <th></th>\n",
       "      <th></th>\n",
       "      <th></th>\n",
       "      <th></th>\n",
       "      <th></th>\n",
       "      <th></th>\n",
       "      <th></th>\n",
       "      <th></th>\n",
       "      <th></th>\n",
       "    </tr>\n",
       "  </thead>\n",
       "  <tbody>\n",
       "    <tr>\n",
       "      <th>19302712</th>\n",
       "      <td>0</td>\n",
       "      <td>summoner</td>\n",
       "      <td>NaN</td>\n",
       "      <td>NaN</td>\n",
       "      <td>NaN</td>\n",
       "      <td>NaN</td>\n",
       "      <td>NaN</td>\n",
       "      <td>NaN</td>\n",
       "      <td>NaN</td>\n",
       "      <td>NaN</td>\n",
       "      <td>...</td>\n",
       "      <td>NaN</td>\n",
       "      <td>NaN</td>\n",
       "      <td>NaN</td>\n",
       "      <td>NaN</td>\n",
       "      <td>NaN</td>\n",
       "      <td>NaN</td>\n",
       "      <td>NaN</td>\n",
       "      <td>NaN</td>\n",
       "      <td>NaN</td>\n",
       "      <td>Emon</td>\n",
       "    </tr>\n",
       "    <tr>\n",
       "      <th>83089576</th>\n",
       "      <td>1</td>\n",
       "      <td>83089576</td>\n",
       "      <td>NaN</td>\n",
       "      <td>NaN</td>\n",
       "      <td>NaN</td>\n",
       "      <td>NaN</td>\n",
       "      <td>NaN</td>\n",
       "      <td>0.0</td>\n",
       "      <td>0.0</td>\n",
       "      <td>0.0</td>\n",
       "      <td>...</td>\n",
       "      <td>NaN</td>\n",
       "      <td>NaN</td>\n",
       "      <td>NaN</td>\n",
       "      <td>0.0</td>\n",
       "      <td>0.0</td>\n",
       "      <td>0.0</td>\n",
       "      <td>243.0</td>\n",
       "      <td>311.0</td>\n",
       "      <td>2017-07-09</td>\n",
       "      <td>Chasér</td>\n",
       "    </tr>\n",
       "    <tr>\n",
       "      <th>2648</th>\n",
       "      <td>2</td>\n",
       "      <td>2648</td>\n",
       "      <td>NaN</td>\n",
       "      <td>NaN</td>\n",
       "      <td>NaN</td>\n",
       "      <td>NaN</td>\n",
       "      <td>NaN</td>\n",
       "      <td>NaN</td>\n",
       "      <td>NaN</td>\n",
       "      <td>NaN</td>\n",
       "      <td>...</td>\n",
       "      <td>0.0</td>\n",
       "      <td>0.0</td>\n",
       "      <td>3.0</td>\n",
       "      <td>0.0</td>\n",
       "      <td>0.0</td>\n",
       "      <td>0.0</td>\n",
       "      <td>363.0</td>\n",
       "      <td>427.0</td>\n",
       "      <td>2017-07-09</td>\n",
       "      <td>Pobelter</td>\n",
       "    </tr>\n",
       "    <tr>\n",
       "      <th>51409228</th>\n",
       "      <td>3</td>\n",
       "      <td>51409228</td>\n",
       "      <td>NaN</td>\n",
       "      <td>NaN</td>\n",
       "      <td>NaN</td>\n",
       "      <td>NaN</td>\n",
       "      <td>NaN</td>\n",
       "      <td>NaN</td>\n",
       "      <td>NaN</td>\n",
       "      <td>NaN</td>\n",
       "      <td>...</td>\n",
       "      <td>0.0</td>\n",
       "      <td>0.0</td>\n",
       "      <td>1.0</td>\n",
       "      <td>0.0</td>\n",
       "      <td>0.0</td>\n",
       "      <td>0.0</td>\n",
       "      <td>58.0</td>\n",
       "      <td>105.0</td>\n",
       "      <td>2017-07-09</td>\n",
       "      <td>Hero Kenzan</td>\n",
       "    </tr>\n",
       "    <tr>\n",
       "      <th>77179274</th>\n",
       "      <td>4</td>\n",
       "      <td>77179274</td>\n",
       "      <td>NaN</td>\n",
       "      <td>NaN</td>\n",
       "      <td>NaN</td>\n",
       "      <td>NaN</td>\n",
       "      <td>NaN</td>\n",
       "      <td>NaN</td>\n",
       "      <td>NaN</td>\n",
       "      <td>NaN</td>\n",
       "      <td>...</td>\n",
       "      <td>NaN</td>\n",
       "      <td>NaN</td>\n",
       "      <td>NaN</td>\n",
       "      <td>0.0</td>\n",
       "      <td>0.0</td>\n",
       "      <td>0.0</td>\n",
       "      <td>321.0</td>\n",
       "      <td>385.0</td>\n",
       "      <td>2017-07-09</td>\n",
       "      <td>C9 Ray</td>\n",
       "    </tr>\n",
       "  </tbody>\n",
       "</table>\n",
       "<p>5 rows × 689 columns</p>\n",
       "</div>"
      ],
      "text/plain": [
       "          Unnamed: 0 Unnamed: 0.1  101A  101D  101K  101L  101W  102A  102D  \\\n",
       "summoner                                                                      \n",
       "19302712           0     summoner   NaN   NaN   NaN   NaN   NaN   NaN   NaN   \n",
       "83089576           1     83089576   NaN   NaN   NaN   NaN   NaN   0.0   0.0   \n",
       "2648               2         2648   NaN   NaN   NaN   NaN   NaN   NaN   NaN   \n",
       "51409228           3     51409228   NaN   NaN   NaN   NaN   NaN   NaN   NaN   \n",
       "77179274           4     77179274   NaN   NaN   NaN   NaN   NaN   NaN   NaN   \n",
       "\n",
       "          102K      ...        9K   9L   9W  AllA  AllD  AllK   AllL   AllW  \\\n",
       "summoner            ...                                                       \n",
       "19302712   NaN      ...       NaN  NaN  NaN   NaN   NaN   NaN    NaN    NaN   \n",
       "83089576   0.0      ...       NaN  NaN  NaN   0.0   0.0   0.0  243.0  311.0   \n",
       "2648       NaN      ...       0.0  0.0  3.0   0.0   0.0   0.0  363.0  427.0   \n",
       "51409228   NaN      ...       0.0  0.0  1.0   0.0   0.0   0.0   58.0  105.0   \n",
       "77179274   NaN      ...       NaN  NaN  NaN   0.0   0.0   0.0  321.0  385.0   \n",
       "\n",
       "                date  summonername  \n",
       "summoner                            \n",
       "19302712         NaN          Emon  \n",
       "83089576  2017-07-09       Chasér   \n",
       "2648      2017-07-09      Pobelter  \n",
       "51409228  2017-07-09   Hero Kenzan  \n",
       "77179274  2017-07-09        C9 Ray  \n",
       "\n",
       "[5 rows x 689 columns]"
      ]
     },
     "execution_count": 220,
     "metadata": {},
     "output_type": "execute_result"
    }
   ],
   "source": [
    "summonersdf.head()"
   ]
  },
  {
   "cell_type": "code",
   "execution_count": 223,
   "metadata": {},
   "outputs": [],
   "source": [
    "scrapelist = summoners_to_scrape.index"
   ]
  },
  {
   "cell_type": "code",
   "execution_count": 224,
   "metadata": {},
   "outputs": [
    {
     "data": {
      "text/plain": [
       "pandas.core.indexes.numeric.Int64Index"
      ]
     },
     "execution_count": 224,
     "metadata": {},
     "output_type": "execute_result"
    }
   ],
   "source": [
    "type(scrapelist)\n"
   ]
  },
  {
   "cell_type": "code",
   "execution_count": 226,
   "metadata": {},
   "outputs": [
    {
     "data": {
      "text/plain": [
       "51409228"
      ]
     },
     "execution_count": 226,
     "metadata": {},
     "output_type": "execute_result"
    }
   ],
   "source": [
    "scrapelist[2]"
   ]
  },
  {
   "cell_type": "code",
   "execution_count": 11,
   "metadata": {
    "collapsed": true
   },
   "outputs": [],
   "source": []
  },
  {
   "cell_type": "code",
   "execution_count": 12,
   "metadata": {
    "collapsed": true
   },
   "outputs": [],
   "source": []
  },
  {
   "cell_type": "code",
   "execution_count": 13,
   "metadata": {
    "collapsed": true
   },
   "outputs": [],
   "source": []
  },
  {
   "cell_type": "code",
   "execution_count": 14,
   "metadata": {
    "collapsed": true
   },
   "outputs": [],
   "source": []
  },
  {
   "cell_type": "code",
   "execution_count": 15,
   "metadata": {
    "collapsed": true
   },
   "outputs": [],
   "source": []
  },
  {
   "cell_type": "code",
   "execution_count": 16,
   "metadata": {
    "collapsed": true
   },
   "outputs": [],
   "source": []
  },
  {
   "cell_type": "code",
   "execution_count": 17,
   "metadata": {
    "collapsed": true
   },
   "outputs": [],
   "source": []
  },
  {
   "cell_type": "code",
   "execution_count": 18,
   "metadata": {
    "collapsed": true
   },
   "outputs": [],
   "source": []
  },
  {
   "cell_type": "code",
   "execution_count": 19,
   "metadata": {
    "collapsed": true
   },
   "outputs": [],
   "source": []
  },
  {
   "cell_type": "code",
   "execution_count": 14,
   "metadata": {
    "collapsed": true
   },
   "outputs": [],
   "source": [
    "# run this cell if you have a prior build. \n",
    "summonersdf = pd.read_csv('champskill.csv')"
   ]
  },
  {
   "cell_type": "code",
   "execution_count": 90,
   "metadata": {},
   "outputs": [
    {
     "name": "stdout",
     "output_type": "stream",
     "text": [
      "43\n"
     ]
    },
    {
     "data": {
      "text/plain": [
       "False"
      ]
     },
     "execution_count": 90,
     "metadata": {},
     "output_type": "execute_result"
    }
   ],
   "source": [
    "# only run this cell if you don't have a data frame\n",
    "#summonerslist = [{'summoner':0 , 'summonername': 'tryndjk'}]\n",
    "#summonersdf = pd.DataFrame(summonerlist, index=['summoner'])"
   ]
  },
  {
   "cell_type": "code",
   "execution_count": 214,
   "metadata": {},
   "outputs": [],
   "source": [
    "summoners_to_scrape['summoner_id'][0] in summonersdf.summoner.values\n",
    "summoner = riotapi.get_summoner_by_id(int(summoners_to_scrape['summoner_id'][10]))\n"
   ]
  },
  {
   "cell_type": "code",
   "execution_count": 213,
   "metadata": {},
   "outputs": [],
   "source": [
    "sumstats =riotapi.get_ranked_stats(summoner)"
   ]
  },
  {
   "cell_type": "code",
   "execution_count": 230,
   "metadata": {
    "scrolled": false
   },
   "outputs": [],
   "source": [
    "\n",
    "for num in range(summoners_to_scrape.shape[0]):\n",
    "    if scrapelist[num]  in summonersdf.index.values:\n",
    "        continue\n",
    "\n",
    "    summoner = riotapi.get_summoner_by_id(scrapelist[num])\n",
    "    sumstats = riotapi.get_ranked_stats(summoner)\n",
    "    rankedchampsnum = len(list(sumstats.keys()))\n",
    "\n",
    "    summonerstatdict = {'summoner':summoner.id , 'summonername': summoner.name, 'date': todaysdate}\n",
    "    print('gathering stats on summoner'+summoner.name)\n",
    "    for champnum in range(rankedchampsnum):\n",
    "        if list(sumstats.keys())[champnum] is None:\n",
    "            champdata = sumstats[list(sumstats.keys())[champnum]].data\n",
    "            summonerstatdict['AllK'] = champdata.averageChampionsKilled\n",
    "            summonerstatdict['AllD'] = champdata.averageNumDeaths\n",
    "            summonerstatdict['AllA'] = champdata.averageAssists\n",
    "            summonerstatdict['AllW'] = champdata.totalSessionsWon\n",
    "            summonerstatdict['AllL'] = champdata.totalSessionsLost\n",
    "        else:\n",
    "            champdata = sumstats[list(sumstats.keys())[champnum]].data\n",
    "            #print(champnum)\n",
    "            champstr = str(list(sumstats.keys())[champnum].id)\n",
    "            #print(champstr)\n",
    "            summonerstatdict[champstr+'K'] = champdata.averageChampionsKilled\n",
    "            summonerstatdict[champstr+'D'] = champdata.averageNumDeaths\n",
    "            summonerstatdict[champstr+'A'] = champdata.averageAssists\n",
    "            summonerstatdict[champstr+'W'] = champdata.totalSessionsWon\n",
    "            summonerstatdict[champstr+'L'] = champdata.totalSessionsLost\n",
    "    summonerdf = pd.DataFrame([summonerstatdict], index=[summoner.id])\n",
    "    # we have a dataframe that represents a single summoner's skill. \n",
    "    \n",
    "    #we concatenate the current list of summoners and skills with ourselves.     \n",
    "    summonersdf = pd.concat([summonersdf, summonerdf])\n",
    "#we exit the loop before we write the csv\n",
    "summonersdf.to_csv('champskill.csv')\n",
    "\n",
    "    \n",
    "    "
   ]
  },
  {
   "cell_type": "code",
   "execution_count": 232,
   "metadata": {},
   "outputs": [
    {
     "data": {
      "text/plain": [
       "(88, 689)"
      ]
     },
     "execution_count": 232,
     "metadata": {},
     "output_type": "execute_result"
    }
   ],
   "source": [
    "summonersdf.shape\n"
   ]
  },
  {
   "cell_type": "code",
   "execution_count": 234,
   "metadata": {},
   "outputs": [
    {
     "data": {
      "text/plain": [
       "(87, 3)"
      ]
     },
     "execution_count": 234,
     "metadata": {},
     "output_type": "execute_result"
    }
   ],
   "source": [
    "summoners_to_scrape.shape"
   ]
  },
  {
   "cell_type": "code",
   "execution_count": 235,
   "metadata": {},
   "outputs": [
    {
     "data": {
      "text/html": [
       "<div>\n",
       "<style>\n",
       "    .dataframe thead tr:only-child th {\n",
       "        text-align: right;\n",
       "    }\n",
       "\n",
       "    .dataframe thead th {\n",
       "        text-align: left;\n",
       "    }\n",
       "\n",
       "    .dataframe tbody tr th {\n",
       "        vertical-align: top;\n",
       "    }\n",
       "</style>\n",
       "<table border=\"1\" class=\"dataframe\">\n",
       "  <thead>\n",
       "    <tr style=\"text-align: right;\">\n",
       "      <th></th>\n",
       "      <th>Unnamed: 0</th>\n",
       "      <th>Unnamed: 0.1</th>\n",
       "      <th>101A</th>\n",
       "      <th>101D</th>\n",
       "      <th>101K</th>\n",
       "      <th>101L</th>\n",
       "      <th>101W</th>\n",
       "      <th>102A</th>\n",
       "      <th>102D</th>\n",
       "      <th>102K</th>\n",
       "      <th>...</th>\n",
       "      <th>9K</th>\n",
       "      <th>9L</th>\n",
       "      <th>9W</th>\n",
       "      <th>AllA</th>\n",
       "      <th>AllD</th>\n",
       "      <th>AllK</th>\n",
       "      <th>AllL</th>\n",
       "      <th>AllW</th>\n",
       "      <th>date</th>\n",
       "      <th>summonername</th>\n",
       "    </tr>\n",
       "    <tr>\n",
       "      <th>summoner</th>\n",
       "      <th></th>\n",
       "      <th></th>\n",
       "      <th></th>\n",
       "      <th></th>\n",
       "      <th></th>\n",
       "      <th></th>\n",
       "      <th></th>\n",
       "      <th></th>\n",
       "      <th></th>\n",
       "      <th></th>\n",
       "      <th></th>\n",
       "      <th></th>\n",
       "      <th></th>\n",
       "      <th></th>\n",
       "      <th></th>\n",
       "      <th></th>\n",
       "      <th></th>\n",
       "      <th></th>\n",
       "      <th></th>\n",
       "      <th></th>\n",
       "      <th></th>\n",
       "    </tr>\n",
       "  </thead>\n",
       "  <tbody>\n",
       "    <tr>\n",
       "      <th>42060215</th>\n",
       "      <td>83</td>\n",
       "      <td>42060215</td>\n",
       "      <td>NaN</td>\n",
       "      <td>NaN</td>\n",
       "      <td>NaN</td>\n",
       "      <td>NaN</td>\n",
       "      <td>NaN</td>\n",
       "      <td>NaN</td>\n",
       "      <td>NaN</td>\n",
       "      <td>NaN</td>\n",
       "      <td>...</td>\n",
       "      <td>0.0</td>\n",
       "      <td>0.0</td>\n",
       "      <td>1.0</td>\n",
       "      <td>0.0</td>\n",
       "      <td>0.0</td>\n",
       "      <td>0.0</td>\n",
       "      <td>232.0</td>\n",
       "      <td>258.0</td>\n",
       "      <td>2017-07-09</td>\n",
       "      <td>FZ3R0</td>\n",
       "    </tr>\n",
       "    <tr>\n",
       "      <th>19761072</th>\n",
       "      <td>84</td>\n",
       "      <td>19761072</td>\n",
       "      <td>0.0</td>\n",
       "      <td>0.0</td>\n",
       "      <td>0.0</td>\n",
       "      <td>5.0</td>\n",
       "      <td>1.0</td>\n",
       "      <td>0.0</td>\n",
       "      <td>0.0</td>\n",
       "      <td>0.0</td>\n",
       "      <td>...</td>\n",
       "      <td>NaN</td>\n",
       "      <td>NaN</td>\n",
       "      <td>NaN</td>\n",
       "      <td>0.0</td>\n",
       "      <td>0.0</td>\n",
       "      <td>0.0</td>\n",
       "      <td>177.0</td>\n",
       "      <td>203.0</td>\n",
       "      <td>2017-07-09</td>\n",
       "      <td>Xmithie</td>\n",
       "    </tr>\n",
       "    <tr>\n",
       "      <th>19199530</th>\n",
       "      <td>85</td>\n",
       "      <td>19199530</td>\n",
       "      <td>NaN</td>\n",
       "      <td>NaN</td>\n",
       "      <td>NaN</td>\n",
       "      <td>NaN</td>\n",
       "      <td>NaN</td>\n",
       "      <td>NaN</td>\n",
       "      <td>NaN</td>\n",
       "      <td>NaN</td>\n",
       "      <td>...</td>\n",
       "      <td>NaN</td>\n",
       "      <td>NaN</td>\n",
       "      <td>NaN</td>\n",
       "      <td>0.0</td>\n",
       "      <td>0.0</td>\n",
       "      <td>0.0</td>\n",
       "      <td>548.0</td>\n",
       "      <td>572.0</td>\n",
       "      <td>2017-07-09</td>\n",
       "      <td>Xpecial</td>\n",
       "    </tr>\n",
       "    <tr>\n",
       "      <th>44989320</th>\n",
       "      <td>86</td>\n",
       "      <td>44989320</td>\n",
       "      <td>NaN</td>\n",
       "      <td>NaN</td>\n",
       "      <td>NaN</td>\n",
       "      <td>NaN</td>\n",
       "      <td>NaN</td>\n",
       "      <td>NaN</td>\n",
       "      <td>NaN</td>\n",
       "      <td>NaN</td>\n",
       "      <td>...</td>\n",
       "      <td>NaN</td>\n",
       "      <td>NaN</td>\n",
       "      <td>NaN</td>\n",
       "      <td>0.0</td>\n",
       "      <td>0.0</td>\n",
       "      <td>0.0</td>\n",
       "      <td>15.0</td>\n",
       "      <td>14.0</td>\n",
       "      <td>2017-07-09</td>\n",
       "      <td>Only Sometimes</td>\n",
       "    </tr>\n",
       "    <tr>\n",
       "      <th>19787999</th>\n",
       "      <td>87</td>\n",
       "      <td>19787999</td>\n",
       "      <td>NaN</td>\n",
       "      <td>NaN</td>\n",
       "      <td>NaN</td>\n",
       "      <td>NaN</td>\n",
       "      <td>NaN</td>\n",
       "      <td>NaN</td>\n",
       "      <td>NaN</td>\n",
       "      <td>NaN</td>\n",
       "      <td>...</td>\n",
       "      <td>NaN</td>\n",
       "      <td>NaN</td>\n",
       "      <td>NaN</td>\n",
       "      <td>0.0</td>\n",
       "      <td>0.0</td>\n",
       "      <td>0.0</td>\n",
       "      <td>119.0</td>\n",
       "      <td>161.0</td>\n",
       "      <td>2017-07-09</td>\n",
       "      <td>Winnable</td>\n",
       "    </tr>\n",
       "  </tbody>\n",
       "</table>\n",
       "<p>5 rows × 689 columns</p>\n",
       "</div>"
      ],
      "text/plain": [
       "          Unnamed: 0 Unnamed: 0.1  101A  101D  101K  101L  101W  102A  102D  \\\n",
       "summoner                                                                      \n",
       "42060215          83     42060215   NaN   NaN   NaN   NaN   NaN   NaN   NaN   \n",
       "19761072          84     19761072   0.0   0.0   0.0   5.0   1.0   0.0   0.0   \n",
       "19199530          85     19199530   NaN   NaN   NaN   NaN   NaN   NaN   NaN   \n",
       "44989320          86     44989320   NaN   NaN   NaN   NaN   NaN   NaN   NaN   \n",
       "19787999          87     19787999   NaN   NaN   NaN   NaN   NaN   NaN   NaN   \n",
       "\n",
       "          102K       ...         9K   9L   9W  AllA  AllD  AllK   AllL   AllW  \\\n",
       "summoner             ...                                                        \n",
       "42060215   NaN       ...        0.0  0.0  1.0   0.0   0.0   0.0  232.0  258.0   \n",
       "19761072   0.0       ...        NaN  NaN  NaN   0.0   0.0   0.0  177.0  203.0   \n",
       "19199530   NaN       ...        NaN  NaN  NaN   0.0   0.0   0.0  548.0  572.0   \n",
       "44989320   NaN       ...        NaN  NaN  NaN   0.0   0.0   0.0   15.0   14.0   \n",
       "19787999   NaN       ...        NaN  NaN  NaN   0.0   0.0   0.0  119.0  161.0   \n",
       "\n",
       "                date    summonername  \n",
       "summoner                              \n",
       "42060215  2017-07-09           FZ3R0  \n",
       "19761072  2017-07-09         Xmithie  \n",
       "19199530  2017-07-09         Xpecial  \n",
       "44989320  2017-07-09  Only Sometimes  \n",
       "19787999  2017-07-09        Winnable  \n",
       "\n",
       "[5 rows x 689 columns]"
      ]
     },
     "execution_count": 235,
     "metadata": {},
     "output_type": "execute_result"
    }
   ],
   "source": [
    "summonersdf.tail()"
   ]
  },
  {
   "cell_type": "code",
   "execution_count": 236,
   "metadata": {},
   "outputs": [
    {
     "data": {
      "text/html": [
       "<div>\n",
       "<style>\n",
       "    .dataframe thead tr:only-child th {\n",
       "        text-align: right;\n",
       "    }\n",
       "\n",
       "    .dataframe thead th {\n",
       "        text-align: left;\n",
       "    }\n",
       "\n",
       "    .dataframe tbody tr th {\n",
       "        vertical-align: top;\n",
       "    }\n",
       "</style>\n",
       "<table border=\"1\" class=\"dataframe\">\n",
       "  <thead>\n",
       "    <tr style=\"text-align: right;\">\n",
       "      <th></th>\n",
       "      <th>iterindex</th>\n",
       "      <th>pro handle</th>\n",
       "      <th>summoner name</th>\n",
       "    </tr>\n",
       "    <tr>\n",
       "      <th>summoner_id</th>\n",
       "      <th></th>\n",
       "      <th></th>\n",
       "      <th></th>\n",
       "    </tr>\n",
       "  </thead>\n",
       "  <tbody>\n",
       "    <tr>\n",
       "      <th>42060215</th>\n",
       "      <td>82</td>\n",
       "      <td>WildTurtle</td>\n",
       "      <td>FZ3R0</td>\n",
       "    </tr>\n",
       "    <tr>\n",
       "      <th>19761072</th>\n",
       "      <td>83</td>\n",
       "      <td>Xmithie</td>\n",
       "      <td>Xmithie</td>\n",
       "    </tr>\n",
       "    <tr>\n",
       "      <th>19199530</th>\n",
       "      <td>84</td>\n",
       "      <td>Xpecial</td>\n",
       "      <td>Xpecial</td>\n",
       "    </tr>\n",
       "    <tr>\n",
       "      <th>44989320</th>\n",
       "      <td>85</td>\n",
       "      <td>Xpecial</td>\n",
       "      <td>Only Sometimes</td>\n",
       "    </tr>\n",
       "    <tr>\n",
       "      <th>19787999</th>\n",
       "      <td>86</td>\n",
       "      <td>zig</td>\n",
       "      <td>Winnable</td>\n",
       "    </tr>\n",
       "  </tbody>\n",
       "</table>\n",
       "</div>"
      ],
      "text/plain": [
       "             iterindex  pro handle   summoner name\n",
       "summoner_id                                       \n",
       "42060215            82  WildTurtle           FZ3R0\n",
       "19761072            83     Xmithie         Xmithie\n",
       "19199530            84     Xpecial         Xpecial\n",
       "44989320            85     Xpecial  Only Sometimes\n",
       "19787999            86         zig        Winnable"
      ]
     },
     "execution_count": 236,
     "metadata": {},
     "output_type": "execute_result"
    }
   ],
   "source": [
    "summoners_to_scrape.tail()"
   ]
  },
  {
   "cell_type": "code",
   "execution_count": 150,
   "metadata": {},
   "outputs": [
    {
     "data": {
      "text/plain": [
       "(88, 688)"
      ]
     },
     "execution_count": 150,
     "metadata": {},
     "output_type": "execute_result"
    }
   ],
   "source": [
    "summonersdf.shape"
   ]
  },
  {
   "cell_type": "code",
   "execution_count": null,
   "metadata": {
    "collapsed": true
   },
   "outputs": [],
   "source": [
    "\n"
   ]
  },
  {
   "cell_type": "code",
   "execution_count": null,
   "metadata": {
    "collapsed": true
   },
   "outputs": [],
   "source": []
  }
 ],
 "metadata": {
  "kernelspec": {
   "display_name": "Python 3",
   "language": "python",
   "name": "python3"
  },
  "language_info": {
   "codemirror_mode": {
    "name": "ipython",
    "version": 3
   },
   "file_extension": ".py",
   "mimetype": "text/x-python",
   "name": "python",
   "nbconvert_exporter": "python",
   "pygments_lexer": "ipython3",
   "version": "3.6.1"
  }
 },
 "nbformat": 4,
 "nbformat_minor": 2
}
