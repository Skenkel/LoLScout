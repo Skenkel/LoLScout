{
 "cells": [
  {
   "cell_type": "markdown",
   "metadata": {},
   "source": [
    "Use webscraping with na.op.gg or a similar site to find a players \"champion skill\" features at the time a match is played. \n",
    "outputs this to a csv file. "
   ]
  },
  {
   "cell_type": "code",
   "execution_count": 145,
   "metadata": {
    "collapsed": true
   },
   "outputs": [],
   "source": [
    "import cassiopeia as cs\n",
    "import pandas as pd\n",
    "\n",
    "import random\n",
    "\n",
    "from cassiopeia import riotapi\n",
    "import time as t\n",
    "todaysdate = t.strftime('%Y-%m-%d')\n"
   ]
  },
  {
   "cell_type": "code",
   "execution_count": 2,
   "metadata": {},
   "outputs": [
    {
     "name": "stdout",
     "output_type": "stream",
     "text": [
      "riot api?RGAPI-a4df6fb2-f7bf-4c5c-a147-c7c74abf60b9\n"
     ]
    }
   ],
   "source": [
    "riotkey= input('riot api?')"
   ]
  },
  {
   "cell_type": "code",
   "execution_count": 3,
   "metadata": {
    "collapsed": true
   },
   "outputs": [],
   "source": [
    "riotapi.set_region(\"NA\")\n",
    "riotapi.set_api_key(riotkey)"
   ]
  },
  {
   "cell_type": "code",
   "execution_count": 4,
   "metadata": {
    "collapsed": true
   },
   "outputs": [],
   "source": [
    "summoners_to_scrape = pd.read_csv('summoner_ids.csv')\n"
   ]
  },
  {
   "cell_type": "code",
   "execution_count": 5,
   "metadata": {},
   "outputs": [],
   "source": []
  },
  {
   "cell_type": "code",
   "execution_count": 6,
   "metadata": {},
   "outputs": [],
   "source": []
  },
  {
   "cell_type": "code",
   "execution_count": 7,
   "metadata": {},
   "outputs": [],
   "source": []
  },
  {
   "cell_type": "code",
   "execution_count": 8,
   "metadata": {
    "collapsed": true
   },
   "outputs": [],
   "source": []
  },
  {
   "cell_type": "code",
   "execution_count": 9,
   "metadata": {},
   "outputs": [],
   "source": [
    "\n"
   ]
  },
  {
   "cell_type": "code",
   "execution_count": 10,
   "metadata": {},
   "outputs": [],
   "source": []
  },
  {
   "cell_type": "code",
   "execution_count": 11,
   "metadata": {},
   "outputs": [],
   "source": []
  },
  {
   "cell_type": "code",
   "execution_count": 12,
   "metadata": {},
   "outputs": [],
   "source": []
  },
  {
   "cell_type": "code",
   "execution_count": 13,
   "metadata": {},
   "outputs": [],
   "source": []
  },
  {
   "cell_type": "code",
   "execution_count": 14,
   "metadata": {},
   "outputs": [],
   "source": []
  },
  {
   "cell_type": "code",
   "execution_count": 15,
   "metadata": {},
   "outputs": [],
   "source": []
  },
  {
   "cell_type": "code",
   "execution_count": 16,
   "metadata": {},
   "outputs": [],
   "source": []
  },
  {
   "cell_type": "code",
   "execution_count": 17,
   "metadata": {},
   "outputs": [],
   "source": []
  },
  {
   "cell_type": "code",
   "execution_count": 18,
   "metadata": {},
   "outputs": [],
   "source": []
  },
  {
   "cell_type": "code",
   "execution_count": 19,
   "metadata": {},
   "outputs": [],
   "source": []
  },
  {
   "cell_type": "code",
   "execution_count": 42,
   "metadata": {},
   "outputs": [],
   "source": [
    "# run this cell if you have a prior build. \n",
    "summonersdf = pd.read_csv('champskill.csv')"
   ]
  },
  {
   "cell_type": "code",
   "execution_count": 90,
   "metadata": {},
   "outputs": [
    {
     "name": "stdout",
     "output_type": "stream",
     "text": [
      "43\n"
     ]
    },
    {
     "data": {
      "text/plain": [
       "False"
      ]
     },
     "execution_count": 90,
     "metadata": {},
     "output_type": "execute_result"
    }
   ],
   "source": [
    "# only run this cell if you don't have a data frame\n",
    "#summonerslist = [{'summoner':0 , 'summonername': 'tryndjk'}]\n",
    "#summonersdf = pd.DataFrame(summonerlist, index=['summoner'])"
   ]
  },
  {
   "cell_type": "code",
   "execution_count": 155,
   "metadata": {
    "scrolled": false
   },
   "outputs": [],
   "source": [
    "\n",
    "for num in range(summoners_to_scrape.shape[0]):\n",
    "    if summoners_to_scrape['summoner id'][num] in summonersdf.index.values:\n",
    "        break\n",
    "    summoner = riotapi.get_summoner_by_id(summoners_to_scrape['summoner id'][num])\n",
    "    sumstats = riotapi.get_ranked_stats(summoner)\n",
    "    rankedchampsnum = len(list(sumstats.keys()))\n",
    "\n",
    "    summonerstatdict = {'summoner':summoner.id , 'summonername': summoner.name, 'date': todaysdate}\n",
    "    print('gathering stats on summoner'+summoner.name)\n",
    "    for champnum in range(rankedchampsnum):\n",
    "        if list(sumstats.keys())[champnum] is None:\n",
    "            champdata = sumstats[list(sumstats.keys())[champnum]].data\n",
    "            summonerstatdict['AllK'] = champdata.averageChampionsKilled\n",
    "            summonerstatdict['AllD'] = champdata.averageNumDeaths\n",
    "            summonerstatdict['AllA'] = champdata.averageAssists\n",
    "            summonerstatdict['AllW'] = champdata.totalSessionsWon\n",
    "            summonerstatdict['AllL'] = champdata.totalSessionsLost\n",
    "        else:\n",
    "            champdata = sumstats[list(sumstats.keys())[champnum]].data\n",
    "            #print(champnum)\n",
    "            champstr = str(list(sumstats.keys())[champnum].id)\n",
    "            #print(champstr)\n",
    "            summonerstatdict[champstr+'K'] = champdata.averageChampionsKilled\n",
    "            summonerstatdict[champstr+'D'] = champdata.averageNumDeaths\n",
    "            summonerstatdict[champstr+'A'] = champdata.averageAssists\n",
    "            summonerstatdict[champstr+'W'] = champdata.totalSessionsWon\n",
    "            summonerstatdict[champstr+'L'] = champdata.totalSessionsLost\n",
    "    summonerdf = pd.DataFrame([summonerstatdict], index=[summoner.id])\n",
    "    # we have a dataframe that represents a single summoner's skill. \n",
    "    \n",
    "    #we concatenate the current list of summoners and skills with ourselves.     \n",
    "    summonersdf = pd.concat([summonersdf, summonerdf])\n",
    "#we exit the loop before we write the csv\n",
    "summonersdf.to_csv('champskill.csv')\n",
    "                          \n",
    "    \n",
    "    \n",
    "    "
   ]
  },
  {
   "cell_type": "code",
   "execution_count": 152,
   "metadata": {},
   "outputs": [
    {
     "data": {
      "text/plain": [
       "(88, 688)"
      ]
     },
     "execution_count": 152,
     "metadata": {},
     "output_type": "execute_result"
    }
   ],
   "source": [
    "summonersdf.shape\n"
   ]
  },
  {
   "cell_type": "code",
   "execution_count": 153,
   "metadata": {},
   "outputs": [],
   "source": [
    "summonertest = riotapi.get_summoner_by_id"
   ]
  },
  {
   "cell_type": "code",
   "execution_count": 154,
   "metadata": {},
   "outputs": [
    {
     "data": {
      "text/html": [
       "<div>\n",
       "<style>\n",
       "    .dataframe thead tr:only-child th {\n",
       "        text-align: right;\n",
       "    }\n",
       "\n",
       "    .dataframe thead th {\n",
       "        text-align: left;\n",
       "    }\n",
       "\n",
       "    .dataframe tbody tr th {\n",
       "        vertical-align: top;\n",
       "    }\n",
       "</style>\n",
       "<table border=\"1\" class=\"dataframe\">\n",
       "  <thead>\n",
       "    <tr style=\"text-align: right;\">\n",
       "      <th></th>\n",
       "      <th>Unnamed: 0</th>\n",
       "      <th>pro handle</th>\n",
       "      <th>summoner name</th>\n",
       "      <th>summoner id</th>\n",
       "    </tr>\n",
       "  </thead>\n",
       "  <tbody>\n",
       "    <tr>\n",
       "      <th>0</th>\n",
       "      <td>0</td>\n",
       "      <td>chaser</td>\n",
       "      <td>Chasér</td>\n",
       "      <td>83089576</td>\n",
       "    </tr>\n",
       "    <tr>\n",
       "      <th>1</th>\n",
       "      <td>1</td>\n",
       "      <td>pobelter</td>\n",
       "      <td>Pobelter</td>\n",
       "      <td>2648</td>\n",
       "    </tr>\n",
       "    <tr>\n",
       "      <th>2</th>\n",
       "      <td>2</td>\n",
       "      <td>pobelter</td>\n",
       "      <td>Hero Kenzan</td>\n",
       "      <td>51409228</td>\n",
       "    </tr>\n",
       "    <tr>\n",
       "      <th>3</th>\n",
       "      <td>3</td>\n",
       "      <td>Ray</td>\n",
       "      <td>C9 Ray</td>\n",
       "      <td>77179274</td>\n",
       "    </tr>\n",
       "    <tr>\n",
       "      <th>4</th>\n",
       "      <td>4</td>\n",
       "      <td>Ray</td>\n",
       "      <td>C9 Sword</td>\n",
       "      <td>77799096</td>\n",
       "    </tr>\n",
       "  </tbody>\n",
       "</table>\n",
       "</div>"
      ],
      "text/plain": [
       "   Unnamed: 0 pro handle summoner name  summoner id\n",
       "0           0     chaser        Chasér     83089576\n",
       "1           1   pobelter      Pobelter         2648\n",
       "2           2   pobelter   Hero Kenzan     51409228\n",
       "3           3        Ray        C9 Ray     77179274\n",
       "4           4        Ray      C9 Sword     77799096"
      ]
     },
     "execution_count": 154,
     "metadata": {},
     "output_type": "execute_result"
    }
   ],
   "source": [
    "summoners_to_scrape.head()"
   ]
  },
  {
   "cell_type": "code",
   "execution_count": null,
   "metadata": {
    "collapsed": true
   },
   "outputs": [],
   "source": [
    "# now to write some code so I don't scrape someone I've allready scraped. "
   ]
  },
  {
   "cell_type": "code",
   "execution_count": 150,
   "metadata": {},
   "outputs": [
    {
     "data": {
      "text/plain": [
       "(88, 688)"
      ]
     },
     "execution_count": 150,
     "metadata": {},
     "output_type": "execute_result"
    }
   ],
   "source": [
    "summonersdf.shape"
   ]
  },
  {
   "cell_type": "code",
   "execution_count": null,
   "metadata": {},
   "outputs": [],
   "source": [
    "\n"
   ]
  },
  {
   "cell_type": "code",
   "execution_count": null,
   "metadata": {},
   "outputs": [],
   "source": []
  }
 ],
 "metadata": {
  "kernelspec": {
   "display_name": "Python 3",
   "language": "python",
   "name": "python3"
  },
  "language_info": {
   "codemirror_mode": {
    "name": "ipython",
    "version": 3
   },
   "file_extension": ".py",
   "mimetype": "text/x-python",
   "name": "python",
   "nbconvert_exporter": "python",
   "pygments_lexer": "ipython3",
   "version": "3.6.1"
  }
 },
 "nbformat": 4,
 "nbformat_minor": 2
}
