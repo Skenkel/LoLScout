{
 "cells": [
  {
   "cell_type": "code",
   "execution_count": 1,
   "metadata": {},
   "outputs": [
    {
     "name": "stdout",
     "output_type": "stream",
     "text": [
      "champion.gg api key?2e3a009c22211c85532e9a07ceeda4c6\n"
     ]
    }
   ],
   "source": [
    "import py_gg\n",
    "#py_gg works for specific champion information, but there's a bug in it's handling of the.champions.all method. \n",
    "champ_api_key =input('champion.gg api key?')"
   ]
  },
  {
   "cell_type": "code",
   "execution_count": 18,
   "metadata": {
    "collapsed": true
   },
   "outputs": [],
   "source": [
    "py_gg.init(champ_api_key)"
   ]
  },
  {
   "cell_type": "code",
   "execution_count": 19,
   "metadata": {
    "collapsed": true
   },
   "outputs": [],
   "source": [
    "import pandas as pd"
   ]
  },
  {
   "cell_type": "code",
   "execution_count": null,
   "metadata": {
    "collapsed": true
   },
   "outputs": [],
   "source": []
  },
  {
   "cell_type": "code",
   "execution_count": 20,
   "metadata": {
    "collapsed": true
   },
   "outputs": [],
   "source": [
    "import requests\n",
    "apicall= 'http://api.champion.gg/v2/champions?champData=kda,overallPerformanceScore&limit=200&api_key='+champ_api_key\n",
    "champs = requests.get(apicall)\n"
   ]
  },
  {
   "cell_type": "code",
   "execution_count": 21,
   "metadata": {},
   "outputs": [
    {
     "name": "stdout",
     "output_type": "stream",
     "text": [
      "190\n"
     ]
    }
   ],
   "source": [
    "print(len(champs.json()))\n",
    "# We can use len to figure out how many champions there are. \n",
    "champiter = len(champs.json())"
   ]
  },
  {
   "cell_type": "code",
   "execution_count": 22,
   "metadata": {},
   "outputs": [
    {
     "name": "stdout",
     "output_type": "stream",
     "text": [
      "Empty DataFrame\n",
      "Columns: [Unnamed: 0, CHAMPID, CHAMPID_Role, DATE, Index, KDA, PATCH, PLAYRATE, RANK, ROLE, WINRATE, unique]\n",
      "Index: []\n"
     ]
    }
   ],
   "source": [
    "champdf =pd.read_csv('championsstr.csv')\n",
    "print(champdf.head())"
   ]
  },
  {
   "cell_type": "code",
   "execution_count": 23,
   "metadata": {},
   "outputs": [],
   "source": [
    "import time as t\n",
    "todaysdate = t.strftime('%Y-%m-%d')\n",
    "\n",
    "\n"
   ]
  },
  {
   "cell_type": "code",
   "execution_count": 27,
   "metadata": {},
   "outputs": [],
   "source": [
    "for num in range(champiter):\n",
    "    kda = (champs.json()[num]['kills']+champs.json()[num]['assists'])/(champs.json()[num]['deaths'])\n",
    "    indexval = champs.json()[num]['role']+str(champs.json()[num]['championId'])+todaysdate\n",
    "    if indexval in champdf['indexval'].values:\n",
    "        break\n",
    "    single_champion_list= [{'K':champs.json()[num]['kills'], 'D':champs.json()[num]['deaths'], 'A':champs.json()[num]['assists'],  'CHAMPID_Role':str(champs.json()[num]['championId'])+champs.json()[num]['role'],'CHAMPID':str(champs.json()[num]['championId']),  'ROLE':champs.json()[num]['role'],'PATCH':champs.json()[num]['patch'],'WINRATE':champs.json()[num]['winRate'],'PLAYRATE':champs.json()[num]['playRate'],'RANK':champs.json()[num]['overallPerformanceScore'],'DATE':todaysdate, 'KDA': kda, 'indexval':indexval }]\n",
    "    single_champion_dataframe = pd.DataFrame(single_champion_list)\n",
    "    print(single_champion_dataframe.head())\n",
    "    champdf= pd.concat([champdf,single_champion_dataframe])"
   ]
  },
  {
   "cell_type": "code",
   "execution_count": 28,
   "metadata": {},
   "outputs": [
    {
     "data": {
      "text/plain": [
       "(190, 16)"
      ]
     },
     "execution_count": 28,
     "metadata": {},
     "output_type": "execute_result"
    }
   ],
   "source": [
    "champdf.shape"
   ]
  },
  {
   "cell_type": "code",
   "execution_count": 29,
   "metadata": {},
   "outputs": [],
   "source": [
    "champdf.to_csv('championsstr.csv')"
   ]
  },
  {
   "cell_type": "code",
   "execution_count": null,
   "metadata": {
    "collapsed": true
   },
   "outputs": [],
   "source": []
  },
  {
   "cell_type": "code",
   "execution_count": null,
   "metadata": {},
   "outputs": [],
   "source": []
  }
 ],
 "metadata": {
  "kernelspec": {
   "display_name": "Python 3",
   "language": "python",
   "name": "python3"
  },
  "language_info": {
   "codemirror_mode": {
    "name": "ipython",
    "version": 3
   },
   "file_extension": ".py",
   "mimetype": "text/x-python",
   "name": "python",
   "nbconvert_exporter": "python",
   "pygments_lexer": "ipython3",
   "version": "3.6.1"
  }
 },
 "nbformat": 4,
 "nbformat_minor": 2
}
