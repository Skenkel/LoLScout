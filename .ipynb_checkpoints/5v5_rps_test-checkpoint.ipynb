{
 "cells": [
  {
   "cell_type": "code",
   "execution_count": null,
   "metadata": {
    "collapsed": true
   },
   "outputs": [],
   "source": [
    "import pandas as pd\n",
    "import numpy as np"
   ]
  },
  {
   "cell_type": "code",
   "execution_count": null,
   "metadata": {},
   "outputs": [],
   "source": [
    "from keras import backend as K\n",
    "from keras.layers import Input, Embedding, merge"
   ]
  },
  {
   "cell_type": "code",
   "execution_count": null,
   "metadata": {
    "collapsed": true
   },
   "outputs": [],
   "source": [
    "from keras.regularizers import l2, l1\n",
    "from keras.layers.core import Flatten, Dense, Dropout, Lambda\n",
    "from keras.models import Sequential, Model\n",
    "from keras.optimizers import SGD, RMSprop, Adam"
   ]
  },
  {
   "cell_type": "code",
   "execution_count": null,
   "metadata": {
    "collapsed": true
   },
   "outputs": [],
   "source": []
  },
  {
   "cell_type": "code",
   "execution_count": 4,
   "metadata": {
    "collapsed": true
   },
   "outputs": [],
   "source": [
    "matches = pd.read_csv('matches.csv')"
   ]
  },
  {
   "cell_type": "code",
   "execution_count": 5,
   "metadata": {},
   "outputs": [
    {
     "data": {
      "text/plain": [
       "(87448, 56)"
      ]
     },
     "execution_count": 5,
     "metadata": {},
     "output_type": "execute_result"
    }
   ],
   "source": [
    "matches.shape"
   ]
  },
  {
   "cell_type": "code",
   "execution_count": 6,
   "metadata": {},
   "outputs": [
    {
     "data": {
      "text/plain": [
       "6.23.166.2676    69976\n",
       "6.22.165.9605     3083\n",
       "7.13.192.6794     2280\n",
       "7.12.190.9002     1397\n",
       "7.10.187.9675     1298\n",
       "6.24.169.4424      985\n",
       "7.11.189.942       969\n",
       "7.9.186.8155       922\n",
       "7.5.178.6844       907\n",
       "7.2.174.829        834\n",
       "7.6.181.2079       795\n",
       "7.8.184.113        734\n",
       "7.3.175.271        716\n",
       "7.7.182.1428       522\n",
       "7.1.172.6393       400\n",
       "7.4.176.9828       344\n",
       "7.7.183.8394       305\n",
       "7.4.178.5050       276\n",
       "7.1.171.6847       273\n",
       "6.24.168.1268      148\n",
       "7.9.186.1051       141\n",
       "7.6.180.6903        73\n",
       "7.2.173.3544        65\n",
       "6.1.0.484            5\n",
       "Name: patch_version, dtype: int64"
      ]
     },
     "execution_count": 6,
     "metadata": {},
     "output_type": "execute_result"
    }
   ],
   "source": [
    "matches['patch_version'].value_counts()"
   ]
  },
  {
   "cell_type": "markdown",
   "metadata": {},
   "source": [
    "Despite my best effors, I have a larqe quantity of 6.23 matches. "
   ]
  },
  {
   "cell_type": "code",
   "execution_count": 13,
   "metadata": {},
   "outputs": [],
   "source": [
    "#matches_s6 = matches[matches['patch_version']=='6.23.166.2676']\n",
    "#matches_s713= matches[matches['patch_version']=='7.13.192.6794']\n",
    "#matches_s712= matches[matches['patch_version']=='7.12.190.9002']"
   ]
  },
  {
   "cell_type": "code",
   "execution_count": 79,
   "metadata": {
    "collapsed": true
   },
   "outputs": [],
   "source": [
    "matches_s6 = matches\n"
   ]
  },
  {
   "cell_type": "code",
   "execution_count": null,
   "metadata": {
    "collapsed": true
   },
   "outputs": [],
   "source": []
  },
  {
   "cell_type": "code",
   "execution_count": null,
   "metadata": {},
   "outputs": [],
   "source": []
  },
  {
   "cell_type": "markdown",
   "metadata": {},
   "source": [
    "The simplest way to look at this is a simple 5 v 5 test, ignoring player roles, lanes, or anything else. \n",
    "Let's do that."
   ]
  },
  {
   "cell_type": "code",
   "execution_count": 80,
   "metadata": {
    "collapsed": true
   },
   "outputs": [],
   "source": [
    "# we set up a list of the traits we need\n",
    "simplerpsl = ['team1_win', 'team2_win','player10champid','player9champid','player8champid','player7champid','player6champid','player5champid','player4champid','player3champid','player2champid','player1champid']\n",
    "# and we can set up our y"
   ]
  },
  {
   "cell_type": "code",
   "execution_count": 81,
   "metadata": {
    "collapsed": true
   },
   "outputs": [],
   "source": [
    "#simple_rps_data= matches_s712[simplerpsl]\n",
    "simple_rps_data= matches_s6[simplerpsl]"
   ]
  },
  {
   "cell_type": "code",
   "execution_count": null,
   "metadata": {
    "collapsed": true
   },
   "outputs": [],
   "source": []
  },
  {
   "cell_type": "code",
   "execution_count": 82,
   "metadata": {},
   "outputs": [
    {
     "name": "stderr",
     "output_type": "stream",
     "text": [
      "/usr/local/lib/python3.5/dist-packages/ipykernel_launcher.py:1: SettingWithCopyWarning: \n",
      "A value is trying to be set on a copy of a slice from a DataFrame.\n",
      "Try using .loc[row_indexer,col_indexer] = value instead\n",
      "\n",
      "See the caveats in the documentation: http://pandas.pydata.org/pandas-docs/stable/indexing.html#indexing-view-versus-copy\n",
      "  \"\"\"Entry point for launching an IPython kernel.\n",
      "/usr/local/lib/python3.5/dist-packages/ipykernel_launcher.py:2: SettingWithCopyWarning: \n",
      "A value is trying to be set on a copy of a slice from a DataFrame.\n",
      "Try using .loc[row_indexer,col_indexer] = value instead\n",
      "\n",
      "See the caveats in the documentation: http://pandas.pydata.org/pandas-docs/stable/indexing.html#indexing-view-versus-copy\n",
      "  \n"
     ]
    },
    {
     "data": {
      "text/html": [
       "<div>\n",
       "<style>\n",
       "    .dataframe thead tr:only-child th {\n",
       "        text-align: right;\n",
       "    }\n",
       "\n",
       "    .dataframe thead th {\n",
       "        text-align: left;\n",
       "    }\n",
       "\n",
       "    .dataframe tbody tr th {\n",
       "        vertical-align: top;\n",
       "    }\n",
       "</style>\n",
       "<table border=\"1\" class=\"dataframe\">\n",
       "  <thead>\n",
       "    <tr style=\"text-align: right;\">\n",
       "      <th></th>\n",
       "      <th>team1_win</th>\n",
       "      <th>team2_win</th>\n",
       "      <th>player10champid</th>\n",
       "      <th>player9champid</th>\n",
       "      <th>player8champid</th>\n",
       "      <th>player7champid</th>\n",
       "      <th>player6champid</th>\n",
       "      <th>player5champid</th>\n",
       "      <th>player4champid</th>\n",
       "      <th>player3champid</th>\n",
       "      <th>player2champid</th>\n",
       "      <th>player1champid</th>\n",
       "      <th>team1</th>\n",
       "      <th>team2</th>\n",
       "    </tr>\n",
       "  </thead>\n",
       "  <tbody>\n",
       "    <tr>\n",
       "      <th>0</th>\n",
       "      <td>True</td>\n",
       "      <td>False</td>\n",
       "      <td>4.0</td>\n",
       "      <td>114.0</td>\n",
       "      <td>40.0</td>\n",
       "      <td>236.0</td>\n",
       "      <td>64.0</td>\n",
       "      <td>42.0</td>\n",
       "      <td>245.0</td>\n",
       "      <td>412.0</td>\n",
       "      <td>34.0</td>\n",
       "      <td>13.0</td>\n",
       "      <td>1</td>\n",
       "      <td>0</td>\n",
       "    </tr>\n",
       "    <tr>\n",
       "      <th>1</th>\n",
       "      <td>False</td>\n",
       "      <td>True</td>\n",
       "      <td>41.0</td>\n",
       "      <td>134.0</td>\n",
       "      <td>42.0</td>\n",
       "      <td>25.0</td>\n",
       "      <td>421.0</td>\n",
       "      <td>429.0</td>\n",
       "      <td>111.0</td>\n",
       "      <td>24.0</td>\n",
       "      <td>74.0</td>\n",
       "      <td>36.0</td>\n",
       "      <td>0</td>\n",
       "      <td>1</td>\n",
       "    </tr>\n",
       "    <tr>\n",
       "      <th>2</th>\n",
       "      <td>False</td>\n",
       "      <td>True</td>\n",
       "      <td>40.0</td>\n",
       "      <td>76.0</td>\n",
       "      <td>24.0</td>\n",
       "      <td>117.0</td>\n",
       "      <td>236.0</td>\n",
       "      <td>17.0</td>\n",
       "      <td>98.0</td>\n",
       "      <td>25.0</td>\n",
       "      <td>13.0</td>\n",
       "      <td>203.0</td>\n",
       "      <td>0</td>\n",
       "      <td>1</td>\n",
       "    </tr>\n",
       "    <tr>\n",
       "      <th>3</th>\n",
       "      <td>False</td>\n",
       "      <td>True</td>\n",
       "      <td>40.0</td>\n",
       "      <td>27.0</td>\n",
       "      <td>4.0</td>\n",
       "      <td>421.0</td>\n",
       "      <td>236.0</td>\n",
       "      <td>12.0</td>\n",
       "      <td>203.0</td>\n",
       "      <td>67.0</td>\n",
       "      <td>81.0</td>\n",
       "      <td>432.0</td>\n",
       "      <td>0</td>\n",
       "      <td>1</td>\n",
       "    </tr>\n",
       "    <tr>\n",
       "      <th>4</th>\n",
       "      <td>False</td>\n",
       "      <td>True</td>\n",
       "      <td>42.0</td>\n",
       "      <td>114.0</td>\n",
       "      <td>203.0</td>\n",
       "      <td>40.0</td>\n",
       "      <td>81.0</td>\n",
       "      <td>12.0</td>\n",
       "      <td>98.0</td>\n",
       "      <td>7.0</td>\n",
       "      <td>236.0</td>\n",
       "      <td>76.0</td>\n",
       "      <td>0</td>\n",
       "      <td>1</td>\n",
       "    </tr>\n",
       "  </tbody>\n",
       "</table>\n",
       "</div>"
      ],
      "text/plain": [
       "   team1_win  team2_win  player10champid  player9champid  player8champid  \\\n",
       "0       True      False              4.0           114.0            40.0   \n",
       "1      False       True             41.0           134.0            42.0   \n",
       "2      False       True             40.0            76.0            24.0   \n",
       "3      False       True             40.0            27.0             4.0   \n",
       "4      False       True             42.0           114.0           203.0   \n",
       "\n",
       "   player7champid  player6champid  player5champid  player4champid  \\\n",
       "0           236.0            64.0            42.0           245.0   \n",
       "1            25.0           421.0           429.0           111.0   \n",
       "2           117.0           236.0            17.0            98.0   \n",
       "3           421.0           236.0            12.0           203.0   \n",
       "4            40.0            81.0            12.0            98.0   \n",
       "\n",
       "   player3champid  player2champid  player1champid  team1  team2  \n",
       "0           412.0            34.0            13.0      1      0  \n",
       "1            24.0            74.0            36.0      0      1  \n",
       "2            25.0            13.0           203.0      0      1  \n",
       "3            67.0            81.0           432.0      0      1  \n",
       "4             7.0           236.0            76.0      0      1  "
      ]
     },
     "execution_count": 82,
     "metadata": {},
     "output_type": "execute_result"
    }
   ],
   "source": [
    "simple_rps_data['team1']=simple_rps_data['team1_win'].astype('int')\n",
    "simple_rps_data['team2']=simple_rps_data['team2_win'].astype('int')\n",
    "simple_rps_data.head()"
   ]
  },
  {
   "cell_type": "code",
   "execution_count": 83,
   "metadata": {},
   "outputs": [
    {
     "data": {
      "text/html": [
       "<div>\n",
       "<style>\n",
       "    .dataframe thead tr:only-child th {\n",
       "        text-align: right;\n",
       "    }\n",
       "\n",
       "    .dataframe thead th {\n",
       "        text-align: left;\n",
       "    }\n",
       "\n",
       "    .dataframe tbody tr th {\n",
       "        vertical-align: top;\n",
       "    }\n",
       "</style>\n",
       "<table border=\"1\" class=\"dataframe\">\n",
       "  <thead>\n",
       "    <tr style=\"text-align: right;\">\n",
       "      <th></th>\n",
       "      <th>team1_win</th>\n",
       "      <th>team2_win</th>\n",
       "      <th>player10champid</th>\n",
       "      <th>player9champid</th>\n",
       "      <th>player8champid</th>\n",
       "      <th>player7champid</th>\n",
       "      <th>player6champid</th>\n",
       "      <th>player5champid</th>\n",
       "      <th>player4champid</th>\n",
       "      <th>player3champid</th>\n",
       "      <th>player2champid</th>\n",
       "      <th>player1champid</th>\n",
       "      <th>team1</th>\n",
       "      <th>team2</th>\n",
       "    </tr>\n",
       "  </thead>\n",
       "  <tbody>\n",
       "    <tr>\n",
       "      <th>0</th>\n",
       "      <td>True</td>\n",
       "      <td>False</td>\n",
       "      <td>4.0</td>\n",
       "      <td>114.0</td>\n",
       "      <td>40.0</td>\n",
       "      <td>236.0</td>\n",
       "      <td>64.0</td>\n",
       "      <td>42.0</td>\n",
       "      <td>245.0</td>\n",
       "      <td>412.0</td>\n",
       "      <td>34.0</td>\n",
       "      <td>13.0</td>\n",
       "      <td>1</td>\n",
       "      <td>0</td>\n",
       "    </tr>\n",
       "    <tr>\n",
       "      <th>1</th>\n",
       "      <td>False</td>\n",
       "      <td>True</td>\n",
       "      <td>41.0</td>\n",
       "      <td>134.0</td>\n",
       "      <td>42.0</td>\n",
       "      <td>25.0</td>\n",
       "      <td>421.0</td>\n",
       "      <td>429.0</td>\n",
       "      <td>111.0</td>\n",
       "      <td>24.0</td>\n",
       "      <td>74.0</td>\n",
       "      <td>36.0</td>\n",
       "      <td>0</td>\n",
       "      <td>1</td>\n",
       "    </tr>\n",
       "    <tr>\n",
       "      <th>2</th>\n",
       "      <td>False</td>\n",
       "      <td>True</td>\n",
       "      <td>40.0</td>\n",
       "      <td>76.0</td>\n",
       "      <td>24.0</td>\n",
       "      <td>117.0</td>\n",
       "      <td>236.0</td>\n",
       "      <td>17.0</td>\n",
       "      <td>98.0</td>\n",
       "      <td>25.0</td>\n",
       "      <td>13.0</td>\n",
       "      <td>203.0</td>\n",
       "      <td>0</td>\n",
       "      <td>1</td>\n",
       "    </tr>\n",
       "    <tr>\n",
       "      <th>3</th>\n",
       "      <td>False</td>\n",
       "      <td>True</td>\n",
       "      <td>40.0</td>\n",
       "      <td>27.0</td>\n",
       "      <td>4.0</td>\n",
       "      <td>421.0</td>\n",
       "      <td>236.0</td>\n",
       "      <td>12.0</td>\n",
       "      <td>203.0</td>\n",
       "      <td>67.0</td>\n",
       "      <td>81.0</td>\n",
       "      <td>432.0</td>\n",
       "      <td>0</td>\n",
       "      <td>1</td>\n",
       "    </tr>\n",
       "    <tr>\n",
       "      <th>4</th>\n",
       "      <td>False</td>\n",
       "      <td>True</td>\n",
       "      <td>42.0</td>\n",
       "      <td>114.0</td>\n",
       "      <td>203.0</td>\n",
       "      <td>40.0</td>\n",
       "      <td>81.0</td>\n",
       "      <td>12.0</td>\n",
       "      <td>98.0</td>\n",
       "      <td>7.0</td>\n",
       "      <td>236.0</td>\n",
       "      <td>76.0</td>\n",
       "      <td>0</td>\n",
       "      <td>1</td>\n",
       "    </tr>\n",
       "  </tbody>\n",
       "</table>\n",
       "</div>"
      ],
      "text/plain": [
       "   team1_win  team2_win  player10champid  player9champid  player8champid  \\\n",
       "0       True      False              4.0           114.0            40.0   \n",
       "1      False       True             41.0           134.0            42.0   \n",
       "2      False       True             40.0            76.0            24.0   \n",
       "3      False       True             40.0            27.0             4.0   \n",
       "4      False       True             42.0           114.0           203.0   \n",
       "\n",
       "   player7champid  player6champid  player5champid  player4champid  \\\n",
       "0           236.0            64.0            42.0           245.0   \n",
       "1            25.0           421.0           429.0           111.0   \n",
       "2           117.0           236.0            17.0            98.0   \n",
       "3           421.0           236.0            12.0           203.0   \n",
       "4            40.0            81.0            12.0            98.0   \n",
       "\n",
       "   player3champid  player2champid  player1champid  team1  team2  \n",
       "0           412.0            34.0            13.0      1      0  \n",
       "1            24.0            74.0            36.0      0      1  \n",
       "2            25.0            13.0           203.0      0      1  \n",
       "3            67.0            81.0           432.0      0      1  \n",
       "4             7.0           236.0            76.0      0      1  "
      ]
     },
     "execution_count": 83,
     "metadata": {},
     "output_type": "execute_result"
    }
   ],
   "source": [
    "simple_rps_data.head()"
   ]
  },
  {
   "cell_type": "code",
   "execution_count": 84,
   "metadata": {},
   "outputs": [],
   "source": [
    "champs = []\n",
    "for playernum in range(1,11):\n",
    "    playerstring= 'player'+str(playernum)+'champid'\n",
    "    champs = champs + list(simple_rps_data[playerstring].unique())\n"
   ]
  },
  {
   "cell_type": "code",
   "execution_count": 85,
   "metadata": {},
   "outputs": [],
   "source": [
    "champset = set(champs)\n",
    "champs = list(champset)"
   ]
  },
  {
   "cell_type": "code",
   "execution_count": 86,
   "metadata": {},
   "outputs": [],
   "source": [
    "champs2idx = {o:i for i,o in enumerate(champs)} # remove missing champions numbers and re-order"
   ]
  },
  {
   "cell_type": "code",
   "execution_count": null,
   "metadata": {
    "collapsed": true
   },
   "outputs": [],
   "source": []
  },
  {
   "cell_type": "code",
   "execution_count": 87,
   "metadata": {},
   "outputs": [
    {
     "name": "stderr",
     "output_type": "stream",
     "text": [
      "/usr/local/lib/python3.5/dist-packages/ipykernel_launcher.py:3: SettingWithCopyWarning: \n",
      "A value is trying to be set on a copy of a slice from a DataFrame.\n",
      "Try using .loc[row_indexer,col_indexer] = value instead\n",
      "\n",
      "See the caveats in the documentation: http://pandas.pydata.org/pandas-docs/stable/indexing.html#indexing-view-versus-copy\n",
      "  This is separate from the ipykernel package so we can avoid doing imports until\n"
     ]
    }
   ],
   "source": [
    "for playernum in range(1,11):\n",
    "    playerstring= 'player'+str(playernum)+'champid'\n",
    "    simple_rps_data[playerstring]=simple_rps_data[playerstring].apply(lambda x: champs2idx[x])"
   ]
  },
  {
   "cell_type": "code",
   "execution_count": 88,
   "metadata": {},
   "outputs": [
    {
     "data": {
      "text/html": [
       "<div>\n",
       "<style>\n",
       "    .dataframe thead tr:only-child th {\n",
       "        text-align: right;\n",
       "    }\n",
       "\n",
       "    .dataframe thead th {\n",
       "        text-align: left;\n",
       "    }\n",
       "\n",
       "    .dataframe tbody tr th {\n",
       "        vertical-align: top;\n",
       "    }\n",
       "</style>\n",
       "<table border=\"1\" class=\"dataframe\">\n",
       "  <thead>\n",
       "    <tr style=\"text-align: right;\">\n",
       "      <th></th>\n",
       "      <th>team1_win</th>\n",
       "      <th>team2_win</th>\n",
       "      <th>player10champid</th>\n",
       "      <th>player9champid</th>\n",
       "      <th>player8champid</th>\n",
       "      <th>player7champid</th>\n",
       "      <th>player6champid</th>\n",
       "      <th>player5champid</th>\n",
       "      <th>player4champid</th>\n",
       "      <th>player3champid</th>\n",
       "      <th>player2champid</th>\n",
       "      <th>player1champid</th>\n",
       "      <th>team1</th>\n",
       "      <th>team2</th>\n",
       "    </tr>\n",
       "  </thead>\n",
       "  <tbody>\n",
       "    <tr>\n",
       "      <th>0</th>\n",
       "      <td>True</td>\n",
       "      <td>False</td>\n",
       "      <td>3</td>\n",
       "      <td>95</td>\n",
       "      <td>39</td>\n",
       "      <td>120</td>\n",
       "      <td>59</td>\n",
       "      <td>41</td>\n",
       "      <td>123</td>\n",
       "      <td>128</td>\n",
       "      <td>33</td>\n",
       "      <td>12</td>\n",
       "      <td>1</td>\n",
       "      <td>0</td>\n",
       "    </tr>\n",
       "    <tr>\n",
       "      <th>1</th>\n",
       "      <td>False</td>\n",
       "      <td>True</td>\n",
       "      <td>40</td>\n",
       "      <td>106</td>\n",
       "      <td>41</td>\n",
       "      <td>24</td>\n",
       "      <td>130</td>\n",
       "      <td>132</td>\n",
       "      <td>92</td>\n",
       "      <td>23</td>\n",
       "      <td>64</td>\n",
       "      <td>35</td>\n",
       "      <td>0</td>\n",
       "      <td>1</td>\n",
       "    </tr>\n",
       "    <tr>\n",
       "      <th>2</th>\n",
       "      <td>False</td>\n",
       "      <td>True</td>\n",
       "      <td>39</td>\n",
       "      <td>66</td>\n",
       "      <td>23</td>\n",
       "      <td>97</td>\n",
       "      <td>120</td>\n",
       "      <td>16</td>\n",
       "      <td>82</td>\n",
       "      <td>24</td>\n",
       "      <td>12</td>\n",
       "      <td>117</td>\n",
       "      <td>0</td>\n",
       "      <td>1</td>\n",
       "    </tr>\n",
       "    <tr>\n",
       "      <th>3</th>\n",
       "      <td>False</td>\n",
       "      <td>True</td>\n",
       "      <td>39</td>\n",
       "      <td>26</td>\n",
       "      <td>3</td>\n",
       "      <td>130</td>\n",
       "      <td>120</td>\n",
       "      <td>11</td>\n",
       "      <td>117</td>\n",
       "      <td>60</td>\n",
       "      <td>71</td>\n",
       "      <td>133</td>\n",
       "      <td>0</td>\n",
       "      <td>1</td>\n",
       "    </tr>\n",
       "    <tr>\n",
       "      <th>4</th>\n",
       "      <td>False</td>\n",
       "      <td>True</td>\n",
       "      <td>41</td>\n",
       "      <td>95</td>\n",
       "      <td>117</td>\n",
       "      <td>39</td>\n",
       "      <td>71</td>\n",
       "      <td>11</td>\n",
       "      <td>82</td>\n",
       "      <td>6</td>\n",
       "      <td>120</td>\n",
       "      <td>66</td>\n",
       "      <td>0</td>\n",
       "      <td>1</td>\n",
       "    </tr>\n",
       "  </tbody>\n",
       "</table>\n",
       "</div>"
      ],
      "text/plain": [
       "   team1_win  team2_win  player10champid  player9champid  player8champid  \\\n",
       "0       True      False                3              95              39   \n",
       "1      False       True               40             106              41   \n",
       "2      False       True               39              66              23   \n",
       "3      False       True               39              26               3   \n",
       "4      False       True               41              95             117   \n",
       "\n",
       "   player7champid  player6champid  player5champid  player4champid  \\\n",
       "0             120              59              41             123   \n",
       "1              24             130             132              92   \n",
       "2              97             120              16              82   \n",
       "3             130             120              11             117   \n",
       "4              39              71              11              82   \n",
       "\n",
       "   player3champid  player2champid  player1champid  team1  team2  \n",
       "0             128              33              12      1      0  \n",
       "1              23              64              35      0      1  \n",
       "2              24              12             117      0      1  \n",
       "3              60              71             133      0      1  \n",
       "4               6             120              66      0      1  "
      ]
     },
     "execution_count": 88,
     "metadata": {},
     "output_type": "execute_result"
    }
   ],
   "source": [
    "simple_rps_data.head()"
   ]
  },
  {
   "cell_type": "code",
   "execution_count": 89,
   "metadata": {
    "collapsed": true
   },
   "outputs": [],
   "source": [
    "n_hidden_factors = 16"
   ]
  },
  {
   "cell_type": "code",
   "execution_count": null,
   "metadata": {
    "collapsed": true
   },
   "outputs": [],
   "source": []
  },
  {
   "cell_type": "code",
   "execution_count": null,
   "metadata": {},
   "outputs": [],
   "source": []
  },
  {
   "cell_type": "code",
   "execution_count": 90,
   "metadata": {},
   "outputs": [],
   "source": [
    "msk1 = np.random.rand(len(simple_rps_data)) < 0.8 #training vs test set ratio This is the same structure I use in my anime_rec engine\n",
    "trn1 = simple_rps_data[msk1]\n",
    "val1 = simple_rps_data[~msk1]"
   ]
  },
  {
   "cell_type": "code",
   "execution_count": 91,
   "metadata": {},
   "outputs": [
    {
     "data": {
      "text/html": [
       "<div>\n",
       "<style>\n",
       "    .dataframe thead tr:only-child th {\n",
       "        text-align: right;\n",
       "    }\n",
       "\n",
       "    .dataframe thead th {\n",
       "        text-align: left;\n",
       "    }\n",
       "\n",
       "    .dataframe tbody tr th {\n",
       "        vertical-align: top;\n",
       "    }\n",
       "</style>\n",
       "<table border=\"1\" class=\"dataframe\">\n",
       "  <thead>\n",
       "    <tr style=\"text-align: right;\">\n",
       "      <th></th>\n",
       "      <th>team1_win</th>\n",
       "      <th>team2_win</th>\n",
       "      <th>player10champid</th>\n",
       "      <th>player9champid</th>\n",
       "      <th>player8champid</th>\n",
       "      <th>player7champid</th>\n",
       "      <th>player6champid</th>\n",
       "      <th>player5champid</th>\n",
       "      <th>player4champid</th>\n",
       "      <th>player3champid</th>\n",
       "      <th>player2champid</th>\n",
       "      <th>player1champid</th>\n",
       "      <th>team1</th>\n",
       "      <th>team2</th>\n",
       "    </tr>\n",
       "  </thead>\n",
       "  <tbody>\n",
       "    <tr>\n",
       "      <th>0</th>\n",
       "      <td>True</td>\n",
       "      <td>False</td>\n",
       "      <td>3</td>\n",
       "      <td>95</td>\n",
       "      <td>39</td>\n",
       "      <td>120</td>\n",
       "      <td>59</td>\n",
       "      <td>41</td>\n",
       "      <td>123</td>\n",
       "      <td>128</td>\n",
       "      <td>33</td>\n",
       "      <td>12</td>\n",
       "      <td>1</td>\n",
       "      <td>0</td>\n",
       "    </tr>\n",
       "    <tr>\n",
       "      <th>1</th>\n",
       "      <td>False</td>\n",
       "      <td>True</td>\n",
       "      <td>40</td>\n",
       "      <td>106</td>\n",
       "      <td>41</td>\n",
       "      <td>24</td>\n",
       "      <td>130</td>\n",
       "      <td>132</td>\n",
       "      <td>92</td>\n",
       "      <td>23</td>\n",
       "      <td>64</td>\n",
       "      <td>35</td>\n",
       "      <td>0</td>\n",
       "      <td>1</td>\n",
       "    </tr>\n",
       "    <tr>\n",
       "      <th>2</th>\n",
       "      <td>False</td>\n",
       "      <td>True</td>\n",
       "      <td>39</td>\n",
       "      <td>66</td>\n",
       "      <td>23</td>\n",
       "      <td>97</td>\n",
       "      <td>120</td>\n",
       "      <td>16</td>\n",
       "      <td>82</td>\n",
       "      <td>24</td>\n",
       "      <td>12</td>\n",
       "      <td>117</td>\n",
       "      <td>0</td>\n",
       "      <td>1</td>\n",
       "    </tr>\n",
       "    <tr>\n",
       "      <th>3</th>\n",
       "      <td>False</td>\n",
       "      <td>True</td>\n",
       "      <td>39</td>\n",
       "      <td>26</td>\n",
       "      <td>3</td>\n",
       "      <td>130</td>\n",
       "      <td>120</td>\n",
       "      <td>11</td>\n",
       "      <td>117</td>\n",
       "      <td>60</td>\n",
       "      <td>71</td>\n",
       "      <td>133</td>\n",
       "      <td>0</td>\n",
       "      <td>1</td>\n",
       "    </tr>\n",
       "    <tr>\n",
       "      <th>7</th>\n",
       "      <td>True</td>\n",
       "      <td>False</td>\n",
       "      <td>116</td>\n",
       "      <td>119</td>\n",
       "      <td>59</td>\n",
       "      <td>37</td>\n",
       "      <td>70</td>\n",
       "      <td>17</td>\n",
       "      <td>69</td>\n",
       "      <td>128</td>\n",
       "      <td>106</td>\n",
       "      <td>52</td>\n",
       "      <td>1</td>\n",
       "      <td>0</td>\n",
       "    </tr>\n",
       "  </tbody>\n",
       "</table>\n",
       "</div>"
      ],
      "text/plain": [
       "   team1_win  team2_win  player10champid  player9champid  player8champid  \\\n",
       "0       True      False                3              95              39   \n",
       "1      False       True               40             106              41   \n",
       "2      False       True               39              66              23   \n",
       "3      False       True               39              26               3   \n",
       "7       True      False              116             119              59   \n",
       "\n",
       "   player7champid  player6champid  player5champid  player4champid  \\\n",
       "0             120              59              41             123   \n",
       "1              24             130             132              92   \n",
       "2              97             120              16              82   \n",
       "3             130             120              11             117   \n",
       "7              37              70              17              69   \n",
       "\n",
       "   player3champid  player2champid  player1champid  team1  team2  \n",
       "0             128              33              12      1      0  \n",
       "1              23              64              35      0      1  \n",
       "2              24              12             117      0      1  \n",
       "3              60              71             133      0      1  \n",
       "7             128             106              52      1      0  "
      ]
     },
     "execution_count": 91,
     "metadata": {},
     "output_type": "execute_result"
    }
   ],
   "source": [
    "trn1.head()"
   ]
  },
  {
   "cell_type": "code",
   "execution_count": 92,
   "metadata": {},
   "outputs": [
    {
     "data": {
      "text/html": [
       "<div>\n",
       "<style>\n",
       "    .dataframe thead tr:only-child th {\n",
       "        text-align: right;\n",
       "    }\n",
       "\n",
       "    .dataframe thead th {\n",
       "        text-align: left;\n",
       "    }\n",
       "\n",
       "    .dataframe tbody tr th {\n",
       "        vertical-align: top;\n",
       "    }\n",
       "</style>\n",
       "<table border=\"1\" class=\"dataframe\">\n",
       "  <thead>\n",
       "    <tr style=\"text-align: right;\">\n",
       "      <th></th>\n",
       "      <th>team1_win</th>\n",
       "      <th>team2_win</th>\n",
       "      <th>player10champid</th>\n",
       "      <th>player9champid</th>\n",
       "      <th>player8champid</th>\n",
       "      <th>player7champid</th>\n",
       "      <th>player6champid</th>\n",
       "      <th>player5champid</th>\n",
       "      <th>player4champid</th>\n",
       "      <th>player3champid</th>\n",
       "      <th>player2champid</th>\n",
       "      <th>player1champid</th>\n",
       "      <th>team1</th>\n",
       "      <th>team2</th>\n",
       "    </tr>\n",
       "  </thead>\n",
       "  <tbody>\n",
       "    <tr>\n",
       "      <th>4</th>\n",
       "      <td>False</td>\n",
       "      <td>True</td>\n",
       "      <td>41</td>\n",
       "      <td>95</td>\n",
       "      <td>117</td>\n",
       "      <td>39</td>\n",
       "      <td>71</td>\n",
       "      <td>11</td>\n",
       "      <td>82</td>\n",
       "      <td>6</td>\n",
       "      <td>120</td>\n",
       "      <td>66</td>\n",
       "      <td>0</td>\n",
       "      <td>1</td>\n",
       "    </tr>\n",
       "    <tr>\n",
       "      <th>5</th>\n",
       "      <td>True</td>\n",
       "      <td>False</td>\n",
       "      <td>41</td>\n",
       "      <td>71</td>\n",
       "      <td>74</td>\n",
       "      <td>100</td>\n",
       "      <td>13</td>\n",
       "      <td>54</td>\n",
       "      <td>133</td>\n",
       "      <td>116</td>\n",
       "      <td>93</td>\n",
       "      <td>69</td>\n",
       "      <td>1</td>\n",
       "      <td>0</td>\n",
       "    </tr>\n",
       "    <tr>\n",
       "      <th>6</th>\n",
       "      <td>False</td>\n",
       "      <td>True</td>\n",
       "      <td>66</td>\n",
       "      <td>2</td>\n",
       "      <td>113</td>\n",
       "      <td>116</td>\n",
       "      <td>74</td>\n",
       "      <td>3</td>\n",
       "      <td>17</td>\n",
       "      <td>130</td>\n",
       "      <td>100</td>\n",
       "      <td>48</td>\n",
       "      <td>0</td>\n",
       "      <td>1</td>\n",
       "    </tr>\n",
       "    <tr>\n",
       "      <th>9</th>\n",
       "      <td>False</td>\n",
       "      <td>True</td>\n",
       "      <td>88</td>\n",
       "      <td>116</td>\n",
       "      <td>23</td>\n",
       "      <td>55</td>\n",
       "      <td>15</td>\n",
       "      <td>113</td>\n",
       "      <td>120</td>\n",
       "      <td>6</td>\n",
       "      <td>54</td>\n",
       "      <td>130</td>\n",
       "      <td>0</td>\n",
       "      <td>1</td>\n",
       "    </tr>\n",
       "    <tr>\n",
       "      <th>18</th>\n",
       "      <td>False</td>\n",
       "      <td>True</td>\n",
       "      <td>53</td>\n",
       "      <td>102</td>\n",
       "      <td>134</td>\n",
       "      <td>98</td>\n",
       "      <td>62</td>\n",
       "      <td>115</td>\n",
       "      <td>120</td>\n",
       "      <td>56</td>\n",
       "      <td>100</td>\n",
       "      <td>50</td>\n",
       "      <td>0</td>\n",
       "      <td>1</td>\n",
       "    </tr>\n",
       "  </tbody>\n",
       "</table>\n",
       "</div>"
      ],
      "text/plain": [
       "    team1_win  team2_win  player10champid  player9champid  player8champid  \\\n",
       "4       False       True               41              95             117   \n",
       "5        True      False               41              71              74   \n",
       "6       False       True               66               2             113   \n",
       "9       False       True               88             116              23   \n",
       "18      False       True               53             102             134   \n",
       "\n",
       "    player7champid  player6champid  player5champid  player4champid  \\\n",
       "4               39              71              11              82   \n",
       "5              100              13              54             133   \n",
       "6              116              74               3              17   \n",
       "9               55              15             113             120   \n",
       "18              98              62             115             120   \n",
       "\n",
       "    player3champid  player2champid  player1champid  team1  team2  \n",
       "4                6             120              66      0      1  \n",
       "5              116              93              69      1      0  \n",
       "6              130             100              48      0      1  \n",
       "9                6              54             130      0      1  \n",
       "18              56             100              50      0      1  "
      ]
     },
     "execution_count": 92,
     "metadata": {},
     "output_type": "execute_result"
    }
   ],
   "source": [
    "val1.head()"
   ]
  },
  {
   "cell_type": "code",
   "execution_count": 93,
   "metadata": {
    "collapsed": true
   },
   "outputs": [],
   "source": [
    "def embedding_input_champion(name, n_in, n_out, reg):\n",
    "    inp = Input(shape=(1,), dtype='int64', name=name)\n",
    "    return inp, Embedding(n_in, n_out, input_length=1, W_regularizer=l2(reg))(inp)\n"
   ]
  },
  {
   "cell_type": "code",
   "execution_count": null,
   "metadata": {},
   "outputs": [],
   "source": []
  },
  {
   "cell_type": "code",
   "execution_count": 94,
   "metadata": {},
   "outputs": [
    {
     "name": "stderr",
     "output_type": "stream",
     "text": [
      "/usr/local/lib/python3.5/dist-packages/ipykernel_launcher.py:3: UserWarning: Update your `Embedding` call to the Keras 2 API: `Embedding(134, 16, input_length=1, embeddings_regularizer=<keras.reg...)`\n",
      "  This is separate from the ipykernel package so we can avoid doing imports until\n"
     ]
    }
   ],
   "source": [
    "champion_in1, c1 = embedding_input_champion('champion_id1_in', 134, n_hidden_factors,0)\n",
    "champion_in2, c2 = embedding_input_champion('champion_id2_in', 134, n_hidden_factors, 0)\n",
    "champion_in3, c3 = embedding_input_champion('champion_id3_in', 134, n_hidden_factors, 0)\n",
    "champion_in4, c4 = embedding_input_champion('champion_id4_in', 134, n_hidden_factors, 0)\n",
    "champion_in5, c5 = embedding_input_champion('champion_id5_in', 134, n_hidden_factors, 0)\n",
    "champion_in6, c6 = embedding_input_champion('champion_id6_in', 134, n_hidden_factors, 0)\n",
    "champion_in7, c7 = embedding_input_champion('champion_id7_in', 134, n_hidden_factors, 0)\n",
    "champion_in8, c8 = embedding_input_champion('champion_id8_in', 134, n_hidden_factors, 0)\n",
    "champion_in9, c9 = embedding_input_champion('champion_id9_in', 134, n_hidden_factors, 0)\n",
    "champion_in10, c10 = embedding_input_champion('champion_id10_in', 134, n_hidden_factors, 0)"
   ]
  },
  {
   "cell_type": "code",
   "execution_count": 95,
   "metadata": {},
   "outputs": [
    {
     "name": "stderr",
     "output_type": "stream",
     "text": [
      "/usr/local/lib/python3.5/dist-packages/ipykernel_launcher.py:1: UserWarning: The `merge` function is deprecated and will be removed after 08/2017. Use instead layers from `keras.layers.merge`, e.g. `add`, `concatenate`, etc.\n",
      "  \"\"\"Entry point for launching an IPython kernel.\n",
      "/usr/local/lib/python3.5/dist-packages/keras/legacy/layers.py:458: UserWarning: The `Merge` layer is deprecated and will be removed after 08/2017. Use instead layers from `keras.layers.merge`, e.g. `add`, `concatenate`, etc.\n",
      "  name=name)\n"
     ]
    }
   ],
   "source": [
    "x = merge([c1,c2,c3,c4,c5,c6,c7,c8,c9,c10], mode='concat', name='All_Factors_on_one_layer')\n",
    "x = Flatten()(x)\n",
    "x = Dense(35, activation='sigmoid',name='Random_HF_Interactions2')(x)\n",
    "x = Dropout(0.2,name='Prevent_overfit2')(x)\n",
    "x = Dense(1,activation='sigmoid',name='Final_Interactions')(x)\n",
    "nn1 = Model([champion_in1,champion_in2,champion_in3,champion_in4,champion_in5,champion_in6,champion_in7,champion_in8,champion_in9,champion_in10 ], x)\n",
    "nn1.compile(Adam(0.001), loss='binary_crossentropy', metrics=['accuracy'])"
   ]
  },
  {
   "cell_type": "code",
   "execution_count": null,
   "metadata": {},
   "outputs": [],
   "source": []
  },
  {
   "cell_type": "code",
   "execution_count": 97,
   "metadata": {},
   "outputs": [
    {
     "name": "stdout",
     "output_type": "stream",
     "text": [
      "Train on 69656 samples, validate on 17792 samples\n",
      "Epoch 1/25\n",
      "69656/69656 [==============================] - 1s - loss: 0.6775 - acc: 0.5725 - val_loss: 0.6940 - val_acc: 0.5328\n",
      "Epoch 2/25\n",
      "69656/69656 [==============================] - 1s - loss: 0.6776 - acc: 0.5721 - val_loss: 0.6937 - val_acc: 0.5329\n",
      "Epoch 3/25\n",
      "69656/69656 [==============================] - 1s - loss: 0.6769 - acc: 0.5724 - val_loss: 0.6939 - val_acc: 0.5316\n",
      "Epoch 4/25\n",
      "69656/69656 [==============================] - 1s - loss: 0.6768 - acc: 0.5711 - val_loss: 0.6939 - val_acc: 0.5328\n",
      "Epoch 5/25\n",
      "69656/69656 [==============================] - 1s - loss: 0.6764 - acc: 0.5739 - val_loss: 0.6939 - val_acc: 0.5324\n",
      "Epoch 6/25\n",
      "69656/69656 [==============================] - 1s - loss: 0.6760 - acc: 0.5728 - val_loss: 0.6942 - val_acc: 0.5325\n",
      "Epoch 7/25\n",
      "69656/69656 [==============================] - 1s - loss: 0.6755 - acc: 0.5726 - val_loss: 0.6941 - val_acc: 0.5332\n",
      "Epoch 8/25\n",
      "69656/69656 [==============================] - 1s - loss: 0.6752 - acc: 0.5725 - val_loss: 0.6941 - val_acc: 0.5324\n",
      "Epoch 9/25\n",
      "69656/69656 [==============================] - 1s - loss: 0.6745 - acc: 0.5730 - val_loss: 0.6952 - val_acc: 0.5328\n",
      "Epoch 10/25\n",
      "69656/69656 [==============================] - 1s - loss: 0.6738 - acc: 0.5735 - val_loss: 0.6951 - val_acc: 0.5323\n",
      "Epoch 11/25\n",
      "69656/69656 [==============================] - 1s - loss: 0.6734 - acc: 0.5726 - val_loss: 0.6954 - val_acc: 0.5317\n",
      "Epoch 12/25\n",
      "69656/69656 [==============================] - 1s - loss: 0.6729 - acc: 0.5733 - val_loss: 0.6956 - val_acc: 0.5307\n",
      "Epoch 13/25\n",
      "69656/69656 [==============================] - 1s - loss: 0.6720 - acc: 0.5740 - val_loss: 0.6969 - val_acc: 0.5325\n",
      "Epoch 14/25\n",
      "69656/69656 [==============================] - 1s - loss: 0.6717 - acc: 0.5730 - val_loss: 0.6963 - val_acc: 0.5315\n",
      "Epoch 15/25\n",
      "69656/69656 [==============================] - 1s - loss: 0.6712 - acc: 0.5733 - val_loss: 0.6975 - val_acc: 0.5306\n",
      "Epoch 16/25\n",
      "69656/69656 [==============================] - 1s - loss: 0.6704 - acc: 0.5737 - val_loss: 0.6977 - val_acc: 0.5295\n",
      "Epoch 17/25\n",
      "69656/69656 [==============================] - 1s - loss: 0.6701 - acc: 0.5739 - val_loss: 0.6987 - val_acc: 0.5295\n",
      "Epoch 18/25\n",
      "69656/69656 [==============================] - 1s - loss: 0.6697 - acc: 0.5732 - val_loss: 0.6991 - val_acc: 0.5306\n",
      "Epoch 19/25\n",
      "69656/69656 [==============================] - 1s - loss: 0.6689 - acc: 0.5739 - val_loss: 0.6991 - val_acc: 0.5284\n",
      "Epoch 20/25\n",
      "69656/69656 [==============================] - 1s - loss: 0.6684 - acc: 0.5744 - val_loss: 0.7006 - val_acc: 0.5302\n",
      "Epoch 21/25\n",
      "69656/69656 [==============================] - 1s - loss: 0.6678 - acc: 0.5731 - val_loss: 0.7017 - val_acc: 0.5283\n",
      "Epoch 22/25\n",
      "69656/69656 [==============================] - 1s - loss: 0.6676 - acc: 0.5716 - val_loss: 0.7019 - val_acc: 0.5268\n",
      "Epoch 23/25\n",
      "69656/69656 [==============================] - 1s - loss: 0.6671 - acc: 0.5732 - val_loss: 0.7025 - val_acc: 0.5266\n",
      "Epoch 24/25\n",
      "69656/69656 [==============================] - 1s - loss: 0.6667 - acc: 0.5726 - val_loss: 0.7028 - val_acc: 0.5266\n",
      "Epoch 25/25\n",
      "69656/69656 [==============================] - 1s - loss: 0.6662 - acc: 0.5740 - val_loss: 0.7035 - val_acc: 0.5274\n"
     ]
    },
    {
     "data": {
      "text/plain": [
       "<keras.callbacks.History at 0x7f968a266b00>"
      ]
     },
     "execution_count": 97,
     "metadata": {},
     "output_type": "execute_result"
    }
   ],
   "source": [
    "nn1.fit([trn1.player1champid,trn1.player2champid,trn1.player3champid,trn1.player4champid,trn1.player5champid,trn1.player6champid,trn1.player7champid,trn1.player8champid,trn1.player9champid,trn1.player10champid],trn1.team1, batch_size=450, epochs=25, \n",
    "       validation_data=([val1.player1champid,val1.player2champid,val1.player3champid,val1.player4champid,val1.player5champid,val1.player6champid,val1.player7champid,val1.player8champid,val1.player9champid,val1.player10champid],val1.team1))"
   ]
  },
  {
   "cell_type": "code",
   "execution_count": 99,
   "metadata": {
    "collapsed": true
   },
   "outputs": [],
   "source": [
    "def roleprep(df):\n",
    "    for playernum in range(1,6):\n",
    "        playerstrchmp = 'player'+str(playernum)+'champid'\n",
    "        playerslane = 'player'+str(playernum)+'lane'\n",
    "        champid = df[playerstrchmp]\n",
    "        lane =df[playerslane]\n",
    "        if lane!='BOTTOM':\n",
    "            role = lane\n",
    "            rolestr= 'team1'+str(role)\n",
    "            df[rolestr]=champid\n",
    "        else:\n",
    "            playersrole = 'player'+str(playernum)+'role'\n",
    "            role = df[playersrole]\n",
    "            rolestr= 'team1'+str(role)\n",
    "            df[rolestr]=champid\n",
    "    for playernum in range(6,11):\n",
    "        playerstrchmp = 'player'+str(playernum)+'champid'\n",
    "        playerslane = 'player'+str(playernum)+'lane'\n",
    "        champid = df[playerstrchmp]\n",
    "        lane =df[playerslane]\n",
    "        if lane!='BOTTOM':\n",
    "            role = lane\n",
    "            rolestr= 'team2'+str(role)\n",
    "            df[rolestr]=champid\n",
    "        else:\n",
    "            playersrole = 'player'+str(playernum)+'role'\n",
    "            role = df[playersrole]\n",
    "            rolestr= 'team2'+str(role)\n",
    "            df[rolestr]=champid\n",
    "    return df"
   ]
  },
  {
   "cell_type": "code",
   "execution_count": 100,
   "metadata": {},
   "outputs": [],
   "source": [
    "role_rps_data = matches_s6.apply(roleprep,axis=1)"
   ]
  },
  {
   "cell_type": "code",
   "execution_count": 101,
   "metadata": {},
   "outputs": [
    {
     "data": {
      "text/plain": [
       "Index(['MatchID', 'matchid', 'matchtime', 'patch_version', 'player10champid',\n",
       "       'player10lane', 'player10role', 'player10summonerid',\n",
       "       'player10summonername', 'player1champid', 'player1lane', 'player1role',\n",
       "       'player1summonerid', 'player1summonername', 'player2champid',\n",
       "       'player2lane', 'player2role', 'player2summonerid',\n",
       "       'player2summonername', 'player3champid', 'player3lane', 'player3role',\n",
       "       'player3summonerid', 'player3summonername', 'player4champid',\n",
       "       'player4lane', 'player4role', 'player4summonerid',\n",
       "       'player4summonername', 'player5champid', 'player5lane', 'player5role',\n",
       "       'player5summonerid', 'player5summonername', 'player6champid',\n",
       "       'player6lane', 'player6role', 'player6summonerid',\n",
       "       'player6summonername', 'player7champid', 'player7lane', 'player7role',\n",
       "       'player7summonerid', 'player7summonername', 'player8champid',\n",
       "       'player8lane', 'player8role', 'player8summonerid',\n",
       "       'player8summonername', 'player9champid', 'player9lane', 'player9role',\n",
       "       'player9summonerid', 'player9summonername', 'team1DUO',\n",
       "       'team1DUO_CARRY', 'team1DUO_SUPPORT', 'team1JUNGLE', 'team1MIDDLE',\n",
       "       'team1NONE', 'team1SOLO', 'team1TOP', 'team1_win', 'team2DUO',\n",
       "       'team2DUO_CARRY', 'team2DUO_SUPPORT', 'team2JUNGLE', 'team2MIDDLE',\n",
       "       'team2NONE', 'team2SOLO', 'team2TOP', 'team2_win'],\n",
       "      dtype='object')"
      ]
     },
     "execution_count": 101,
     "metadata": {},
     "output_type": "execute_result"
    }
   ],
   "source": [
    "role_rps_data.columns"
   ]
  },
  {
   "cell_type": "code",
   "execution_count": 102,
   "metadata": {
    "collapsed": true
   },
   "outputs": [],
   "source": [
    "role_rps_data.drop(['team1NONE','team2NONE','team1SOLO','team2SOLO','team1DUO','team2DUO'],axis=1, inplace=True)"
   ]
  },
  {
   "cell_type": "code",
   "execution_count": 103,
   "metadata": {},
   "outputs": [],
   "source": [
    "role_rps_data.dropna(inplace=True)"
   ]
  },
  {
   "cell_type": "code",
   "execution_count": 104,
   "metadata": {},
   "outputs": [
    {
     "data": {
      "text/html": [
       "<div>\n",
       "<style>\n",
       "    .dataframe thead tr:only-child th {\n",
       "        text-align: right;\n",
       "    }\n",
       "\n",
       "    .dataframe thead th {\n",
       "        text-align: left;\n",
       "    }\n",
       "\n",
       "    .dataframe tbody tr th {\n",
       "        vertical-align: top;\n",
       "    }\n",
       "</style>\n",
       "<table border=\"1\" class=\"dataframe\">\n",
       "  <thead>\n",
       "    <tr style=\"text-align: right;\">\n",
       "      <th></th>\n",
       "      <th>MatchID</th>\n",
       "      <th>matchid</th>\n",
       "      <th>matchtime</th>\n",
       "      <th>patch_version</th>\n",
       "      <th>player10champid</th>\n",
       "      <th>player10lane</th>\n",
       "      <th>player10role</th>\n",
       "      <th>player10summonerid</th>\n",
       "      <th>player10summonername</th>\n",
       "      <th>player1champid</th>\n",
       "      <th>...</th>\n",
       "      <th>team1TOP</th>\n",
       "      <th>team1_win</th>\n",
       "      <th>team2DUO_CARRY</th>\n",
       "      <th>team2DUO_SUPPORT</th>\n",
       "      <th>team2JUNGLE</th>\n",
       "      <th>team2MIDDLE</th>\n",
       "      <th>team2TOP</th>\n",
       "      <th>team2_win</th>\n",
       "      <th>team1</th>\n",
       "      <th>team2</th>\n",
       "    </tr>\n",
       "  </thead>\n",
       "  <tbody>\n",
       "    <tr>\n",
       "      <th>0</th>\n",
       "      <td>2.078664e+09</td>\n",
       "      <td>2078663920</td>\n",
       "      <td>2016-01-25 05:06:24.884000</td>\n",
       "      <td>6.1.0.484</td>\n",
       "      <td>4.0</td>\n",
       "      <td>MIDDLE</td>\n",
       "      <td>SOLO</td>\n",
       "      <td>21498922.0</td>\n",
       "      <td>TR Linsanity</td>\n",
       "      <td>13.0</td>\n",
       "      <td>...</td>\n",
       "      <td>34.0</td>\n",
       "      <td>True</td>\n",
       "      <td>236.0</td>\n",
       "      <td>40.0</td>\n",
       "      <td>64.0</td>\n",
       "      <td>4.0</td>\n",
       "      <td>114.0</td>\n",
       "      <td>False</td>\n",
       "      <td>1</td>\n",
       "      <td>0</td>\n",
       "    </tr>\n",
       "    <tr>\n",
       "      <th>1</th>\n",
       "      <td>2.078608e+09</td>\n",
       "      <td>2078608407</td>\n",
       "      <td>2016-01-25 04:25:30.551000</td>\n",
       "      <td>6.1.0.484</td>\n",
       "      <td>41.0</td>\n",
       "      <td>TOP</td>\n",
       "      <td>SOLO</td>\n",
       "      <td>28039649.0</td>\n",
       "      <td>Chunkylol</td>\n",
       "      <td>36.0</td>\n",
       "      <td>...</td>\n",
       "      <td>24.0</td>\n",
       "      <td>False</td>\n",
       "      <td>42.0</td>\n",
       "      <td>25.0</td>\n",
       "      <td>421.0</td>\n",
       "      <td>134.0</td>\n",
       "      <td>41.0</td>\n",
       "      <td>True</td>\n",
       "      <td>0</td>\n",
       "      <td>1</td>\n",
       "    </tr>\n",
       "    <tr>\n",
       "      <th>2</th>\n",
       "      <td>2.078592e+09</td>\n",
       "      <td>2078592445</td>\n",
       "      <td>2016-01-25 03:52:01.302000</td>\n",
       "      <td>6.1.0.484</td>\n",
       "      <td>40.0</td>\n",
       "      <td>BOTTOM</td>\n",
       "      <td>DUO_SUPPORT</td>\n",
       "      <td>19806051.0</td>\n",
       "      <td>TR Strife</td>\n",
       "      <td>203.0</td>\n",
       "      <td>...</td>\n",
       "      <td>98.0</td>\n",
       "      <td>False</td>\n",
       "      <td>236.0</td>\n",
       "      <td>40.0</td>\n",
       "      <td>76.0</td>\n",
       "      <td>117.0</td>\n",
       "      <td>24.0</td>\n",
       "      <td>True</td>\n",
       "      <td>0</td>\n",
       "      <td>1</td>\n",
       "    </tr>\n",
       "    <tr>\n",
       "      <th>4</th>\n",
       "      <td>2.078438e+09</td>\n",
       "      <td>2078437727</td>\n",
       "      <td>2016-01-25 02:41:39.662000</td>\n",
       "      <td>6.1.0.484</td>\n",
       "      <td>42.0</td>\n",
       "      <td>MIDDLE</td>\n",
       "      <td>SOLO</td>\n",
       "      <td>22005573.0</td>\n",
       "      <td>caaaaaaaaaaaaake</td>\n",
       "      <td>76.0</td>\n",
       "      <td>...</td>\n",
       "      <td>98.0</td>\n",
       "      <td>False</td>\n",
       "      <td>81.0</td>\n",
       "      <td>40.0</td>\n",
       "      <td>203.0</td>\n",
       "      <td>42.0</td>\n",
       "      <td>114.0</td>\n",
       "      <td>True</td>\n",
       "      <td>0</td>\n",
       "      <td>1</td>\n",
       "    </tr>\n",
       "    <tr>\n",
       "      <th>5</th>\n",
       "      <td>2.544287e+09</td>\n",
       "      <td>2544286770</td>\n",
       "      <td>2017-07-09 23:12:53.926000</td>\n",
       "      <td>7.13.192.6794</td>\n",
       "      <td>42.0</td>\n",
       "      <td>MIDDLE</td>\n",
       "      <td>SOLO</td>\n",
       "      <td>19967304.0</td>\n",
       "      <td>Shiphtur</td>\n",
       "      <td>79.0</td>\n",
       "      <td>...</td>\n",
       "      <td>59.0</td>\n",
       "      <td>True</td>\n",
       "      <td>81.0</td>\n",
       "      <td>14.0</td>\n",
       "      <td>121.0</td>\n",
       "      <td>42.0</td>\n",
       "      <td>84.0</td>\n",
       "      <td>False</td>\n",
       "      <td>1</td>\n",
       "      <td>0</td>\n",
       "    </tr>\n",
       "  </tbody>\n",
       "</table>\n",
       "<p>5 rows × 68 columns</p>\n",
       "</div>"
      ],
      "text/plain": [
       "        MatchID     matchid                   matchtime  patch_version  \\\n",
       "0  2.078664e+09  2078663920  2016-01-25 05:06:24.884000      6.1.0.484   \n",
       "1  2.078608e+09  2078608407  2016-01-25 04:25:30.551000      6.1.0.484   \n",
       "2  2.078592e+09  2078592445  2016-01-25 03:52:01.302000      6.1.0.484   \n",
       "4  2.078438e+09  2078437727  2016-01-25 02:41:39.662000      6.1.0.484   \n",
       "5  2.544287e+09  2544286770  2017-07-09 23:12:53.926000  7.13.192.6794   \n",
       "\n",
       "   player10champid player10lane player10role  player10summonerid  \\\n",
       "0              4.0       MIDDLE         SOLO          21498922.0   \n",
       "1             41.0          TOP         SOLO          28039649.0   \n",
       "2             40.0       BOTTOM  DUO_SUPPORT          19806051.0   \n",
       "4             42.0       MIDDLE         SOLO          22005573.0   \n",
       "5             42.0       MIDDLE         SOLO          19967304.0   \n",
       "\n",
       "  player10summonername  player1champid  ...   team1TOP team1_win  \\\n",
       "0         TR Linsanity            13.0  ...       34.0      True   \n",
       "1            Chunkylol            36.0  ...       24.0     False   \n",
       "2            TR Strife           203.0  ...       98.0     False   \n",
       "4     caaaaaaaaaaaaake            76.0  ...       98.0     False   \n",
       "5             Shiphtur            79.0  ...       59.0      True   \n",
       "\n",
       "   team2DUO_CARRY team2DUO_SUPPORT  team2JUNGLE team2MIDDLE team2TOP  \\\n",
       "0           236.0             40.0         64.0         4.0    114.0   \n",
       "1            42.0             25.0        421.0       134.0     41.0   \n",
       "2           236.0             40.0         76.0       117.0     24.0   \n",
       "4            81.0             40.0        203.0        42.0    114.0   \n",
       "5            81.0             14.0        121.0        42.0     84.0   \n",
       "\n",
       "   team2_win team1  team2  \n",
       "0      False     1      0  \n",
       "1       True     0      1  \n",
       "2       True     0      1  \n",
       "4       True     0      1  \n",
       "5      False     1      0  \n",
       "\n",
       "[5 rows x 68 columns]"
      ]
     },
     "execution_count": 104,
     "metadata": {},
     "output_type": "execute_result"
    }
   ],
   "source": [
    "role_rps_data['team1']=role_rps_data['team1_win'].astype('int')\n",
    "role_rps_data['team2']=role_rps_data['team2_win'].astype('int')\n",
    "role_rps_data.head()"
   ]
  },
  {
   "cell_type": "code",
   "execution_count": 105,
   "metadata": {},
   "outputs": [
    {
     "data": {
      "text/plain": [
       "Index(['MatchID', 'matchid', 'matchtime', 'patch_version', 'player10champid',\n",
       "       'player10lane', 'player10role', 'player10summonerid',\n",
       "       'player10summonername', 'player1champid', 'player1lane', 'player1role',\n",
       "       'player1summonerid', 'player1summonername', 'player2champid',\n",
       "       'player2lane', 'player2role', 'player2summonerid',\n",
       "       'player2summonername', 'player3champid', 'player3lane', 'player3role',\n",
       "       'player3summonerid', 'player3summonername', 'player4champid',\n",
       "       'player4lane', 'player4role', 'player4summonerid',\n",
       "       'player4summonername', 'player5champid', 'player5lane', 'player5role',\n",
       "       'player5summonerid', 'player5summonername', 'player6champid',\n",
       "       'player6lane', 'player6role', 'player6summonerid',\n",
       "       'player6summonername', 'player7champid', 'player7lane', 'player7role',\n",
       "       'player7summonerid', 'player7summonername', 'player8champid',\n",
       "       'player8lane', 'player8role', 'player8summonerid',\n",
       "       'player8summonername', 'player9champid', 'player9lane', 'player9role',\n",
       "       'player9summonerid', 'player9summonername', 'team1DUO_CARRY',\n",
       "       'team1DUO_SUPPORT', 'team1JUNGLE', 'team1MIDDLE', 'team1TOP',\n",
       "       'team1_win', 'team2DUO_CARRY', 'team2DUO_SUPPORT', 'team2JUNGLE',\n",
       "       'team2MIDDLE', 'team2TOP', 'team2_win', 'team1', 'team2'],\n",
       "      dtype='object')"
      ]
     },
     "execution_count": 105,
     "metadata": {},
     "output_type": "execute_result"
    }
   ],
   "source": [
    "role_rps_data.columns"
   ]
  },
  {
   "cell_type": "code",
   "execution_count": 106,
   "metadata": {},
   "outputs": [],
   "source": [
    "role_rps_columnlist = ['team1DUO_CARRY',\n",
    "       'team1DUO_SUPPORT', 'team1JUNGLE', 'team1MIDDLE', 'team1TOP',\n",
    "       'team1_win', 'team2DUO_CARRY', 'team2DUO_SUPPORT', 'team2JUNGLE',\n",
    "       'team2MIDDLE', 'team2TOP', 'team2_win']"
   ]
  },
  {
   "cell_type": "code",
   "execution_count": 107,
   "metadata": {
    "collapsed": true
   },
   "outputs": [],
   "source": [
    "columnlist=['team1DUO_CARRY','team1DUO_SUPPORT', 'team1JUNGLE', 'team1MIDDLE', 'team1TOP', 'team2DUO_CARRY', 'team2DUO_SUPPORT', 'team2JUNGLE','team2MIDDLE', 'team2TOP']"
   ]
  },
  {
   "cell_type": "code",
   "execution_count": 108,
   "metadata": {
    "collapsed": true
   },
   "outputs": [],
   "source": [
    "for playernum in range(0,10):\n",
    "    playerstring= columnlist[playernum]\n",
    "    role_rps_data[playerstring]=role_rps_data[playerstring].apply(lambda x: champs2idx[x])"
   ]
  },
  {
   "cell_type": "code",
   "execution_count": 109,
   "metadata": {},
   "outputs": [],
   "source": [
    "#we are re-using out same champion mappings, and now we have champions back to 0-133\n",
    "msk2 = np.random.rand(len(role_rps_data)) < 0.8 #training vs test set ratio This is the same structure I use in my anime_rec engine\n",
    "trn2 = role_rps_data[msk2]\n",
    "val2 = role_rps_data[~msk2]\n"
   ]
  },
  {
   "cell_type": "code",
   "execution_count": 110,
   "metadata": {},
   "outputs": [
    {
     "name": "stderr",
     "output_type": "stream",
     "text": [
      "/usr/local/lib/python3.5/dist-packages/ipykernel_launcher.py:1: UserWarning: The `merge` function is deprecated and will be removed after 08/2017. Use instead layers from `keras.layers.merge`, e.g. `add`, `concatenate`, etc.\n",
      "  \"\"\"Entry point for launching an IPython kernel.\n",
      "/usr/local/lib/python3.5/dist-packages/keras/legacy/layers.py:458: UserWarning: The `Merge` layer is deprecated and will be removed after 08/2017. Use instead layers from `keras.layers.merge`, e.g. `add`, `concatenate`, etc.\n",
      "  name=name)\n"
     ]
    }
   ],
   "source": [
    "x = merge([c1,c2,c3,c4,c5,c6,c7,c8,c9,c10], mode='concat', name='All_Factors_on_one_layer')\n",
    "x = Flatten()(x)\n",
    "x = Dense(45, activation='sigmoid',name='Random_HF_Interactions2')(x)\n",
    "x = Dropout(0.9,name='Prevent_overfit2')(x)\n",
    "x = Dense(1,activation='sigmoid',name='Final_Interactions')(x)\n",
    "nn2 = Model([champion_in1,champion_in2,champion_in3,champion_in4,champion_in5,champion_in6,champion_in7,champion_in8,champion_in9,champion_in10 ], x)\n",
    "nn2.compile(Adam(0.001), loss='binary_crossentropy', metrics=['accuracy'])"
   ]
  },
  {
   "cell_type": "code",
   "execution_count": 111,
   "metadata": {},
   "outputs": [
    {
     "data": {
      "text/plain": [
       "Index(['MatchID', 'matchid', 'matchtime', 'patch_version', 'player10champid',\n",
       "       'player10lane', 'player10role', 'player10summonerid',\n",
       "       'player10summonername', 'player1champid', 'player1lane', 'player1role',\n",
       "       'player1summonerid', 'player1summonername', 'player2champid',\n",
       "       'player2lane', 'player2role', 'player2summonerid',\n",
       "       'player2summonername', 'player3champid', 'player3lane', 'player3role',\n",
       "       'player3summonerid', 'player3summonername', 'player4champid',\n",
       "       'player4lane', 'player4role', 'player4summonerid',\n",
       "       'player4summonername', 'player5champid', 'player5lane', 'player5role',\n",
       "       'player5summonerid', 'player5summonername', 'player6champid',\n",
       "       'player6lane', 'player6role', 'player6summonerid',\n",
       "       'player6summonername', 'player7champid', 'player7lane', 'player7role',\n",
       "       'player7summonerid', 'player7summonername', 'player8champid',\n",
       "       'player8lane', 'player8role', 'player8summonerid',\n",
       "       'player8summonername', 'player9champid', 'player9lane', 'player9role',\n",
       "       'player9summonerid', 'player9summonername', 'team1DUO_CARRY',\n",
       "       'team1DUO_SUPPORT', 'team1JUNGLE', 'team1MIDDLE', 'team1TOP',\n",
       "       'team1_win', 'team2DUO_CARRY', 'team2DUO_SUPPORT', 'team2JUNGLE',\n",
       "       'team2MIDDLE', 'team2TOP', 'team2_win', 'team1', 'team2'],\n",
       "      dtype='object')"
      ]
     },
     "execution_count": 111,
     "metadata": {},
     "output_type": "execute_result"
    }
   ],
   "source": [
    "trn2.columns"
   ]
  },
  {
   "cell_type": "code",
   "execution_count": 112,
   "metadata": {},
   "outputs": [
    {
     "name": "stdout",
     "output_type": "stream",
     "text": [
      "Train on 57745 samples, validate on 14188 samples\n",
      "Epoch 1/25\n",
      "57745/57745 [==============================] - 2s - loss: 0.8915 - acc: 0.5039 - val_loss: 0.6930 - val_acc: 0.5069\n",
      "Epoch 2/25\n",
      "57745/57745 [==============================] - 1s - loss: 0.7142 - acc: 0.5080 - val_loss: 0.6923 - val_acc: 0.5084\n",
      "Epoch 3/25\n",
      "57745/57745 [==============================] - 1s - loss: 0.6986 - acc: 0.5044 - val_loss: 0.6923 - val_acc: 0.5082\n",
      "Epoch 4/25\n",
      "57745/57745 [==============================] - 1s - loss: 0.6944 - acc: 0.5140 - val_loss: 0.6922 - val_acc: 0.5089\n",
      "Epoch 5/25\n",
      "57745/57745 [==============================] - 1s - loss: 0.6932 - acc: 0.5131 - val_loss: 0.6922 - val_acc: 0.5075\n",
      "Epoch 6/25\n",
      "57745/57745 [==============================] - 1s - loss: 0.6928 - acc: 0.5125 - val_loss: 0.6921 - val_acc: 0.5087\n",
      "Epoch 7/25\n",
      "57745/57745 [==============================] - 1s - loss: 0.6919 - acc: 0.5169 - val_loss: 0.6919 - val_acc: 0.5108\n",
      "Epoch 8/25\n",
      "57745/57745 [==============================] - 1s - loss: 0.6916 - acc: 0.5206 - val_loss: 0.6918 - val_acc: 0.5123\n",
      "Epoch 9/25\n",
      "57745/57745 [==============================] - 1s - loss: 0.6913 - acc: 0.5194 - val_loss: 0.6917 - val_acc: 0.5101\n",
      "Epoch 10/25\n",
      "57745/57745 [==============================] - 1s - loss: 0.6911 - acc: 0.5215 - val_loss: 0.6914 - val_acc: 0.5133\n",
      "Epoch 11/25\n",
      "57745/57745 [==============================] - 1s - loss: 0.6906 - acc: 0.5216 - val_loss: 0.6911 - val_acc: 0.5168\n",
      "Epoch 12/25\n",
      "57745/57745 [==============================] - 1s - loss: 0.6897 - acc: 0.5272 - val_loss: 0.6906 - val_acc: 0.5241\n",
      "Epoch 13/25\n",
      "57745/57745 [==============================] - 1s - loss: 0.6899 - acc: 0.5272 - val_loss: 0.6905 - val_acc: 0.5245\n",
      "Epoch 14/25\n",
      "57745/57745 [==============================] - 1s - loss: 0.6890 - acc: 0.5281 - val_loss: 0.6902 - val_acc: 0.5295\n",
      "Epoch 15/25\n",
      "57745/57745 [==============================] - 1s - loss: 0.6883 - acc: 0.5339 - val_loss: 0.6898 - val_acc: 0.5321\n",
      "Epoch 16/25\n",
      "57745/57745 [==============================] - 1s - loss: 0.6884 - acc: 0.5325 - val_loss: 0.6897 - val_acc: 0.5329\n",
      "Epoch 17/25\n",
      "57745/57745 [==============================] - 1s - loss: 0.6881 - acc: 0.5336 - val_loss: 0.6895 - val_acc: 0.5343\n",
      "Epoch 18/25\n",
      "57745/57745 [==============================] - 1s - loss: 0.6873 - acc: 0.5337 - val_loss: 0.6894 - val_acc: 0.5345\n",
      "Epoch 19/25\n",
      "57745/57745 [==============================] - 1s - loss: 0.6871 - acc: 0.5378 - val_loss: 0.6894 - val_acc: 0.5349\n",
      "Epoch 20/25\n",
      "57745/57745 [==============================] - 1s - loss: 0.6864 - acc: 0.5405 - val_loss: 0.6895 - val_acc: 0.5347\n",
      "Epoch 21/25\n",
      "57745/57745 [==============================] - 1s - loss: 0.6865 - acc: 0.5377 - val_loss: 0.6894 - val_acc: 0.5368\n",
      "Epoch 22/25\n",
      "57745/57745 [==============================] - 1s - loss: 0.6859 - acc: 0.5414 - val_loss: 0.6894 - val_acc: 0.5352\n",
      "Epoch 23/25\n",
      "57745/57745 [==============================] - 1s - loss: 0.6860 - acc: 0.5409 - val_loss: 0.6895 - val_acc: 0.5352\n",
      "Epoch 24/25\n",
      "57745/57745 [==============================] - 1s - loss: 0.6855 - acc: 0.5407 - val_loss: 0.6894 - val_acc: 0.5364\n",
      "Epoch 25/25\n",
      "57745/57745 [==============================] - 1s - loss: 0.6852 - acc: 0.5394 - val_loss: 0.6896 - val_acc: 0.5343\n"
     ]
    },
    {
     "data": {
      "text/plain": [
       "<keras.callbacks.History at 0x7f96376797f0>"
      ]
     },
     "execution_count": 112,
     "metadata": {},
     "output_type": "execute_result"
    }
   ],
   "source": [
    "nn2.fit([trn2.team1TOP,trn2.team2MIDDLE,trn2.team1JUNGLE,trn2.team1DUO_SUPPORT,trn2.team2DUO_CARRY,trn2.team2TOP,trn2.team2MIDDLE,trn2.team2JUNGLE,trn2.team2DUO_SUPPORT,trn2.team2DUO_CARRY],trn2.team1, batch_size=450, epochs=25, \n",
    "       validation_data=([val2.team1TOP,val2.team2MIDDLE,val2.team1JUNGLE,val2.team1DUO_SUPPORT,val2.team2DUO_CARRY,val2.team2TOP,val2.team2MIDDLE,val2.team2JUNGLE,val2.team2DUO_SUPPORT,val2.team2DUO_CARRY],val2.team1))"
   ]
  },
  {
   "cell_type": "markdown",
   "metadata": {},
   "source": [
    "So we can get from 53 percent to 55 percent, which is below our goal of giving valuable insight. \n",
    "With our unbalanced dataset, we can get results from patch 6.23 or all patches. \n",
    "Neither changes the outcomes significantly. \n"
   ]
  },
  {
   "cell_type": "code",
   "execution_count": null,
   "metadata": {
    "collapsed": true
   },
   "outputs": [],
   "source": []
  },
  {
   "cell_type": "code",
   "execution_count": 113,
   "metadata": {},
   "outputs": [
    {
     "name": "stderr",
     "output_type": "stream",
     "text": [
      "/usr/local/lib/python3.5/dist-packages/ipykernel_launcher.py:9: UserWarning: Update your `Conv1D` call to the Keras 2 API: `Conv1D(64, 3, padding=\"same\")`\n",
      "  if __name__ == '__main__':\n",
      "/usr/local/lib/python3.5/dist-packages/ipykernel_launcher.py:10: UserWarning: Update your `Conv1D` call to the Keras 2 API: `Conv1D(32, 3, padding=\"same\")`\n",
      "  # Remove the CWD from sys.path while we load stuff.\n",
      "/usr/local/lib/python3.5/dist-packages/ipykernel_launcher.py:11: UserWarning: Update your `Conv1D` call to the Keras 2 API: `Conv1D(16, 3, padding=\"same\")`\n",
      "  # This is added back by InteractiveShellApp.init_path()\n"
     ]
    }
   ],
   "source": [
    "from keras.layers import LSTM, Convolution1D, Flatten, Dropout, Dense\n",
    "from keras.layers.embeddings import Embedding\n",
    "from keras.models import Sequential\n",
    "\n",
    "players_per_game = 10\n",
    "embedding_vecor_length = 16\n",
    "model = Sequential()\n",
    "model.add(Embedding(133, embedding_vecor_length, input_length=players_per_game))\n",
    "model.add(Convolution1D(64, 3, border_mode='same'))\n",
    "model.add(Convolution1D(32, 3, border_mode='same'))\n",
    "model.add(Convolution1D(16, 3, border_mode='same'))\n",
    "model.add(Flatten())\n",
    "model.add(Dropout(0.2))\n",
    "model.add(Dense(180,activation='sigmoid'))\n",
    "model.add(Dropout(0.2))\n",
    "model.add(Dense(1,activation='sigmoid'))\n",
    "model.compile(loss='binary_crossentropy', optimizer='adam', metrics=['accuracy'])"
   ]
  },
  {
   "cell_type": "code",
   "execution_count": 114,
   "metadata": {},
   "outputs": [],
   "source": [
    "X= np.array([trn1.player1champid,trn1.player2champid,trn1.player3champid,trn1.player4champid,trn1.player5champid,trn1.player6champid,trn1.player7champid,trn1.player8champid,trn1.player9champid,trn1.player10champid])\n",
    "             \n",
    "X_val=np.array([val1.player1champid,val1.player2champid,val1.player3champid,val1.player4champid,val1.player5champid,val1.player6champid,val1.player7champid,val1.player8champid,val1.player9champid,val1.player10champid])"
   ]
  },
  {
   "cell_type": "code",
   "execution_count": null,
   "metadata": {},
   "outputs": [],
   "source": []
  },
  {
   "cell_type": "code",
   "execution_count": 115,
   "metadata": {},
   "outputs": [
    {
     "name": "stdout",
     "output_type": "stream",
     "text": [
      "Train on 69656 samples, validate on 17792 samples\n",
      "Epoch 1/25\n",
      "69656/69656 [==============================] - 5s - loss: 0.6795 - acc: 0.5615 - val_loss: 0.6987 - val_acc: 0.5243\n",
      "Epoch 2/25\n",
      "69656/69656 [==============================] - 4s - loss: 0.6729 - acc: 0.5662 - val_loss: 0.7005 - val_acc: 0.5253\n",
      "Epoch 3/25\n",
      "69656/69656 [==============================] - 4s - loss: 0.6698 - acc: 0.5678 - val_loss: 0.7012 - val_acc: 0.5233\n",
      "Epoch 4/25\n",
      "69656/69656 [==============================] - 4s - loss: 0.6677 - acc: 0.5682 - val_loss: 0.7039 - val_acc: 0.5222\n",
      "Epoch 5/25\n",
      "69656/69656 [==============================] - 4s - loss: 0.6667 - acc: 0.5686 - val_loss: 0.7053 - val_acc: 0.5235\n",
      "Epoch 6/25\n",
      "69656/69656 [==============================] - 4s - loss: 0.6656 - acc: 0.5699 - val_loss: 0.7102 - val_acc: 0.5231\n",
      "Epoch 7/25\n",
      "69656/69656 [==============================] - 4s - loss: 0.6648 - acc: 0.5694 - val_loss: 0.7088 - val_acc: 0.5225\n",
      "Epoch 8/25\n",
      "69656/69656 [==============================] - 4s - loss: 0.6641 - acc: 0.5685 - val_loss: 0.7089 - val_acc: 0.5232\n",
      "Epoch 9/25\n",
      "69656/69656 [==============================] - 4s - loss: 0.6634 - acc: 0.5688 - val_loss: 0.7119 - val_acc: 0.5232\n",
      "Epoch 10/25\n",
      "69656/69656 [==============================] - 4s - loss: 0.6631 - acc: 0.5699 - val_loss: 0.7134 - val_acc: 0.5225\n",
      "Epoch 11/25\n",
      "69656/69656 [==============================] - 4s - loss: 0.6625 - acc: 0.5683 - val_loss: 0.7130 - val_acc: 0.5197\n",
      "Epoch 12/25\n",
      "69656/69656 [==============================] - 4s - loss: 0.6618 - acc: 0.5675 - val_loss: 0.7162 - val_acc: 0.5205\n",
      "Epoch 13/25\n",
      "69656/69656 [==============================] - 4s - loss: 0.6613 - acc: 0.5687 - val_loss: 0.7159 - val_acc: 0.5189\n",
      "Epoch 14/25\n",
      "69656/69656 [==============================] - 4s - loss: 0.6608 - acc: 0.5691 - val_loss: 0.7167 - val_acc: 0.5184\n",
      "Epoch 15/25\n",
      "69656/69656 [==============================] - 4s - loss: 0.6604 - acc: 0.5689 - val_loss: 0.7171 - val_acc: 0.5183\n",
      "Epoch 16/25\n",
      "69656/69656 [==============================] - 4s - loss: 0.6598 - acc: 0.5691 - val_loss: 0.7161 - val_acc: 0.5189\n",
      "Epoch 17/25\n",
      "69656/69656 [==============================] - 4s - loss: 0.6593 - acc: 0.5693 - val_loss: 0.7184 - val_acc: 0.5174\n",
      "Epoch 18/25\n",
      "69656/69656 [==============================] - 4s - loss: 0.6589 - acc: 0.5692 - val_loss: 0.7202 - val_acc: 0.5178\n",
      "Epoch 19/25\n",
      "69656/69656 [==============================] - 4s - loss: 0.6583 - acc: 0.5697 - val_loss: 0.7227 - val_acc: 0.5180\n",
      "Epoch 20/25\n",
      "69656/69656 [==============================] - 4s - loss: 0.6576 - acc: 0.5707 - val_loss: 0.7249 - val_acc: 0.5170\n",
      "Epoch 21/25\n",
      "69656/69656 [==============================] - 4s - loss: 0.6568 - acc: 0.5727 - val_loss: 0.7252 - val_acc: 0.5175\n",
      "Epoch 22/25\n",
      "69656/69656 [==============================] - 4s - loss: 0.6569 - acc: 0.5712 - val_loss: 0.7262 - val_acc: 0.5169\n",
      "Epoch 23/25\n",
      "69656/69656 [==============================] - 4s - loss: 0.6564 - acc: 0.5711 - val_loss: 0.7271 - val_acc: 0.5160\n",
      "Epoch 24/25\n",
      "69656/69656 [==============================] - 4s - loss: 0.6559 - acc: 0.5736 - val_loss: 0.7288 - val_acc: 0.5167\n",
      "Epoch 25/25\n",
      "69656/69656 [==============================] - 4s - loss: 0.6554 - acc: 0.5739 - val_loss: 0.7288 - val_acc: 0.5180\n"
     ]
    },
    {
     "data": {
      "text/plain": [
       "<keras.callbacks.History at 0x7f9636984da0>"
      ]
     },
     "execution_count": 115,
     "metadata": {},
     "output_type": "execute_result"
    }
   ],
   "source": [
    "nn1.fit([trn1.player1champid,trn1.player2champid,trn1.player3champid,trn1.player4champid,trn1.player5champid,trn1.player6champid,trn1.player7champid,trn1.player8champid,trn1.player9champid,trn1.player10champid],trn1.team1, batch_size=150, epochs=25, \n",
    "       validation_data=([val1.player1champid,val1.player2champid,val1.player3champid,val1.player4champid,val1.player5champid,val1.player6champid,val1.player7champid,val1.player8champid,val1.player9champid,val1.player10champid],val1.team1))"
   ]
  },
  {
   "cell_type": "markdown",
   "metadata": {},
   "source": [
    "As a baseline, we are getting 53 percent accuracy using champions and their interactions, but we are overfitting hard. \n",
    "Let's test with champions in order of role. "
   ]
  },
  {
   "cell_type": "code",
   "execution_count": 116,
   "metadata": {},
   "outputs": [
    {
     "ename": "NameError",
     "evalue": "name 'matches_sixtwothree' is not defined",
     "output_type": "error",
     "traceback": [
      "\u001b[0;31m---------------------------------------------------------------------------\u001b[0m",
      "\u001b[0;31mNameError\u001b[0m                                 Traceback (most recent call last)",
      "\u001b[0;32m<ipython-input-116-c3ce9123687a>\u001b[0m in \u001b[0;36m<module>\u001b[0;34m()\u001b[0m\n\u001b[0;32m----> 1\u001b[0;31m \u001b[0mrole_data_t1\u001b[0m \u001b[0;34m=\u001b[0m \u001b[0mmatches_sixtwothree\u001b[0m\u001b[0;34m\u001b[0m\u001b[0m\n\u001b[0m",
      "\u001b[0;31mNameError\u001b[0m: name 'matches_sixtwothree' is not defined"
     ]
    }
   ],
   "source": [
    "role_data_t1 = matches_sixtwothree"
   ]
  },
  {
   "cell_type": "code",
   "execution_count": null,
   "metadata": {},
   "outputs": [],
   "source": [
    "def roleprep(df):\n",
    "    for playernum in range(1,6):\n",
    "        playerstrchmp = 'player'+str(playernum)+'champid'\n",
    "        playerslane = 'player'+str(playernum)+'lane'\n",
    "        champid = df[playerstrchmp]\n",
    "        lane =df[playerslane]\n",
    "        if lane!='BOTTOM':\n",
    "            role = lane\n",
    "            rolestr= 'team1'+str(role)\n",
    "            df[rolestr]=champid\n",
    "        else:\n",
    "            playersrole = 'player'+str(playernum)+'role'\n",
    "            role = df[playersrole]\n",
    "            rolestr= 'team1'+str(role)\n",
    "            df[rolestr]=champid\n",
    "    for playernum in range(6,11):\n",
    "        playerstrchmp = 'player'+str(playernum)+'champid'\n",
    "        playerslane = 'player'+str(playernum)+'lane'\n",
    "        champid = df[playerstrchmp]\n",
    "        lane =df[playerslane]\n",
    "        if lane!='BOTTOM':\n",
    "            role = lane\n",
    "            rolestr= 'team2'+str(role)\n",
    "            df[rolestr]=champid\n",
    "        else:\n",
    "            playersrole = 'player'+str(playernum)+'role'\n",
    "            role = df[playersrole]\n",
    "            rolestr= 'team2'+str(role)\n",
    "            df[rolestr]=champid\n",
    "    return df"
   ]
  },
  {
   "cell_type": "code",
   "execution_count": null,
   "metadata": {},
   "outputs": [],
   "source": [
    "testdf= role_data_t1.head()"
   ]
  },
  {
   "cell_type": "code",
   "execution_count": null,
   "metadata": {},
   "outputs": [],
   "source": [
    "testdf.apply(roleprep, axis=1)"
   ]
  },
  {
   "cell_type": "markdown",
   "metadata": {},
   "source": [
    "SO with that test, we are capale of moving things from lane to lane. "
   ]
  },
  {
   "cell_type": "code",
   "execution_count": null,
   "metadata": {},
   "outputs": [],
   "source": [
    "role_data =role_data_t1.apply(roleprep, axis=1)"
   ]
  },
  {
   "cell_type": "code",
   "execution_count": null,
   "metadata": {},
   "outputs": [],
   "source": [
    "role_data.head()"
   ]
  },
  {
   "cell_type": "markdown",
   "metadata": {},
   "source": [
    "We can re-use the architecutre from before. "
   ]
  },
  {
   "cell_type": "code",
   "execution_count": null,
   "metadata": {},
   "outputs": [],
   "source": [
    "x = merge([c1,c2,c3,c4,c5,c6,c7,c8,c9,c10], mode='concat', name='All_Factors_on_one_layer')\n",
    "x = Flatten()(x)\n",
    "x = Dense(45, activation='relu',name='Random_HF_Interactions')(x)\n",
    "x = Dropout(0.50,name='Prevent_overfit1')(x)\n",
    "x = Dense(45, activation='sigmoid',name='Random_HF_Interactions2')(x)\n",
    "x = Dropout(0.50,name='Prevent_overfit2')(x)\n",
    "x = Dense(1,activation='sigmoid',name='Final_Interactions')(x)\n",
    "nn2 = Model([champion_in1,champion_in2,champion_in3,champion_in4,champion_in5,champion_in6,champion_in7,champion_in8,champion_in9,champion_in10 ], x)\n",
    "nn2.compile(Adam(0.001), loss='binary_crossentropy', metrics=['accuracy'])"
   ]
  },
  {
   "cell_type": "code",
   "execution_count": null,
   "metadata": {},
   "outputs": [],
   "source": [
    "role_data.columns"
   ]
  },
  {
   "cell_type": "code",
   "execution_count": null,
   "metadata": {
    "collapsed": true
   },
   "outputs": [],
   "source": [
    "role_data.drop(['team1NONE','team2NONE','team1SOLO','team2SOLO','team1DUO','team2DUO'],axis=1, inplace=True)"
   ]
  },
  {
   "cell_type": "code",
   "execution_count": null,
   "metadata": {},
   "outputs": [],
   "source": [
    "role_data['team1']=role_data['team1_win'].astype('int')\n",
    "role_data['team2']=role_data['team2_win'].astype('int')"
   ]
  },
  {
   "cell_type": "code",
   "execution_count": null,
   "metadata": {
    "collapsed": true
   },
   "outputs": [],
   "source": [
    "role_data.dropna(inplace=True)\n",
    "columnlist=['team1DUO_CARRY','team1DUO_SUPPORT', 'team1JUNGLE', 'team1MIDDLE', 'team1TOP', 'team2DUO_CARRY', 'team2DUO_SUPPORT', 'team2JUNGLE','team2MIDDLE', 'team2TOP']"
   ]
  },
  {
   "cell_type": "code",
   "execution_count": null,
   "metadata": {
    "collapsed": true
   },
   "outputs": [],
   "source": [
    "for playernum in range(0,10):\n",
    "    playerstring= columnlist[playernum]\n",
    "    role_data[playerstring]=role_data[playerstring].apply(lambda x: champs2idx[x])"
   ]
  },
  {
   "cell_type": "code",
   "execution_count": null,
   "metadata": {},
   "outputs": [],
   "source": [
    "msk2 = np.random.rand(len(role_data)) < 0.8 #training vs test set ratio This is the same structure I use in my anime_rec engine\n",
    "trn1 = role_data[msk2]\n",
    "val1 = role_data[~msk2]"
   ]
  },
  {
   "cell_type": "code",
   "execution_count": null,
   "metadata": {},
   "outputs": [],
   "source": [
    "role_data.columns"
   ]
  },
  {
   "cell_type": "code",
   "execution_count": null,
   "metadata": {},
   "outputs": [],
   "source": []
  },
  {
   "cell_type": "code",
   "execution_count": null,
   "metadata": {},
   "outputs": [],
   "source": []
  },
  {
   "cell_type": "code",
   "execution_count": null,
   "metadata": {},
   "outputs": [],
   "source": [
    "nn2.fit([trn1.team1TOP,trn1.team2MIDDLE,trn1.team1JUNGLE,trn1.team1DUO_SUPPORT,trn1.team2DUO_CARRY,trn1.team2TOP,trn1.team2MIDDLE,trn1.team2JUNGLE,trn1.team2DUO_SUPPORT,trn1.team2DUO_CARRY],trn1.team1, batch_size=150, epochs=25, \n",
    "       validation_data=([val1.team1TOP,val1.team2MIDDLE,val1.team1JUNGLE,val1.team1DUO_SUPPORT,val1.team2DUO_CARRY,val1.team2TOP,val1.team2MIDDLE,val1.team2JUNGLE,val1.team2DUO_SUPPORT,val1.team2DUO_CARRY],val1.team1))"
   ]
  },
  {
   "cell_type": "code",
   "execution_count": null,
   "metadata": {
    "collapsed": true
   },
   "outputs": [],
   "source": []
  },
  {
   "cell_type": "code",
   "execution_count": null,
   "metadata": {
    "collapsed": true
   },
   "outputs": [],
   "source": []
  },
  {
   "cell_type": "code",
   "execution_count": null,
   "metadata": {
    "collapsed": true
   },
   "outputs": [],
   "source": [
    "rpst2list = ['player10lane','player10champid','player9lane','player9champid','player8lane','player8champid','player7lane','player7champid','player6lane','player6champid','team2_win']\n",
    "rpst1list = ['player1lane','player1champid','player2lane','player2champid','player3lane','player3champid','player4lane','player4champid','player5lane','player5champid','team1_win']"
   ]
  },
  {
   "cell_type": "code",
   "execution_count": null,
   "metadata": {
    "collapsed": true
   },
   "outputs": [],
   "source": [
    "rps_t1 = matches_sixtwothree[rpst1list]\n",
    "rps_t2 = matches_sixtwothree[rpst2list]"
   ]
  },
  {
   "cell_type": "code",
   "execution_count": null,
   "metadata": {},
   "outputs": [],
   "source": [
    "rps_t2"
   ]
  }
 ],
 "metadata": {
  "kernelspec": {
   "display_name": "Python 3",
   "language": "python",
   "name": "python3"
  },
  "language_info": {
   "codemirror_mode": {
    "name": "ipython",
    "version": 3
   },
   "file_extension": ".py",
   "mimetype": "text/x-python",
   "name": "python",
   "nbconvert_exporter": "python",
   "pygments_lexer": "ipython3",
   "version": "3.5.2"
  }
 },
 "nbformat": 4,
 "nbformat_minor": 2
}
